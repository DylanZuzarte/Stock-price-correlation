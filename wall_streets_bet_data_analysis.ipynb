{
  "cells": [
    {
      "cell_type": "code",
      "execution_count": null,
      "metadata": {
        "_kg_hide-input": true,
        "_kg_hide-output": true,
        "execution": {
          "iopub.execute_input": "2021-02-09T04:43:35.573501Z",
          "iopub.status.busy": "2021-02-09T04:43:35.572704Z",
          "iopub.status.idle": "2021-02-09T04:43:50.768384Z",
          "shell.execute_reply": "2021-02-09T04:43:50.767539Z"
        },
        "papermill": {
          "duration": 15.223446,
          "end_time": "2021-02-09T04:43:50.768602",
          "exception": false,
          "start_time": "2021-02-09T04:43:35.545156",
          "status": "completed"
        },
        "tags": [],
        "colab": {
          "base_uri": "https://localhost:8080/"
        },
        "id": "8UHdUHF2L14o",
        "outputId": "4ee72c5d-f831-465b-905d-f1f2ac411765"
      },
      "outputs": [
        {
          "output_type": "stream",
          "name": "stdout",
          "text": [
            "Looking in indexes: https://pypi.org/simple, https://us-python.pkg.dev/colab-wheels/public/simple/\n",
            "Requirement already satisfied: text2emotion in /usr/local/lib/python3.7/dist-packages (0.0.5)\n",
            "Requirement already satisfied: nltk in /usr/local/lib/python3.7/dist-packages (from text2emotion) (3.7)\n",
            "Requirement already satisfied: emoji>=0.6.0 in /usr/local/lib/python3.7/dist-packages (from text2emotion) (2.2.0)\n",
            "Requirement already satisfied: tqdm in /usr/local/lib/python3.7/dist-packages (from nltk->text2emotion) (4.64.1)\n",
            "Requirement already satisfied: regex>=2021.8.3 in /usr/local/lib/python3.7/dist-packages (from nltk->text2emotion) (2022.6.2)\n",
            "Requirement already satisfied: joblib in /usr/local/lib/python3.7/dist-packages (from nltk->text2emotion) (1.2.0)\n",
            "Requirement already satisfied: click in /usr/local/lib/python3.7/dist-packages (from nltk->text2emotion) (7.1.2)\n",
            "Looking in indexes: https://pypi.org/simple, https://us-python.pkg.dev/colab-wheels/public/simple/\n",
            "Requirement already satisfied: raceplotly in /usr/local/lib/python3.7/dist-packages (0.1.6)\n",
            "Requirement already satisfied: plotly in /usr/local/lib/python3.7/dist-packages (from raceplotly) (5.5.0)\n",
            "Requirement already satisfied: pandas in /usr/local/lib/python3.7/dist-packages (from raceplotly) (1.3.5)\n",
            "Requirement already satisfied: numpy in /usr/local/lib/python3.7/dist-packages (from raceplotly) (1.21.6)\n",
            "Requirement already satisfied: python-dateutil>=2.7.3 in /usr/local/lib/python3.7/dist-packages (from pandas->raceplotly) (2.8.2)\n",
            "Requirement already satisfied: pytz>=2017.3 in /usr/local/lib/python3.7/dist-packages (from pandas->raceplotly) (2022.5)\n",
            "Requirement already satisfied: six>=1.5 in /usr/local/lib/python3.7/dist-packages (from python-dateutil>=2.7.3->pandas->raceplotly) (1.15.0)\n",
            "Requirement already satisfied: tenacity>=6.2.0 in /usr/local/lib/python3.7/dist-packages (from plotly->raceplotly) (8.1.0)\n"
          ]
        }
      ],
      "source": [
        "!pip install text2emotion\n",
        "!pip install raceplotly"
      ]
    },
    {
      "cell_type": "markdown",
      "metadata": {
        "papermill": {
          "duration": 0.023816,
          "end_time": "2021-02-09T04:43:50.817314",
          "exception": false,
          "start_time": "2021-02-09T04:43:50.793498",
          "status": "completed"
        },
        "tags": [],
        "id": "WZkIeUCvL14r"
      },
      "source": [
        "# Wall Street Bets "
      ]
    },
    {
      "cell_type": "markdown",
      "metadata": {
        "papermill": {
          "duration": 0.023528,
          "end_time": "2021-02-09T04:43:50.865418",
          "exception": false,
          "start_time": "2021-02-09T04:43:50.841890",
          "status": "completed"
        },
        "tags": [],
        "id": "3V0uzZfbL14s"
      },
      "source": [
        "![](data:image/jpeg;base64,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)"
      ]
    },
    {
      "cell_type": "markdown",
      "metadata": {
        "papermill": {
          "duration": 0.023404,
          "end_time": "2021-02-09T04:43:50.912846",
          "exception": false,
          "start_time": "2021-02-09T04:43:50.889442",
          "status": "completed"
        },
        "tags": [],
        "id": "4aWJ4NiDL14u"
      },
      "source": [
        "r/wallstreetbets, also known as WallStreetBets or WSB, is a subreddit where participants discuss stock and option trading. It has become notable for its profane nature, aggressive trading strategies, and role in the GameStop short squeeze that caused losses on short positions in U.S. firms topping US$70 billion in a few days in early 2021. The subreddit is famous for its colorful lingo and terms"
      ]
    },
    {
      "cell_type": "markdown",
      "metadata": {
        "papermill": {
          "duration": 0.023455,
          "end_time": "2021-02-09T04:43:50.961626",
          "exception": false,
          "start_time": "2021-02-09T04:43:50.938171",
          "status": "completed"
        },
        "tags": [],
        "id": "j39hlxZEL14u"
      },
      "source": [
        "# Importing the required packages"
      ]
    },
    {
      "cell_type": "markdown",
      "metadata": {
        "papermill": {
          "duration": 0.023612,
          "end_time": "2021-02-09T04:43:51.009226",
          "exception": false,
          "start_time": "2021-02-09T04:43:50.985614",
          "status": "completed"
        },
        "tags": [],
        "id": "a-7cKemTL14u"
      },
      "source": [
        "![](https://media1.tenor.com/images/047e6fd4e7169886e992a8899e62b90b/tenor.gif?itemid=12547153)"
      ]
    },
    {
      "cell_type": "code",
      "execution_count": null,
      "metadata": {
        "_cell_guid": "b1076dfc-b9ad-4769-8c92-a6c4dae69d19",
        "_kg_hide-output": true,
        "_uuid": "8f2839f25d086af736a60e9eeb907d3b93b6e0e5",
        "execution": {
          "iopub.execute_input": "2021-02-09T04:43:51.064367Z",
          "iopub.status.busy": "2021-02-09T04:43:51.063569Z",
          "iopub.status.idle": "2021-02-09T04:43:54.151123Z",
          "shell.execute_reply": "2021-02-09T04:43:54.150331Z"
        },
        "papermill": {
          "duration": 3.11818,
          "end_time": "2021-02-09T04:43:54.151303",
          "exception": false,
          "start_time": "2021-02-09T04:43:51.033123",
          "status": "completed"
        },
        "tags": [],
        "id": "nfBL8c_LL14v"
      },
      "outputs": [],
      "source": [
        "import pandas as pd\n",
        "import numpy as np\n",
        "import matplotlib.pyplot as plt\n",
        "import plotly.express as px\n",
        "import seaborn as sns\n",
        "import text2emotion as te\n",
        "from wordcloud import WordCloud, STOPWORDS, ImageColorGenerator\n",
        "from IPython.display import clear_output\n",
        "import matplotlib.pyplot as plt\n",
        "from raceplotly.plots import barplot"
      ]
    },
    {
      "cell_type": "markdown",
      "metadata": {
        "papermill": {
          "duration": 0.024246,
          "end_time": "2021-02-09T04:43:54.199984",
          "exception": false,
          "start_time": "2021-02-09T04:43:54.175738",
          "status": "completed"
        },
        "tags": [],
        "id": "qITZB7MtL14v"
      },
      "source": [
        "# Importing the data"
      ]
    },
    {
      "cell_type": "code",
      "execution_count": null,
      "metadata": {
        "execution": {
          "iopub.execute_input": "2021-02-09T04:43:54.259323Z",
          "iopub.status.busy": "2021-02-09T04:43:54.258567Z",
          "iopub.status.idle": "2021-02-09T04:43:54.878718Z",
          "shell.execute_reply": "2021-02-09T04:43:54.878163Z"
        },
        "papermill": {
          "duration": 0.654437,
          "end_time": "2021-02-09T04:43:54.878866",
          "exception": false,
          "start_time": "2021-02-09T04:43:54.224429",
          "status": "completed"
        },
        "tags": [],
        "id": "CFWgtNN5L14v"
      },
      "outputs": [],
      "source": [
        "data=pd.read_csv('/content/drive/MyDrive/Colab Notebooks/pbl_dataset(final).csv')"
      ]
    },
    {
      "cell_type": "code",
      "source": [
        "from google.colab import drive\n",
        "drive.mount('/content/drive')"
      ],
      "metadata": {
        "colab": {
          "base_uri": "https://localhost:8080/"
        },
        "id": "F6gqyUB5L7fH",
        "outputId": "341da6d3-1f10-4e2d-8080-21875a25e331"
      },
      "execution_count": null,
      "outputs": [
        {
          "output_type": "stream",
          "name": "stdout",
          "text": [
            "Drive already mounted at /content/drive; to attempt to forcibly remount, call drive.mount(\"/content/drive\", force_remount=True).\n"
          ]
        }
      ]
    },
    {
      "cell_type": "code",
      "execution_count": null,
      "metadata": {
        "execution": {
          "iopub.execute_input": "2021-02-09T04:43:54.940864Z",
          "iopub.status.busy": "2021-02-09T04:43:54.938916Z",
          "iopub.status.idle": "2021-02-09T04:43:54.964609Z",
          "shell.execute_reply": "2021-02-09T04:43:54.963972Z"
        },
        "papermill": {
          "duration": 0.061422,
          "end_time": "2021-02-09T04:43:54.964759",
          "exception": false,
          "start_time": "2021-02-09T04:43:54.903337",
          "status": "completed"
        },
        "tags": [],
        "colab": {
          "base_uri": "https://localhost:8080/",
          "height": 206
        },
        "id": "Yh_xz48oL14w",
        "outputId": "2c9c5361-7771-4cf3-a398-57030981b05b"
      },
      "outputs": [
        {
          "output_type": "execute_result",
          "data": {
            "text/plain": [
              "                                               title   timestamp  Positive  \\\n",
              "0       itnot about the money itabout sendingmessage  2021-01-28  0.000001   \n",
              "1  math professor scott steiner says the numbers ...  2021-01-28  0.000001   \n",
              "2                                    exit the system  2021-01-28  0.000001   \n",
              "3  new sec filing for gme can someone less retard...  2021-01-28  0.138001   \n",
              "4  not to distract from gme just thought our amc ...  2021-01-28  0.119001   \n",
              "\n",
              "    Neutral  Negative  \n",
              "0  1.000001  0.000001  \n",
              "1  0.728001  0.272001  \n",
              "2  1.000001  0.000001  \n",
              "3  0.658001  0.204001  \n",
              "4  0.881001  0.000001  "
            ],
            "text/html": [
              "\n",
              "  <div id=\"df-ad4c4d85-6863-4867-9881-c6a755c1bd10\">\n",
              "    <div class=\"colab-df-container\">\n",
              "      <div>\n",
              "<style scoped>\n",
              "    .dataframe tbody tr th:only-of-type {\n",
              "        vertical-align: middle;\n",
              "    }\n",
              "\n",
              "    .dataframe tbody tr th {\n",
              "        vertical-align: top;\n",
              "    }\n",
              "\n",
              "    .dataframe thead th {\n",
              "        text-align: right;\n",
              "    }\n",
              "</style>\n",
              "<table border=\"1\" class=\"dataframe\">\n",
              "  <thead>\n",
              "    <tr style=\"text-align: right;\">\n",
              "      <th></th>\n",
              "      <th>title</th>\n",
              "      <th>timestamp</th>\n",
              "      <th>Positive</th>\n",
              "      <th>Neutral</th>\n",
              "      <th>Negative</th>\n",
              "    </tr>\n",
              "  </thead>\n",
              "  <tbody>\n",
              "    <tr>\n",
              "      <th>0</th>\n",
              "      <td>itnot about the money itabout sendingmessage</td>\n",
              "      <td>2021-01-28</td>\n",
              "      <td>0.000001</td>\n",
              "      <td>1.000001</td>\n",
              "      <td>0.000001</td>\n",
              "    </tr>\n",
              "    <tr>\n",
              "      <th>1</th>\n",
              "      <td>math professor scott steiner says the numbers ...</td>\n",
              "      <td>2021-01-28</td>\n",
              "      <td>0.000001</td>\n",
              "      <td>0.728001</td>\n",
              "      <td>0.272001</td>\n",
              "    </tr>\n",
              "    <tr>\n",
              "      <th>2</th>\n",
              "      <td>exit the system</td>\n",
              "      <td>2021-01-28</td>\n",
              "      <td>0.000001</td>\n",
              "      <td>1.000001</td>\n",
              "      <td>0.000001</td>\n",
              "    </tr>\n",
              "    <tr>\n",
              "      <th>3</th>\n",
              "      <td>new sec filing for gme can someone less retard...</td>\n",
              "      <td>2021-01-28</td>\n",
              "      <td>0.138001</td>\n",
              "      <td>0.658001</td>\n",
              "      <td>0.204001</td>\n",
              "    </tr>\n",
              "    <tr>\n",
              "      <th>4</th>\n",
              "      <td>not to distract from gme just thought our amc ...</td>\n",
              "      <td>2021-01-28</td>\n",
              "      <td>0.119001</td>\n",
              "      <td>0.881001</td>\n",
              "      <td>0.000001</td>\n",
              "    </tr>\n",
              "  </tbody>\n",
              "</table>\n",
              "</div>\n",
              "      <button class=\"colab-df-convert\" onclick=\"convertToInteractive('df-ad4c4d85-6863-4867-9881-c6a755c1bd10')\"\n",
              "              title=\"Convert this dataframe to an interactive table.\"\n",
              "              style=\"display:none;\">\n",
              "        \n",
              "  <svg xmlns=\"http://www.w3.org/2000/svg\" height=\"24px\"viewBox=\"0 0 24 24\"\n",
              "       width=\"24px\">\n",
              "    <path d=\"M0 0h24v24H0V0z\" fill=\"none\"/>\n",
              "    <path d=\"M18.56 5.44l.94 2.06.94-2.06 2.06-.94-2.06-.94-.94-2.06-.94 2.06-2.06.94zm-11 1L8.5 8.5l.94-2.06 2.06-.94-2.06-.94L8.5 2.5l-.94 2.06-2.06.94zm10 10l.94 2.06.94-2.06 2.06-.94-2.06-.94-.94-2.06-.94 2.06-2.06.94z\"/><path d=\"M17.41 7.96l-1.37-1.37c-.4-.4-.92-.59-1.43-.59-.52 0-1.04.2-1.43.59L10.3 9.45l-7.72 7.72c-.78.78-.78 2.05 0 2.83L4 21.41c.39.39.9.59 1.41.59.51 0 1.02-.2 1.41-.59l7.78-7.78 2.81-2.81c.8-.78.8-2.07 0-2.86zM5.41 20L4 18.59l7.72-7.72 1.47 1.35L5.41 20z\"/>\n",
              "  </svg>\n",
              "      </button>\n",
              "      \n",
              "  <style>\n",
              "    .colab-df-container {\n",
              "      display:flex;\n",
              "      flex-wrap:wrap;\n",
              "      gap: 12px;\n",
              "    }\n",
              "\n",
              "    .colab-df-convert {\n",
              "      background-color: #E8F0FE;\n",
              "      border: none;\n",
              "      border-radius: 50%;\n",
              "      cursor: pointer;\n",
              "      display: none;\n",
              "      fill: #1967D2;\n",
              "      height: 32px;\n",
              "      padding: 0 0 0 0;\n",
              "      width: 32px;\n",
              "    }\n",
              "\n",
              "    .colab-df-convert:hover {\n",
              "      background-color: #E2EBFA;\n",
              "      box-shadow: 0px 1px 2px rgba(60, 64, 67, 0.3), 0px 1px 3px 1px rgba(60, 64, 67, 0.15);\n",
              "      fill: #174EA6;\n",
              "    }\n",
              "\n",
              "    [theme=dark] .colab-df-convert {\n",
              "      background-color: #3B4455;\n",
              "      fill: #D2E3FC;\n",
              "    }\n",
              "\n",
              "    [theme=dark] .colab-df-convert:hover {\n",
              "      background-color: #434B5C;\n",
              "      box-shadow: 0px 1px 3px 1px rgba(0, 0, 0, 0.15);\n",
              "      filter: drop-shadow(0px 1px 2px rgba(0, 0, 0, 0.3));\n",
              "      fill: #FFFFFF;\n",
              "    }\n",
              "  </style>\n",
              "\n",
              "      <script>\n",
              "        const buttonEl =\n",
              "          document.querySelector('#df-ad4c4d85-6863-4867-9881-c6a755c1bd10 button.colab-df-convert');\n",
              "        buttonEl.style.display =\n",
              "          google.colab.kernel.accessAllowed ? 'block' : 'none';\n",
              "\n",
              "        async function convertToInteractive(key) {\n",
              "          const element = document.querySelector('#df-ad4c4d85-6863-4867-9881-c6a755c1bd10');\n",
              "          const dataTable =\n",
              "            await google.colab.kernel.invokeFunction('convertToInteractive',\n",
              "                                                     [key], {});\n",
              "          if (!dataTable) return;\n",
              "\n",
              "          const docLinkHtml = 'Like what you see? Visit the ' +\n",
              "            '<a target=\"_blank\" href=https://colab.research.google.com/notebooks/data_table.ipynb>data table notebook</a>'\n",
              "            + ' to learn more about interactive tables.';\n",
              "          element.innerHTML = '';\n",
              "          dataTable['output_type'] = 'display_data';\n",
              "          await google.colab.output.renderOutput(dataTable, element);\n",
              "          const docLink = document.createElement('div');\n",
              "          docLink.innerHTML = docLinkHtml;\n",
              "          element.appendChild(docLink);\n",
              "        }\n",
              "      </script>\n",
              "    </div>\n",
              "  </div>\n",
              "  "
            ]
          },
          "metadata": {},
          "execution_count": 13
        }
      ],
      "source": [
        "data.head()"
      ]
    },
    {
      "cell_type": "markdown",
      "metadata": {
        "papermill": {
          "duration": 0.025193,
          "end_time": "2021-02-09T04:43:55.015061",
          "exception": false,
          "start_time": "2021-02-09T04:43:54.989868",
          "status": "completed"
        },
        "tags": [],
        "id": "oygTpYXQL14w"
      },
      "source": [
        "# What is the distribution of title length in the data??"
      ]
    },
    {
      "cell_type": "code",
      "execution_count": null,
      "metadata": {
        "_kg_hide-input": true,
        "execution": {
          "iopub.execute_input": "2021-02-09T04:43:55.083079Z",
          "iopub.status.busy": "2021-02-09T04:43:55.077732Z",
          "iopub.status.idle": "2021-02-09T04:43:56.431051Z",
          "shell.execute_reply": "2021-02-09T04:43:56.429890Z"
        },
        "papermill": {
          "duration": 1.390832,
          "end_time": "2021-02-09T04:43:56.431338",
          "exception": false,
          "start_time": "2021-02-09T04:43:55.040506",
          "status": "completed"
        },
        "tags": [],
        "colab": {
          "base_uri": "https://localhost:8080/",
          "height": 542
        },
        "id": "nrG6J3OjL14w",
        "outputId": "0d4ce239-bf75-43c6-e6d2-42553427ce08"
      },
      "outputs": [
        {
          "output_type": "display_data",
          "data": {
            "text/html": [
              "<html>\n",
              "<head><meta charset=\"utf-8\" /></head>\n",
              "<body>\n",
              "    <div>            <script src=\"https://cdnjs.cloudflare.com/ajax/libs/mathjax/2.7.5/MathJax.js?config=TeX-AMS-MML_SVG\"></script><script type=\"text/javascript\">if (window.MathJax) {MathJax.Hub.Config({SVG: {font: \"STIX-Web\"}});}</script>                <script type=\"text/javascript\">window.PlotlyConfig = {MathJaxConfig: 'local'};</script>\n",
              "        <script src=\"https://cdn.plot.ly/plotly-2.8.3.min.js\"></script>                <div id=\"61711d25-78bd-43fd-8ac1-b847df543118\" class=\"plotly-graph-div\" style=\"height:525px; width:100%;\"></div>            <script type=\"text/javascript\">                                    window.PLOTLYENV=window.PLOTLYENV || {};                                    if (document.getElementById(\"61711d25-78bd-43fd-8ac1-b847df543118\")) {                    Plotly.newPlot(                        \"61711d25-78bd-43fd-8ac1-b847df543118\",                        [{\"alignmentgroup\":\"True\",\"bingroup\":\"x\",\"hovertemplate\":\"variable=len<br>value=%{x}<br>count=%{y}<extra></extra>\",\"legendgroup\":\"len\",\"marker\":{\"color\":\"#636efa\",\"pattern\":{\"shape\":\"\"}},\"name\":\"len\",\"offsetgroup\":\"len\",\"orientation\":\"v\",\"showlegend\":true,\"x\":[6,12,3,13,15,3,6,4,15,11,12,4,16,15,4,4,5,12,11,7,11,24,8,9,8,7,9,11,14,9,7,25,7,33,12,9,11,3,3,7,8,2,14,19,14,4,16,8,12,1,3,4,21,11,8,11,6,23,11,16,9,11,17,5,19,8,25,15,4,12,11,27,4,18,2,6,5,11,19,17,7,33,5,2,6,5,7,10,8,7,6,8,12,5,13,11,9,40,23,15,16,10,27,8,12,6,21,18,4,7,9,11,17,7,4,8,18,25,43,12,4,18,21,9,8,50,15,14,10,12,3,22,7,3,5,5,13,3,7,10,3,14,20,10,6,17,9,8,11,6,10,12,13,5,4,9,2,46,16,6,6,7,38,5,21,7,19,5,5,5,10,5,24,8,8,4,4,3,3,8,7,8,13,9,9,5,6,9,7,10,8,27,4,15,20,4,5,3,18,9,4,20,13,16,16,16,13,23,8,15,19,17,23,3,4,4,14,4,14,6,3,17,14,35,19,5,4,4,4,5,33,5,15,14,6,4,19,3,9,4,8,48,9,5,6,8,6,12,8,11,9,3,3,6,13,17,10,11,8,3,1,5,3,6,6,26,9,4,3,33,12,6,3,5,3,6,38,12,6,4,10,29,15,4,10,20,2,12,4,22,5,10,16,27,46,1,8,22,10,10,12,5,2,4,6,1,10,1,8,12,15,5,3,3,10,18,5,11,7,31,12,3,3,27,6,19,14,11,4,10,1,12,11,15,7,1,6,7,5,7,6,17,11,16,5,3,6,12,5,5,8,12,4,4,6,4,1,2,5,1,3,13,7,20,1,4,6,11,21,14,10,11,3,8,4,2,48,4,1,20,13,8,16,15,6,4,1,10,27,11,18,4,23,3,1,2,4,15,2,12,1,16,8,4,2,8,2,3,13,6,5,14,20,16,22,4,20,8,5,7,3,3,27,4,2,5,2,4,4,5,1,7,3,1,3,1,7,8,2,48,2,7,6,18,1,5,6,5,3,25,10,10,8,11,32,1,9,12,9,3,13,11,2,4,5,3,44,5,9,16,18,9,17,1,21,6,16,6,7,5,5,8,6,14,11,14,15,1,12,3,1,4,10,10,3,14,5,10,7,4,4,3,17,35,3,11,18,2,3,11,4,1,17,42,15,14,13,6,3,25,3,5,6,7,19,7,11,4,5,12,2,12,6,3,5,5,9,5,7,5,3,8,5,4,6,3,10,11,6,5,10,16,7,4,6,9,6,24,46,14,14,9,36,10,6,3,8,23,10,4,6,13,5,18,1,5,5,7,5,9,1,14,1,10,11,11,2,3,2,8,35,10,6,12,2,15,4,5,2,5,13,18,22,7,10,11,7,20,17,7,8,4,8,5,15,3,18,3,2,15,7,9,3,16,5,1,2,7,8,13,2,2,4,4,15,2,4,6,4,7,8,2,1,22,1,5,12,13,10,17,12,25,10,34,4,3,6,12,9,13,5,8,3,8,5,8,6,1,3,3,2,3,15,24,5,5,3,43,5,20,4,19,26,19,2,12,4,3,7,2,4,2,1,5,41,11,7,10,5,2,6,13,2,14,25,19,5,14,9,10,3,3,6,15,21,4,11,9,5,27,6,10,3,4,5,34,21,1,16,2,4,9,2,19,15,3,4,4,3,4,4,6,5,6,2,3,5,7,4,7,7,11,4,17,1,2,5,2,5,4,3,18,1,3,2,1,7,8,6,26,2,5,3,2,5,9,15,25,7,5,5,6,9,13,10,6,1,16,11,2,5,21,1,2,15,4,31,16,1,2,7,2,1,3,47,15,4,2,2,8,25,3,3,25,11,5,2,7,28,8,1,22,5,6,1,7,9,6,9,3,8,6,6,4,8,3,1,6,8,18,7,22,5,3,4,5,9,4,5,12,6,5,12,5,4,5,2,4,2,22,1,5,2,4,8,7,6,4,11,5,13,11,24,3,17,7,5,4,23,1,10,26,25,13,3,3,3,12,7,17,8,1,4,4,2,18,40,3,24,3,7,5,8,11,16,20,5,18,19,3,1,29,17,2,3,6,9,9,4,1,5,26,7,6,4,9,18,4,40,6,16,8,33,3,4,9,18,6,31,3,3,7,8,20,9,15,25,3,8,1,11,2,3,15,5,10,4,1,26,6,5,5,6,25,10,4,10,12,10,11,8,3,33,8,6,7,8,7,5,5,14,1,22,3,1,1,6,3,9,4,8,3,6,4,3,13,8,4,2,9,5,21,3,3,3,6,26,6,11,8,10,2,7,10,4,21,7,4,11,21,16,31,3,5,23,6,2,13,7,6,5,1,3,1,9,3,19,15,6,11,28,6,8,7,1,9,8,5,21,2,7,19,12,4,13,9,8,6,3,4,6,27,10,14,5,10,8,7,15,15,15,5,24,8,10,10,6,4,7,19,4,3,13,11,17,19,1,2,2,7,26,2,19,6,3,4,9,16,4,8,55,6,2,11,5,26,2,20,16,3,1,8,17,11,3,11,5,15,5,7,3,6,28,24,6,6,5,7,5,46,15,1,2,5,3,17,1,2,2,4,1,13,10,1,5,10,3,13,6,9,8,4,3,10,9,4,7,11,5,8,3,3,11,20,10,5,4,4,4,7,6,6,9,6,15,1,8,1,15,9,7,10,3,1,19,21,4,2,18,9,10,10,2,1,20,7,8,6,1,1,4,3,9,9,21,4,7,4,7,6,12,3,14,9,5,30,7,12,12,6,4,7,5,3,14,7,7,6,8,6,11,11,8,23,3,1,9,12,3,11,3,13,12,26,5,13,5,14,27,19,8,5,1,8,7,4,1,3,1,2,6,8,4,22,2,19,4,11,13,1,2,4,10,1,5,2,10,3,2,7,4,2,8,5,6,4,1,6,17,4,4,6,14,8,9,14,16,4,4,23,4,22,7,11,5,4,3,12,3,15,3,8,9,5,16,2,2,21,4,2,4,3,5,7,9,2,6,11,3,1,5,16,6,39,46,1,32,4,8,10,26,6,1,14,7,4,6,8,4,6,1,12,7,2,8,7,33,5,12,6,7,5,20,47,2,10,7,12,3,5,7,7,2,7,6,12,8,6,4,2,6,1,13,5,1,3,2,4,25,4,2,5,17,3,4,17,4,11,9,6,3,3,2,2,11,3,13,7,10,2,3,19,15,17,7,6,5,6,1,3,20,13,10,15,2,13,7,46,2,3,5,8,3,3,2,11,11,5,15,17,18,1,44,20,25,4,1,1,11,10,1,4,8,11,1,9,7,47,9,3,6,7,5,5,6,12,7,11,15,2,8,17,1,4,7,16,22,5,16,8,1,7,11,7,14,19,9,8,2,3,2,2,7,6,30,2,9,3,9,7,7,22,18,6,6,1,12,20,8,8,2,29,9,8,8,17,2,9,3,29,1,5,6,4,1,3,13,21,7,4,10,29,1,24,12,1,21,8,7,3,2,4,4,3,2,28,7,23,4,9,8,9,11,10,10,10,5,4,7,2,1,4,8,12,13,15,10,18,2,7,10,4,10,6,14,1,4,4,5,4,10,15,12,9,2,11,5,9,4,3,10,6,12,31,16,8,8,30,13,17,3,1,8,12,6,5,3,9,10,4,1,8,1,2,10,11,7,6,13,1,12,5,15,2,1,9,1,8,9,12,5,9,4,5,3,2,4,16,1,8,7,13,4,5,6,11,15,43,9,9,9,7,4,4,11,3,28,9,3,19,10,8,17,9,1,8,8,6,3,1,7,4,6,1,7,7,2,32,17,4,1,2,1,2,6,3,6,8,13,3,7,9,1,5,12,18,19,3,3,4,1,5,8,7,7,11,9,3,1,25,1,16,3,21,6,2,2,2,9,18,14,4,4,6,8,4,8,4,2,4,2,11,19,42,6,6,4,1,3,7,3,6,8,5,5,8,5,7,8,1,4,11,13,12,6,2,5,4,7,13,3,14,20,10,9,2,3,5,14,5,4,5,2,6,3,27,4,7,6,1,11,3,3,4,5,5,3,3,10,17,10,1,1,5,18,9,14,1,19,6,6,8,3,6,5,7,8,3,2,11,4,9,2,2,1,3,17,2,6,4,6,2,1,3,5,5,2,7,12,25,12,7,3,9,9,3,24,2,14,6,13,12,6,10,6,11,2,3,5,13,18,15,1,7,3,3,4,1,8,27,9,7,10,3,2,1,4,2,1,5,3,25,12,5,11,18,5,4,7,1,18,5,1,12,9,14,8,6,1,7,3,12,20,7,4,3,11,9,6,18,1,6,1,1,7,20,3,25,12,4,7,5,8,8,6,17,1,2,8,3,6,15,7,6,4,12,8,1,4,16,6,3,4,2,12,1,1,12,11,7,2,11,3,2,5,3,1,5,4,3,9,1,5,11,4,18,4,5,1,5,1,2,10,1,19,4,4,24,15,6,11,11,6,8,15,22,19,13,14,4,2,3,15,17,12,1,2,9,6,37,17,3,3,7,8,5,3,6,14,5,3,3,4,13,13,26,15,8,14,5,5,2,7,16,8,1,7,7,2,3,14,13,12,2,14,7,4,7,5,4,5,3,11,1,2,4,28,6,1,4,2,1,26,5,7,2,24,1,4,1,1,44,6,8,7,9,44,40,7,4,5,5,4,1,1,10,24,7,5,4,4,2,1,5,6,6,1,5,3,9,9,9,11,4,2,3,5,2,6,22,10,1,6,3,4,9,10,6,10,19,1,5,5,11,12,3,7,6,14,5,2,34,9,6,5,1,18,6,8,4,3,16,4,6,16,9,7,15,1,12,10,4,8,28,11,11,6,1,1,4,1,3,14,9,1,1,7,2,3,1,4,9,6,4,5,10,3,6,25,1,3,3,1,4,3,3,7,5,15,7,8,5,1,5,7,2,3,3,6,12,30,6,12,11,14,7,2,1,4,8,12,3,12,2,7,5,2,20,20,11,2,22,2,4,5,3,18,7,1,2,6,7,3,6,2,12,8,4,8,4,4,5,5,27,6,6,4,2,3,3,4,19,1,2,5,7,2,19,8,1,4,1,4,6,1,6,14,14,3,7,4,12,22,21,21,2,10,4,2,3,3,8,8,5,4,3,6,6,13,17,7,10,13,11,8,17,10,4,1,7,14,6,24,1,6,13,1,1,3,5,3,12,1,21,6,2,1,5,4,12,17,4,9,6,6,4,6,1,1,3,13,26,3,13,7,9,6,1,2,8,4,1,7,6,2,7,8,5,10,4,2,19,2,3,16,10,4,1,6,6,8,1,6,8,8,1,3,4,21,6,20,2,9,1,4,1,33,3,16,7,15,16,12,17,11,12,31,26,1,14,1,18,3,9,3,4,8,10,38,3,1,1,8,1,2,6,4,21,1,5,9,4,2,5,20,6,3,10,3,4,17,4,9,12,12,7,5,7,6,12,3,7,5,3,9,14,5,6,3,1,2,8,3,11,10,6,12,1,6,9,4,4,9,8,6,5,2,13,7,3,1,4,3,7,6,3,6,29,1,3,6,5,7,12,3,13,6,4,1,24,5,7,19,14,5,1,13,6,3,13,7,3,11,3,2,11,19,2,1,1,9,14,1,1,1,5,10,5,7,8,16,9,5,25,5,4,1,1,27,5,5,3,20,3,2,12,11,3,43,8,7,5,6,19,4,8,7,12,2,20,3,2,5,8,4,5,7,3,9,9,3,23,18,4,13,9,9,4,1,3,17,6,8,6,2,13,5,13,4,4,8,8,7,7,2,3,4,1,4,2,34,5,4,22,5,1,11,22,3,12,1,3,13,3,2,10,1,2,2,1,3,8,14,13,2,2,6,14,1,10,18,7,5,5,5,27,5,4,7,4,2,11,35,7,3,6,6,6,9,4,11,1,8,9,13,4,5,12,4,4,13,2,17,2,1,24,10,8,7,9,2,3,5,10,3,12,12,8,4,47,5,1,6,5,8,1,14,8,9,7,22,1,13,4,5,3,12,1,8,1,5,8,12,2,14,6,34,7,5,5,12,15,6,7,6,6,8,4,5,4,53,9,4,2,10,19,30,9,10,1,8,12,2,1,7,8,8,5,3,13,1,12,2,4,12,8,3,12,9,9,2,5,3,6,36,7,5,6,29,15,8,47,5,6,4,10,7,17,14,3,1,6,12,12,1,12,6,6,7,2,4,2,18,6,14,5,4,3,3,8,5,2,2,5,5,2,3,10,3,5,19,8,5,18,5,11,5,7,29,6,14,13,2,6,12,1,1,3,2,5,2,24,5,4,17,8,7,3,4,3,5,8,1,4,6,9,17,15,6,8,8,6,8,12,4,3,13,13,12,10,1,5,4,2,16,13,7,10,2,37,9,15,4,3,9,8,4,3,4,3,32,17,3,5,2,7,3,9,4,4,7,7,8,5,3,9,8,11,15,13,7,12,12,7,11,11,5,23,2,8,4,5,13,4,6,7,14,5,27,13,8,4,4,12,3,15,15,4,2,3,6,2,5,6,20,13,14,6,8,2,2,4,12,11,12,1,4,2,6,19,14,5,6,3,2,6,7,22,20,8,2,21,1,12,22,2,4,5,7,11,4,2,12,3,3,3,15,17,8,23,6,2,4,6,2,41,17,13,2,10,31,5,3,5,11,4,6,9,5,4,29,3,3,6,9,7,7,6,4,13,16,7,3,7,2,11,8,13,6,12,10,15,1,3,4,4,3,7,4,8,1,4,1,2,4,8,10,8,4,15,1,13,2,10,16,6,7,10,2,52,3,10,9,4,22,4,21,5,12,11,3,2,14,4,5,3,28,1,5,15,4,10,3,8,4,6,14,10,7,5,4,6,7,24,10,7,13,10,9,13,3,5,14,8,2,2,15,5,6,41,3,14,19,2,10,16,7,3,1,6,6,10,6,5,16,6,10,1,8,2,7,6,1,2,2,10,3,1,13,3,1,3,1,12,2,12,4,7,3,2,1,10,25,4,9,2,6,2,7,31,10,1,2,5,5,9,3,8,3,10,10,19,12,14,3,14,19,1,6,8,1,24,1,1,5,19,6,17,5,21,20,9,22,5,2,6,12,1,7,8,6,1,12,2,7,3,3,9,1,7,6,1,1,1,5,8,17,7,5,1,1,3,3,2,5,4,3,10,9,19,3,8,15,19,2,16,4,4,2,2,6,5,5,3,10,4,1,24,1,3,4,3,8,13,9,12,5,7,8,6,9,10,9,1,2,5,4,27,9,1,10,2,2,9,5,9,3,9,3,12,5,1,2,14,2,2,7,4,5,24,7,5,12,21,9,11,5,1,3,5,9,9,9,3,8,2,22,7,2,2,7,30,9,5,10,5,3,9,12,2,12,18,16,14,5,5,6,7,26,2,4,5,4,6,1,15,6,3,18,4,4,9,16,6,6,10,4,7,12,5,1,12,4,3,10,4,2,13,13,1,5,13,6,6,5,15,16,8,20,9,22,3,3,7,13,7,14,10,2,3,10,14,6,4,4,15,14,5,6,8,1,2,5,15,9,6,8,7,7,1,26,9,11,3,21,3,40,2,1,4,5,3,2,4,1,6,6,9,8,4,3,5,10,3,10,11,7,7,6,18,1,1,2,10,6,5,4,9,14,2,5,7,10,6,19,11,3,9,18,4,6,7,29,2,3,2,28,4,1,19,4,6,4,12,4,3,7,14,2,8,5,2,3,4,40,34,10,4,9,12,4,10,1,8,6,14,31,2,30,4,7,4,8,5,5,3,6,8,9,4,3,4,1,3,6,29,7,4,2,6,2,4,1,3,1,1,7,11,6,2,9,17,5,3,4,5,33,2,4,1,6,6,4,5,26,13,7,21,3,6,7,7,5,4,2,12,8,3,6,4,41,21,4,13,5,6,2,4,13,7,4,1,6,15,3,7,10,2,7,6,4,5,1,4,11,5,2,3,6,5,10,4,6,6,2,4,2,7,7,9,8,12,2,2,10,1,4,1,1,7,1,9,2,3,14,5,5,7,8,6,9,2,1,16,15,4,1,14,1,5,1,1,16,18,3,1,1,6,16,33,7,16,5,12,4,4,2,3,1,11,8,1,4,9,3,3,5,10,12,5,5,5,11,4,2,8,5,4,8,2,4,9,9,10,1,3,6,1,13,7,4,12,5,1,22,9,1,8,1,4,13,1,11,3,1,1,1,2,4,4,13,14,2,5,7,23,3,13,6,1,5,18,6,6,7,13,15,6,6,5,8,5,16,1,6,6,13,1,7,8,4,5,7,14,3,7,5,18,3,8,10,6,4,5,5,7,15,4,1,13,4,2,2,3,4,5,1,1,6,9,10,4,3,16,6,5,11,3,9,1,4,7,6,5,13,2,1,3,12,4,7,4,9,5,5,6,5,9,1,3,8,12,8,13,8,4,4,9,4,3,1,12,3,15,14,12,9,5,11,2,3,20,5,8,1,2,4,8,9,13,12,4,7,7,2,2,5,11,7,4,23,9,3,9,8,3,6,3,6,4,2,7,18,18,6,19,2,5,4,5,5,2,5,15,18,4,23,15,16,1,8,2,9,4,29,2,20,4,3,4,5,10,25,5,4,4,10,15,3,30,1,21,4,6,6,3,4,5,19,19,3,6,1,1,5,1,16,2,4,2,9,1,3,7,21,8,6,2,1,18,7,10,11,9,8,7,2,16,7,10,2,8,3,9,3,5,1,5,4,5,4,8,3,7,4,9,3,8,3,12,11,5,30,6,10,11,10,7,8,9,4,2,3,5,5,6,1,6,17,4,5,6,2,5,6,5,7,15,10,5,1,1,5,3,7,3,11,5,3,1,5,2,1,17,16,3,21,4,4,4,4,20,2,3,2,26,2,5,7,20,6,22,5,20,3,18,4,32,12,4,25,6,1,7,1,19,1,1,1,5,19,10,14,1,7,2,1,11,10,2,2,4,9,25,6,6,3,9,1,7,8,5,1,14,4,2,6,12,1,10,6,5,5,7,13,3,10,4,2,9,9,25,3,5,7,3,10,4,5,4,8,8,15,6,2,11,5,30,3,2,2,6,8,1,12,8,22,3,3,5,10,2,5,5,6,5,5,2,3,9,2,8,7,3,17,16,9,49,9,11,8,34,1,5,8,4,24,11,4,3,2,8,25,5,6,7,3,9,5,32,5,21,14,14,2,3,5,5,16,6,1,16,5,6,1,27,3,5,4,6,7,16,9,28,4,7,7,16,5,3,6,14,6,21,2,8,10,6,8,1,8,2,4,9,6,22,3,2,40,8,4,5,4,3,1,17,14,5,1,7,2,6,5,3,6,4,7,4,11,6,3,1,14,11,3,9,1,27,5,3,4,3,39,3,4,8,7,1,1,5,19,11,4,7,16,2,6,16,4,37,1,45,6,14,2,4,2,3,10,1,15,1,2,1,15,2,30,8,27,30,9,3,12,8,1,2,6,4,1,8,4,9,7,7,5,11,6,20,5,15,5,12,15,3,3,17,1,3,3,11,13,2,6,12,8,2,3,1,2,5,8,3,11,5,2,30,4,4,18,19,2,6,5,2,8,12,12,3,38,5,11,4,10,18,7,28,6,20,9,8,2,6,14,5,8,22,18,11,3,2,1,19,5,1,50,15,27,9,7,3,10,5,1,3,9,12,4,2,1,7,4,4,5,7,29,9,10,8,6,4,2,14,8,3,14,6,2,1,1,11,31,19,7,17,24,8,9,16,2,3,4,2,20,17,6,2,32,19,1,2,7,5,12,4,3,13,9,9,1,7,8,5,6,6,4,5,6,6,1,3,17,1,13,2,2,1,7,9,1,6,4,6,12,1,5,12,16,17,4,12,5,5,3,3,51,9,2,13,7,2,4,9,20,15,4,3,7,13,5,6,3,12,12,4,5,28,5,4,6,10,5,10,10,11,2,10,9,2,11,4,5,2,6,4,19,22,2,9,10,11,22,5,1,11,42,11,6,22,13,13,12,4,7,3,3,5,8,12,6,5,10,14,5,10,16,1,1,4,1,9,5,6,4,9,8,8,2,4,2,1,17,12,49,3,4,8,10,2,10,47,11,1,18,13,3,2,19,15,5,30,12,1,12,21,18,6,20,1,5,10,6,14,2,4,8,9,1,19,2,10,26,2,5,4,4,2,1,10,5,12,12,21,10,1,10,4,4,6,7,5,3,7,7,7,3,6,5,15,13,4,5,3,7,19,11,3,3,6,8,14,16,5,6,6,38,7,3,13,5,10,3,9,2,4,6,8,8,1,11,4,5,11,7,5,5,7,5,5,6,11,1,7,5,5,3,9,4,5,5,18,17,2,13,5,8,3,2,3,6,10,4,9,6,9,10,8,5,13,1,5,4,14,6,5,10,7,5,6,4,3,4,9,9,5,6,3,10,3,3,4,13,9,15,27,11,4,21,6,1,1,4,4,25,2,10,31,1,24,5,9,9,5,2,37,18,8,9,4,30,4,2,1,3,11,4,8,9,5,8,15,10,1,4,8,1,10,6,7,4,12,5,27,4,7,4,7,12,27,7,8,17,3,4,1,10,14,12,1,2,4,3,10,6,5,1,4,3,15,10,13,11,3,2,4,2,4,3,4,1,7,10,10,19,18,20,10,5,8,5,9,4,2,6,2,3,8,6,12,4,21,9,13,43,4,5,5,3,1,6,8,10,4,1,1,6,8,7,11,4,1,3,3,5,6,3,6,7,8,14,2,6,5,4,3,14,1,4,11,9,14,7,2,10,6,25,11,13,3,5,7,2,9,14,1,6,1,3,19,8,1,7,4,3,11,4,4,16,4,5,1,8,6,6,20,7,6,9,3,21,23,3,13,1,4,2,8,4,5,2,3,2,1,1,16,8,24,13,15,6,8,5,6,8,14,4,5,8,3,4,13,3,6,4,1,2,15,5,3,5,12,17,9,12,10,7,2,15,8,6,20,1,4,9,8,29,5,3,14,1,4,1,1,2,2,15,12,4,1,19,4,5,11,6,6,9,9,3,1,6,1,18,3,5,7,2,10,4,1,9,7,5,10,3,10,11,5,7,5,6,12,2,5,1,1,7,1,27,8,7,14,4,1,9,12,1,4,7,7,1,11,7,12,15,6,5,8,2,11,13,3,21,9,5,1,5,20,5,5,7,3,11,3,3,26,5,11,6,1,5,7,8,9,16,11,3,2,4,7,4,10,5,27,3,9,1,22,2,5,12,3,7,5,19,3,3,7,3,1,5,8,4,10,15,2,6,4,7,7,13,1,4,1,4,3,25,16,10,2,2,4,10,12,3,6,5,3,7,6,8,5,1,3,5,2,23,7,2,7,3,9,12,9,3,45,13,3,13,3,2,14,7,1,4,11,4,4,9,8,5,1,4,1,22,9,3,5,11,19,1,4,25,2,17,6,2,32,6,3,8,31,5,2,2,11,1,6,1,8,13,9,3,5,1,26,14,44,3,13,4,17,16,6,13,17,4,16,6,9,4,23,29,21,3,1,5,4,8,3,4,10,2,5,11,5,2,1,21,12,8,13,5,14,2,8,5,7,9,5,6,12,10,5,3,25,8,14,5,2,6,9,2,2,9,10,14,3,3,7,7,6,18,7,1,4,3,1,3,4,5,3,6,5,4,3,3,1,3,3,4,18,3,1,4,26,2,10,11,3,3,13,3,3,6,11,7,8,2,4,7,7,3,15,19,12,15,11,6,2,4,5,12,11,7,20,1,23,8,5,3,6,7,7,12,36,42,6,7,4,3,2,1,7,5,3,42,4,13,6,2,6,6,1,9,25,1,7,23,13,8,3,2,26,3,7,1,4,5,1,4,9,3,2,10,14,5,7,18,1,4,13,4,7,10,6,7,4,9,9,9,6,14,9,9,1,38,7,10,37,17,3,4,5,4,7,2,22,11,4,12,6,23,4,4,6,8,1,5,47,1,10,4,12,7,4,9,2,1,25,9,6,9,19,3,7,25,1,44,3,14,5,9,29,14,16,9,1,2,4,5,3,2,50,1,7,3,5,4,5,10,11,27,10,11,5,2,5,2,1,7,3,7,21,7,4,4,11,25,5,6,4,14,1,10,6,3,3,8,7,3,3,6,7,5,4,1,4,8,24,2,1,2,2,6,7,5,3,2,10,14,7,7,6,2,3,2,8,13,11,7,5,4,5,3,2,29,4,5,2,11,6,17,3,16,5,30,6,2,5,10,9,10,16,6,6,1,5,6,3,15,5,3,3,26,4,7,3,32,2,3,2,24,12,12,13,8,2,7,4,8,3,6,5,2,3,4,5,3,7,9,7,31,18,52,21,2,10,4,12,10,12,13,15,1,8,4,19,4,4,5,2,7,9,6,5,19,12,8,11,5,3,3,24,26,6,9,1,2,4,2,2,16,6,13,2,1,5,9,2,11,5,4,14,19,14,10,9,4,11,2,17,6,9,7,1,2,4,3,6,1,4,3,10,1,7,1,28,8,10,9,8,3,4,18,3,11,9,9,1,20,15,4,3,8,2,1,3,27,1,4,3,8,8,2,9,8,9,14,2,16,1,3,9,3,1,24,5,7,13,12,8,5,1,3,10,24,3,12,1,8,19,21,13,5,8,17,4,11,5,12,7,11,3,19,7,21,8,24,7,7,4,4,3,10,2,4,1,2,1,7,4,2,12,2,6,4,6,3,20,15,11,1,4,7,11,11,3,15,1,3,1,4,18,16,8,2,2,3,8,20,3,5,8,5,4,30,10,9,4,6,2,2,4,15,3,4,5,1,9,7,10,2,4,41,10,3,10,13,8,7,6,4,6,23,20,6,11,2,4,14,2,5,9,6,3,4,6,4,19,3,8,4,6,3,4,4,1,3,8,2,12,4,5,1,2,2,7,4,2,22,7,9,1,4,1,4,24,9,5,4,8,4,5,3,3,6,5,7,8,9,9,19,6,2,2,18,7,6,19,4,9,24,12,2,1,10,6,5,5,3,11,7,4,15,4,16,12,10,5,5,13,8,5,5,3,18,9,1,1,6,11,3,11,4,6,5,4,8,4,14,5,7,5,4,2,12,5,2,5,4,5,6,13,7,6,8,13,5,5,8,3,7,4,14,2,12,6,7,5,4,28,25,2,15,6,11,10,3,5,9,20,1,9,11,5,13,3,6,15,3,11,3,6,8,4,5,14,12,22,8,6,6,9,3,4,3,5,10,8,27,6,5,11,3,7,4,12,9,3,14,3,8,3,6,7,11,11,7,12,6,4,9,8,6,16,7,9,4,2,9,21,7,4,14,12,7,15,9,5,5,25,24,3,6,13,13,12,10,12,6,25,3,17,12,5,35,6,6,16,1,1,6,19,18,3,4,9,7,8,4,11,8,6,9,20,17,4,7,4,3,5,32,5,7,3,5,8,4,9,2,8,9,16,6,12,28,2,4,7,10,11,6,10,29,10,3,5,5,3,17,16,13,8,17,10,4,6,12,7,7,9,12,26,11,5,4,28,4,22,10,5,3,16,14,16,4,4,5,10,6,6,7,18,1,12,4,1,4,4,8,3,7,11,6,3,7,25,12,8,6,5,1,4,3,3,4,6,6,2,23,6,9,4,18,16,20,6,1,9,9,1,5,25,3,12,3,7,3,6,1,3,18,7,10,5,4,20,4,5,8,16,15,4,5,14,3,5,3,3,7,3,2,10,26,15,6,9,6,6,4,4,10,11,3,6,8,4,26,6,13,15,10,5,13,10,14,6,14,14,13,11,19,1,16,5,17,12,25,21,15,1,4,15,7,3,7,20,10,18,28,4,1,5,15,1,5,8,3,14,13,11,7,14,10,5,11,9,2,6,3,11,6,6,6,4,7,5,27,4,3,26,6,6,11,7,10,11,1,1,11,3,1,2,6,7,8,9,5,3,3,24,9,20,4,4,4,11,2,4,8,13,6,14,7,5,16,4,7,12,10,4,5,13,10,11,7,35,26,11,7,19,5,13,15,12,5,10,4,8,20,6,8,1,3,9,7,4,3,8,11,21,13,5,4,8,9,23,20,4,13,8,2,13,1,10,12,9,20,4,22,5,4,5,10,8,10,8,9,2,8,21,1,16,10,4,16,8,5,15,10,1,3,6,4,6,10,3,15,10,18,9,5,9,3,5,18,48,16,13,21,1,4,31,10,8,7,16,13,4,3,12,17,8,11,15,7,15,20,15,10,30,4,5,19,13,8,21,3,8,11,9,28,4,7,12,13,4,10,8,5,2,13,3,14,14,4,19,4,12,17,12,5,27,8,3,13,2,15,26,21,16,2,3,1,6,5,4,7,7,3,10,10,3,17,15,6,3,11,6,2,6,12,34,6,2,14,10,4,7,16,16,5,14,16,3,3,15,36,8,7,6,15,3,1,6,6,14,10,5,5,15,10,13,2,16,8,19,11,3,12,6,3,3,8,4,24,2,3,17,3,3,4,5,8,8,17,8,14,12,14,17,10,5,1,3,5,7,27,13,9,8,2,15,13,17,10,48,8,6,7,6,7,19,2,3,5,7,19,4,10,26,5,2,7,34,7,3,9,4,22,6,3,8,2,12,25,15,11,13,2,2,21,12,8,7,10,4,7,3,3,2,21,11,18,3,8,9,18,11,6,5,8,9,8,7,6,11,11,7,17,7,22,2,1,10,5,12,8,8,6,13,15,4,14,5,2,7,16,9,4,8,18,4,3,13,1,21,5,5,11,8,12,5,19,3,7,31,11,5,8,5,6,11,14,7,9,2,16,14,13,5,22,7,9,3,10,8,6,16,10,3,3,2,2,3,12,4,5,2,9,14,10,4,14,3,17,36,5,1,4,13,6,23,13,3,1,5,10,8,6,6,1,4,26,2,4,5,8,7,2,5,5,10,10,14,14,7,3,1,2,2,4,5,6,10,8,6,10,13,3,12,7,4,3,7,5,6,9,8,12,2,15,3,13,6,3,6,1,14,2,5,3,4,7,4,4,6,28,6,10,2,4,5,17,33,12,16,3,7,8,1,4,4,5,34,11,21,9,6,3,2,5,8,6,3,7,9,5,10,8,4,11,13,16,14,6,23,17,6,6,3,9,4,9,3,5,17,2,7,7,36,5,5,5,11,11,3,5,9,20,21,8,4,13,13,2,3,12,3,7,16,3,12,9,17,1,12,7,8,11,5,3,29,10,8,3,6,3,8,14,14,9,6,5,8,7,6,22,7,12,16,3,7,13,6,18,10,2,7,22,4,11,4,43,3,3,5,29,45,12,17,8,21,50,5,13,13,9,6,4,3,8,1,11,9,9,10,16,16,13,4,10,5,16,4,28,6,10,5,6,4,2,8,9,5,11,10,5,6,18,21,7,16,3,9,6,9,5,4,4,2,2,29,1,9,9,6,29,17,10,4,16,6,8,3,11,4,8,14,12,9,41,13,7,14,8,14,5,5,3,4,33,8,5,2,9,14,4,17,2,9,13,8,8,14,4,11,4,4,6,11,2,7,11,9,1,16,6,21,4,6,9,19,7,13,5,2,9,16,11,15,6,18,5,16,7,23,11,16,2,7,4,2,5,10,7,6,7,4,8,8,21,9,6,12,4,6,18,30,9,2,8,3,5,4,4,9,6,31,25,6,13,9,7,1,4,12,11,5,20,7,15,2,8,7,14,3,13,9,6,9,12,18,6,4,8,2,11,3,14,6,12,7,20,1,13,5,31,6,5,3,6,6,7,12,14,3,7,29,3,17,1,15,9,7,16,2,5,17,11,12,27,4,3,5,22,13,17,6,8,4,9,16,1,16,7,15,7,13,19,9,2,12,23,9,7,5,17,20,13,6,11,7,9,3,11,5,15,4,4,6,8,18,6,19,21,4,5,11,3,3,6,20,6,8,5,9,7,5,1,6,3,7,6,21,3,5,10,5,4,6,15,3,3,2,1,7,35,5,8,3,3,2,14,9,14,8,4,13,15,4,16,5,18,8,5,2,7,6,7,12,4,3,4,8,3,4,2,5,6,6,4,7,9,2,5,19,6,12,7,3,6,7,3,3,8,3,10,8,4,7,12,5,9,2,5,29,5,6,2,9,3,8,30,15,13,4,5,5,2,5,5,16,2,3,22,8,14,20,14,4,3,1,2,22,13,8,15,1,5,7,5,7,9,4,10,2,17,11,8,27,22,18,14,16,16,1,43,7,6,8,15,1,3,6,6,22,7,4,10,12,1,3,6,5,2,7,4,4,18,11,7,15,9,16,9,7,9,9,5,4,8,3,4,8,4,17,6,29,7,5,2,26,22,14,12,5,27,4,3,10,4,5,17,11,3,38,9,15,23,4,8,5,10,5,12,5,15,4,6,6,7,7,5,10,5,2,9,9,2,7,10,8,8,11,2,3,3,1,7,3,10,18,40,20,6,12,22,9,10,11,7,1,3,13,4,11,4,8,7,5,2,5,18,8,6,24,4,15,5,3,8,8,11,4,8,3,8,10,5,14,7,2,10,3,4,11,13,11,7,13,10,5,30,29,10,2,6,1,10,19,27,2,22,2,6,4,2,3,13,6,18,15,13,11,6,2,13,8,2,20,6,3,6,8,14,10,15,14,15,3,10,5,4,5,7,10,42,3,12,13,9,9,16,2,6,7,12,6,4,3,13,4,6,4,3,3,5,13,4,3,5,2,7,6,3,3,9,33,22,12,13,7,8,8,4,12,6,9,6,32,12,9,11,4,7,7,13,7,6,7,4,15,8,10,12,3,8,11,4,2,5,7,9,10,4,9,6,1,16,21,4,3,12,9,4,11,5,17,32,5,6,7,11,24,5,12,29,5,3,8,4,7,7,2,2,1,20,6,4,9,11,11,2,5,10,10,7,17,6,8,15,6,21,10,16,8,7,9,3,7,4,28,5,26,3,4,7,2,14,1,14,6,16,9,21,10,3,10,6,1,31,6,4,17,43,9,24,11,26,7,4,8,13,6,5,4,4,11,6,10,11,10,12,2,10,9,4,7,10,12,16,9,5,9,2,11,12,3,14,9,19,14,10,12,13,4,5,6,6,4,18,11,9,3,12,4,5,4,10,4,19,12,9,4,13,2,1,3,5,23,5,10,33,4,21,12,4,3,13,9,8,6,7,6,6,17,3,13,7,3,9,2,2,19,12,16,6,10,14,5,23,8,14,2,25,4,6,16,17,13,20,2,8,8,6,7,3,23,8,16,7,3,8,22,12,15,29,11,6,6,21,20,2,2,10,2,12,21,2,6,32,2,5,8,8,20,6,14,2,5,9,6,8,5,2,5,3,4,10,1,6,29,5,1,29,13,5,6,11,7,1,26,7,15,5,6,7,7,28,6,29,7,12,28,2,5,12,23,7,3,3,13,7,7,2,12,9,22,14,27,16,11,17,10,17,10,11,10,18,9,15,2,17,20,15,14,6,30,11,19,28,6,3,7,6,18,9,7,12,18,20,6,8,7,3,1,7,6,8,28,12,11,6,2,5,3,13,5,12,24,10,19,6,16,10,21,5,5,1,9,12,3,2,7,5,9,6,25,5,7,6,12,28,12,18,2,12,11,13,21,23,4,4,4,4,1,13,19,5,2,15,4,10,2,6,5,5,18,10,14,13,7,6,11,2,8,4,17,8,7,4,8,7,7,4,23,32,6,5,6,5,7,7,3,8,11,3,16,2,16,7,3,3,15,11,8,9,3,9,5,6,11,2,10,17,8,4,32,3,6,3,5,6,3,2,3,5,5,6,3,12,31,9,4,10,6,13,1,6,2,6,7,17,2,14,6,7,3,12,1,1,7,6,19,14,8,6,4,27,4,14,3,6,2,16,12,11,3,5,15,6,4,8,5,17,3,11,8,7,4,4,11,3,12,9,4,2,5,2,10,9,10,47,9,18,6,25,3,19,1,10,6,7,8,7,5,10,5,11,13,4,14,7,6,16,12,15,2,13,1,6,18,5,20,7,18,7,7,10,33,9,3,8,17,7,38,5,7,6,1,10,6,10,26,6,9,21,8,30,13,5,9,5,17,13,4,9,8,8,3,4,13,17,9,13,4,5,2,4,10,11,9,12,14,8,6,6,5,16,6,23,4,4,6,12,15,4,21,3,11,3,6,4,5,4,14,1,17,14,10,25,12,4,8,22,3,2,4,5,6,20,5,8,2,4,8,11,17,32,8,7,2,10,7,13,7,7,5,33,2,3,10,5,5,5,4,8,20,3,31,16,13,7,2,24,12,59,2,7,12,6,13,12,2,3,15,17,11,9,14,6,7,15,16,21,9,3,5,15,20,7,14,1,4,11,5,6,3,5,34,12,9,11,2,12,7,5,8,12,23,2,2,4,5,9,8,5,11,3,5,11,14,5,2,5,39,6,3,3,9,5,7,9,17,9,6,4,17,26,14,8,9,8,2,6,7,10,3,1,3,5,6,5,2,3,7,4,5,15,15,45,7,3,6,47,16,6,8,12,3,5,26,10,3,8,15,5,8,15,19,26,4,10,6,2,9,10,16,4,7,6,10,3,3,21,6,15,7,5,5,8,12,18,10,1,9,2,7,7,9,6,8,8,8,6,6,2,17,6,34,11,1,14,5,17,6,18,12,5,6,3,18,9,8,5,2,3,5,11,10,5,5,5,3,4,9,16,6,7,13,21,12,1,9,5,9,18,15,38,30,5,14,15,12,16,6,3,9,4,14,4,3,15,18,8,26,9,1,1,11,34,5,3,11,9,8,6,9,13,9,6,25,5,8,8,10,7,4,13,20,20,9,7,5,10,16,19,1,5,5,19,1,6,7,26,16,3,5,14,7,20,3,6,9,9,5,11,11,6,14,13,3,19,3,3,9,4,1,1,5,13,3,15,24,20,3,5,14,6,3,7,13,4,18,2,4,13,13,50,12,9,11,30,29,2,10,9,10,2,4,5,13,3,7,5,18,8,1,30,33,8,4,12,1,8,14,17,3,2,1,12,5,8,5,3,6,15,2,12,9,17,19,9,21,6,11,14,8,8,12,4,23,27,10,7,10,36,16,9,10,25,10,5,7,9,13,8,12,2,6,8,18,13,7,7,8,3,12,16,7,11,18,7,20,5,2,4,4,21,11,3,9,1,2,4,31,3,9,12,6,9,5,16,12,5,4,6,27,15,4,7,4,4,8,19,11,27,3,7,19,8,8,6,7,4,6,6,34,4,24,5,8,5,11,6,17,7,5,18,11,12,10,19,17,7,3,8,5,4,3,4,18,4,10,16,4,14,7,35,7,5,3,10,9,9,7,7,3,9,2,5,2,13,3,12,3,5,7,18,5,4,28,24,10,8,2,12,10,4,6,8,1,14,6,3,11,20,7,11,3,19,6,7,37,8,37,5,3,11,7,9,4,4,23,5,22,2,3,2,12,8,5,14,6,6,3,22,5,12,14,5,4,2,7,2,2,13,4,3,23,5,13,2,28,26,14,9,13,8,7,13,10,15,5,23,2,8,6,8,3,13,4,6,4,15,10,8,12,13,4,4,4,5,10,5,28,4,16,11,7,11,2,16,13,18,5,20,8,16,2,2,10,15,4,6,6,23,8,3,5,3,15,9,13,36,10,45,9,11,7,9,13,23,12,10,16,3,18,10,4,10,8,6,12,43,15,5,20,15,10,9,13,12,10,26,7,9,5,3,6,5,19,30,7,3,10,24,8,7,25,10,2,7,8,5,4,9,4,5,2,7,7,2,6,11,14,13,9,8,14,6,31,5,2,2,3,2,6,4,13,52,5,3,3,25,6,14,7,5,5,12,3,7,31,6,13,3,3,9,35,4,10,14,32,20,17,6,8,15,17,8,22,16,3,2,3,3,2,17,3,9,7,15,10,10,8,11,8,4,6,4,10,3,6,6,6,25,8,11,15,7,9,19,8,1,10,11,9,18,7,14,7,7,25,4,10,16,2,6,25,3,9,5,12,14,5,14,9,9,23,10,8,18,1,9,5,19,4,6,7,31,13,6,4,13,4,11,48,10,4,26,9,24,19,14,33,36,30,16,9,6,2,11,3,3,29,10,1,9,10,4,10,5,9,2,6,1,3,21,13,7,10,11,6,2,6,8,22,4,33,5,5,10,7,3,2,10,3,10,24,17,2,11,6,2,6,6,13,11,5,18,9,13,6,15,11,4,10,2,19,3,16,6,7,5,3,27,9,10,17,11,9,6,1,5,6,6,25,4,26,18,6,4,5,11,18,6,9,15,7,3,10,3,2,8,17,4,17,24,26,6,5,21,20,9,4,10,2,4,5,3,4,4,10,18,5,8,3,5,9,5,6,13,22,15,7,4,6,9,9,19,3,3,21,15,5,6,21,15,14,12,4,6,3,8,5,23,27,5,8,18,5,12,9,10,5,1,37,7,20,25,28,7,12,4,12,11,24,3,6,6,8,4,7,2,7,11,1,7,23,11,9,51,3,2,5,7,5,17,20,14,3,5,4,3,3,33,18,8,40,12,2,7,7,33,4,15,8,4,3,5,4,15,7,11,14,22,5,9,21,6,6,19,10,14,5,3,1,9,30,9,6,14,10,25,4,5,13,4,2,9,4,8,8,8,12,7,3,10,7,9,6,4,6,20,12,8,22,9,16,11,8,13,24,8,15,10,1,8,7,4,3,17,12,6,11,18,7,17,7,12,3,29,3,5,10,10,4,20,15,8,27,8,2,12,1,6,6,20,15,12,14,7,31,10,16,7,4,17,10,9,2,7,5,8,2,10,8,6,8,11,5,4,25,5,8,5,8,20,21,3,26,10,9,3,13,5,3,5,7,27,11,1,17,8,22,18,4,7,8,4,11,5,10,12,9,5,8,4,15,3,9,6,4,9,13,7,4,8,14,5,4,12,9,6,1,4,27,16,3,9,2,15,1,26,6,3,18,45,7,5,5,17,3,2,11,5,19,3,1,3,4,2,4,5,9,3,4,8,6,8,17,6,3,32,16,16,9,5,3,13,11,5,7,16,15,6,4,18,18,3,7,17,13,29,7,5,6,17,8,4,14,5,10,15,5,32,8,6,19,4,9,7,6,4,14,16,1,14,6,24,7,15,10,4,12,16,8,6,5,9,6,12,3,9,4,42,6,8,9,20,2,10,14,13,6,4,6,14,5,2,4,5,3,8,6,5,13,4,17,8,9,8,13,11,15,1,21,25,4,18,5,4,6,10,4,10,4,11,33,4,12,8,4,7,23,5,3,4,4,4,3,23,9,19,8,13,17,4,2,26,19,5,15,21,3,16,12,9,8,14,8,18,7,8,3,5,9,3,7,7,48,2,3,12,8,4,12,1,5,1,3,1,5,11,15,35,13,15,4,12,7,10,9,9,20,5,4,13,5,18,1,6,11,6,20,8,10,14,5,5,5,5,4,9,3,10,11,2,5,7,23,6,3,10,4,10,7,27,2,4,12,22,7,12,16,5,1,42,26,4,10,8,3,6,5,8,3,10,9,2,7,9,10,10,30,7,12,11,3,11,9,2,5,5,3,9,6,7,4,11,4,5,10,5,29,2,16,8,2,4,3,1,4,16,8,3,8,1,9,2,8,7,8,5,11,16,2,2,3,45,2,5,14,10,3,7,5,8,8,12,11,22,13,18,13,10,4,3,18,31,3,28,42,6,11,3,7,5,7,15,3,3,6,5,4,18,27,21,2,30,6,29,10,9,3,1,36,8,2,12,6,8,4,5,11,9,14,4,11,10,14,5,3,6,20,4,5,36,10,11,4,7,13,7,8,6,4,5,18,3,6,2,11,2,12,6,3,9,7,5,15,2,6,10,7,10,16,6,10,23,10,19,5,4,8,1,18,13,10,10,40,4,1,3,12,3,26,5,7,10,3,11,4,7,19,16,8,2,15,5,4,2,6,36,2,3,5,12,8,4,6,5,9,12,4,6,4,2,10,4,14,8,11,3,16,3,8,12,1,6,36,25,9,4,4,12,6,5,3,11,2,2,26,24,8,4,9,2,3,9,7,5,2,11,3,6,3,8,11,9,1,7,4,21,1,21,3,18,10,4,9,15,11,17,6,10,3,7,4,10,11,14,24,3,17,10,14,2,13,3,3,4,4,4,28,7,32,13,10,2,7,4,4,25,7,16,4,6,8,31,17,5,5,40,13,9,7,16,28,3,11,5,5,6,15,10,8,6,12,5,30,13,14,3,9,3,11,7,14,10,12,2,9,4,9,7,12,6,5,22,10,2,2,19,3,18,1,12,6,9,35,11,16,7,4,1,5,6,2,11,8,12,5,19,13,9,46,5,2,1,32,8,14,6,7,6,6,8,12,4,5,3,32,4,13,6,6,1,12,2,16,18,1,11,21,22,7,4,19,7,3,6,12,4,1,3,14,13,37,8,2,6,10,13,3,8,24,1,5,7,6,2,8,8,9,16,18,7,15,6,22,8,16,5,28,26,5,2,12,2,3,5,12,23,11,6,4,7,13,6,3,6,6,20,4,12,3,10,20,5,10,27,6,4,15,8,4,7,5,4,24,7,2,3,4,5,4,17,8,7,5,2,5,15,2,5,29,13,5,31,6,4,15,11,7,4,16,6,11,8,9,8,8,5,2,36,3,21,4,8,10,4,5,4,17,5,24,6,10,4,30,20,3,22,20,35,5,14,9,3,8,3,3,8,7,17,6,12,6,11,15,6,6,14,11,5,12,7,3,6,18,20,7,23,7,2,5,9,10,17,8,3,20,13,23,19,3,7,7,7,7,12,11,10,1,11,3,4,6,20,2,12,7,4,6,4,14,7,7,22,5,12,6,2,5,7,7,8,28,3,5,2,16,3,9,3,10,3,13,3,10,18,5,43,1,21,7,5,3,13,7,3,12,7,6,5,7,14,19,7,8,4,3,8,9,4,4,15,17,12,1,11,11,12,4,3,3,5,8,8,2,8,47,4,4,10,4,37,3,3,25,2,7,13,5,8,2,8,9,8,13,22,14,17,7,4,21,30,9,11,6,14,15,10,15,8,6,5,54,6,6,30,6,1,3,23,9,10,11,10,2,12,35,7,3,4,7,8,13,14,2,12,5,1,9,6,31,30,9,10,23,4,11,24,29,6,6,10,7,7,6,11,19,25,8,4,6,23,9,2,9,3,19,19,8,17,43,8,4,4,6,13,4,21,6,1,20,33,13,8,5,6,3,23,3,7,3,5,13,4,8,10,17,4,27,18,35,10,11,7,16,3,27,7,3,5,18,9,4,12,13,2,16,17,10,4,9,6,7,6,3,23,3,6,3,16,20,20,14,25,6,5,4,3,6,9,11,36,22,10,33,5,21,3,5,2,45,8,5,7,9,5,7,12,7,27,16,6,19,10,24,19,2,7,5,2,18,6,11,3,3,10,45,3,10,24,6,8,16,14,4,15,2,15,24,9,10,19,1,7,9,37,2,9,1,13,9,3,8,6,2,8,14,13,11,10,10,15,8,2,7,7,9,5,6,7,7,23,8,14,2,3,13,5,7,24,5,4,3,28,4,24,6,9,7,2,24,1,45,33,24,14,7,3,14,33,18,7,18,36,10,2,5,15,7,16,8,28,2,9,36,9,34,45,19,14,12,4,11,16,14,8,9,25,23,6,18,6,15,19,27,7,7,14,9,6,27,6,5,1,5,21,10,11,10,6,8,3,36,11,10,11,4,27,24,22,8,7,4,8,7,11,41,6,7,4,17,3,6,3,5,7,5,7,10,9,17,8,5,6,4,8,17,4,2,8,8,21,19,8,12,4,7,5,12,2,5,10,10,12,11,16,7,13,11,4,5,6,16,8,4,4,32,6,13,25,1,18,2,4,1,6,15,7,5,23,1,10,14,7,7,9,6,3,2,10,30,4,8,9,1,3,8,5,3,14,25,14,11,1,3,1,7,7,5,5,4,5,21,21,11,4,6,4,2,10,25,5,6,12,13,12,1,12,14,8,10,12,6,13,17,20,22,4,13,7,5,6,5,9,20,2,18,5,6,28,14,14,26,13,3,13,14,10,9,7,3,4,8,6,7,19,16,7,11,29,10,2,8,17,10,6,18,4,19,9,3,4,15,3,4,1,3,7,3,3,11,5,9,9,5,7,3,23,17,11,18,8,31,26,26,11,21,12,21,7,2,8,3,2,3,9,10,3,26,6,10,2,12,5,13,3,11,9,13,1,16,10,6,21,15,9,4,19,13,16,3,17,1,4,5,10,2,6,7,10,4,16,5,1,10,17,21,11,9,12,9,6,3,17,11,7,7,16,6,27,3,10,7,4,10,7,50,2,12,16,2,15,3,4,3,9,6,6,3,15,52,12,5,9,3,3,9,4,2,16,9,18,4,4,6,10,5,3,16,5,14,16,3,2,9,8,13,10,5,8,29,19,16,14,14,25,28,11,26,5,5,16,11,1,8,6,5,21,4,3,9,12,12,4,7,12,13,16,19,4,22,2,6,16,4,3,8,8,11,9,29,21,26,10,14,7,3,42,5,4,16,7,11,6,9,13,12,12,13,8,7,5,1,6,12,8,22,3,8,3,20,4,10,5,30,3,12,8,16,19,25,24,1,4,10,6,3,11,6,33,14,3,5,4,17,8,10,3,8,29,11,7,23,9,3,4,9,6,3,3,6,7,15,9,7,9,27,7,11,4,9,16,7,2,15,47,6,4,34,8,5,7,4,7,1,4,4,15,33,35,19,3,11,8,10,20,3,10,10,11,9,7,8,12,5,3,23,12,12,8,4,5,9,2,7,5,3,5,13,37,11,3,10,28,7,12,14,8,15,6,17,6,10,7,4,6,12,2,2,42,11,7,6,6,6,4,20,6,16,48,7,18,3,2,4,6,9,8,4,12,5,4,8,3,6,16,24,9,10,3,12,6,6,7,20,1,25,17,7,6,23,9,11,26,3,5,10,10,17,3,5,14,6,18,23,6,6,7,5,10,13,11,2,10,2,19,7,7,50,7,7,1,8,13,11,10,18,22,13,6,13,3,19,11,7,24,12,5,42,3,17,9,6,11,5,3,9,4,9,7,3,3,2,10,5,18,12,5,3,15,11,5,9,15,5,5,13,6,2,1,15,3,10,3,9,19,4,7,8,2,6,10,13,3,9,7,9,3,14,1,6,11,7,9,20,5,3,6,3,17,6,9,12,8,19,6,24,2,11,4,5,13,10,4,7,7,14,4,2,3,16,5,7,1,11,8,9,4,8,6,4,15,1,41,8,10,9,19,21,7,7,9,9,10,4,15,5,3,3,2,19,5,11,14,2,15,8,2,5,3,5,6,5,5,4,4,4,2,21,7,5,5,35,6,6,43,8,4,11,31,11,11,8,4,3,4,6,5,11,2,26,2,7,16,8,15,27,30,3,11,9,3,4,5,40,6,3,9,8,2,4,9,20,5,9,2,10,6,33,5,9,8,5,15,8,41,2,4,2,1,3,9,6,24,7,12,4,2,7,5,1,13,8,7,10,8,14,6,3,18,15,5,4,4,8,12,29,31,20,31,11,55,14,3,17,7,2,10,3,5,6,8,26,13,18,13,4,4,5,15,15,12,5,11,15,7,1,10,6,8,4,4,8,3,33,14,18,11,16,7,4,3,2,7,13,4,14,5,10,5,3,10,6,10,16,25,9,18,3,4,7,22,7,21,10,10,16,5,2,22,3,10,17,8,19,8,11,6,3,2,6,5,20,8,4,3,5,6,11,9,4,3,9,43,1,5,3,3,5,9,11,22,16,8,6,11,13,9,7,14,17,21,22,2,11,12,10,8,13,7,29,6,4,17,10,16,15,1,14,20,9,19,5,2,3,1,12,9,5,4,5,36,9,12,8,14,12,8,4,2,9,13,3,16,4,30,10,3,7,22,3,3,3,7,1,3,8,3,2,26,28,7,7,4,8,11,16,7,10,13,8,11,29,4,2,21,5,9,11,4,23,8,5,6,10,10,4,12,5,2,12,3,2,8,10,16,6,1,3,12,14,8,13,10,3,3,9,5,9,6,7,8,12,1,17,5,7,6,3,38,12,16,6,7,14,8,10,7,2,12,4,14,3,4,14,3,16,3,16,6,12,18,7,5,8,7,13,5,12,16,17,10,23,6,5,16,8,5,12,7,7,10,6,3,8,14,3,18,8,6,4,8,11,13,25,11,5,4,22,2,12,9,5,36,12,4,13,19,33,23,23,16,2,6,3,6,7,11,6,6,8,11,4,27,8,11,5,6,27,3,9,7,23,24,5,14,4,4,4,9,5,9,1,1,21,4,18,5,4,7,6,4,12,5,7,1,5,6,43,9,6,7,20,18,7,9,7,6,2,4,12,2,12,8,6,11,10,8,5,3,27,15,22,4,6,3,6,4,7,17,22,4,4,6,4,5,7,3,14,11,5,15,6,14,7,13,5,15,14,4,13,5,21,2,11,25,4,7,7,19,6,5,8,20,2,1,5,27,5,6,12,10,10,3,7,15,6,26,9,25,1,2,7,9,8,4,5,5,3,4,9,29,10,5,3,7,18,3,38,16,4,4,6,41,49,10,6,14,3,3,6,8,6,5,11,12,3,6,7,18,19,6,7,4,3,13,13,3,19,22,2,4,17,9,9,5,12,6,1,7,9,11,1,4,4,7,3,22,4,10,13,11,14,6,6,1,13,12,8,9,4,4,2,13,12,3,6,9,9,14,2,2,9,13,9,15,5,1,5,5,12,4,6,4,8,19,24,32,22,3,9,6,21,9,10,12,8,8,6,12,5,3,17,20,3,4,8,13,6,10,5,3,6,16,32,7,8,4,1,6,3,20,13,9,8,8,7,12,14,10,18,6,38,4,20,10,14,1,7,6,7,4,8,5,11,17,11,5,5,4,10,25,12,6,9,25,16,12,15,3,2,2,4,22,29,12,2,13,2,7,6,9,3,8,15,4,3,15,23,4,4,6,6,9,14,1,4,7,3,1,8,2,11,3,5,10,6,18,7,5,8,9,6,11,7,14,7,11,5,5,20,7,12,17,37,7,9,10,6,6,5,3,9,9,4,23,4,5,7,9,12,10,9,2,18,25,2,6,2,10,3,3,2,3,3,52,19,4,10,6,6,3,7,6,5,7,17,4,12,6,6,7,1,4,6,14,6,12,7,5,4,10,28,12,31,18,6,25,1,4,3,8,5,7,4,3,29,4,12,19,16,11,17,9,10,30,39,17,2,9,1,2,5,8,18,9,10,1,8,9,12,6,5,15,7,11,9,6,1,13,9,13,17,7,13,6,2,8,17,2,4,5,42,1,8,13,12,5,13,5,2,4,3,10,12,5,9,14,3,23,42,11,14,3,8,10,35,2,11,12,12,21,15,13,7,6,26,2,4,4,12,14,3,25,12,4,3,6,26,35,14,7,9,5,7,16,5,5,19,13,14,47,13,6,10,7,7,7,4,3,4,3,7,8,7,13,10,11,8,4,11,11,4,2,15,17,19,5,5,6,12,3,18,27,3,7,3,5,8,2,10,10,8,9,9,5,1,17,15,16,33,11,9,7,7,6,13,6,9,1,9,6,5,1,3,12,7,20,29,12,4,20,3,3,25,15,24,15,13,4,3,10,9,10,2,9,48,11,16,4,8,2,7,6,11,10,14,16,12,3,24,5,18,11,4,5,6,5,6,8,18,14,13,2,5,2,6,5,8,10,20,21,2,9,5,4,7,18,6,1,11,28,8,4,2,15,11,1,3,41,2,17,31,22,9,9,2,7,7,3,2,17,7,4,3,10,11,6,5,4,2,41,8,4,21,4,3,14,6,9,11,9,11,8,24,23,7,10,5,10,4,11,11,21,20,2,13,4,5,4,4,6,1,22,3,6,5,14,3,9,8,19,4,7,4,19,5,46,10,8,8,19,9,7,9,9,10,2,11,5,7,3,7,3,11,11,7,4,5,5,11,13,13,18,6,5,7,6,14,6,9,5,5,6,4,9,1,3,15,8,12,9,5,12,7,17,7,21,4,12,3,3,10,6,7,5,6,10,11,43,1,3,5,10,6,5,2,10,11,20,3,7,16,3,11,5,3,2,8,11,8,20,1,3,26,6,3,4,11,6,13,6,23,5,17,12,6,1,12,8,12,19,11,30,1,11,3,5,27,2,16,18,7,3,20,3,8,5,42,8,19,42,30,6,10,9,6,6,9,5,12,16,19,36,11,13,4,3,11,2,8,4,29,8,6,5,5,45,7,5,18,5,16,2,3,16,8,5,10,5,5,40,33,19,3,5,9,5,8,4,10,13,6,3,10,5,2,13,9,5,5,11,11,9,7,1,7,3,6,2,13,23,7,10,17,26,4,10,17,7,7,4,6,11,15,11,13,5,7,4,3,5,5,7,5,15,12,8,4,1,7,6,4,39,5,43,3,9,5,4,7,10,3,11,10,5,12,6,1,6,6,3,6,9,6,4,4,7,17,7,16,15,3,34,3,11,44,7,3,8,7,3,13,15,45,18,21,1,12,5,16,4,9,6,3,3,16,3,8,2,8,12,7,3,40,36,8,18,22,12,27,7,23,9,6,7,27,25,16,15,6,6,4,18,9,7,8,10,7,15,10,5,9,6,6,8,5,8,7,7,46,13,2,8,33,5,14,4,17,8,6,25,7,37,10,22,17,11,13,8,2,3,5,5,4,7,6,34,4,3,15,7,9,4,6,10,11,15,10,2,1,1,5,2,7,8,7,11,5,22,26,3,4,5,30,18,8,17,25,8,1,12,14,4,23,12,13,12,8,6,3,5,6,8,6,11,13,10,13,6,6,6,11,2,9,5,15,15,8,56,15,9,14,11,1,12,12,21,4,11,6,21,18,8,4,14,4,6,7,4,15,18,3,6,4,7,10,15,8,12,12,4,9,3,16,5,15,14,9,6,2,32,12,24,3,25,10,6,14,3,11,8,7,13,7,21,4,3,10,5,9,7,5,9,9,6,6,12,5,2,19,10,16,3,1,11,2,25,7,14,3,28,6,2,8,11,7,4,4,6,5,4,14,11,1,4,8,20,5,8,9,8,6,11,7,6,18,11,6,9,6,13,9,32,16,5,5,9,7,7,13,8,49,4,5,5,4,16,9,12,32,5,10,1,3,4,13,8,5,2,6,16,16,12,14,2,18,8,3,8,10,12,5,6,8,9,7,2,3,9,6,14,11,13,5,6,3,11,4,5,2,16,7,10,6,3,3,8,37,10,11,16,25,1,17,6,15,5,6,9,26,5,7,17,6,9,3,1,26,11,7,10,5,4,13,11,5,54,5,10,6,13,4,30,4,6,6,28,10,7,9,2,13,9,3,5,11,10,9,9,8,6,9,2,6,5,10,6,4,4,6,14,6,8,6,4,6,34,19,2,19,3,13,10,16,4,11,5,29,4,9,5,9,13,1,8,8,5,7,6,1,1,5,17,1,22,45,2,21,9,6,4,7,14,6,4,7,3,6,13,4,6,8,10,6,5,2,19,5,14,5,8,14,17,9,8,4,4,2,9,28,7,24,49,4,8,9,6,26,3,6,13,7,4,8,8,7,5,14,13,7,4,3,6,8,9,7,3,10,15,2,6,22,4,1,2,11,6,8,9,4,4,4,11,14,12,9,4,5,11,7,21,13,5,8,20,17,2,1,10,12,25,7,4,10,9,7,13,10,4,6,19,1,5,14,11,12,12,26,9,2,34,11,37,1,4,12,18,2,3,28,18,8,14,5,22,8,6,5,3,7,4,1,6,50,4,2,12,12,31,4,10,11,1,39,15,7,39,4,5,5,5,10,12,11,1,6,10,4,3,9,8,5,9,8,12,5,22,14,3,19,3,6,5,13,28,10,2,9,16,7,6,4,14,42,5,1,3,7,7,10,18,16,6,12,6,7,9,2,4,3,9,5,5,6,27,19,3,2,11,15,4,21,10,13,13,8,4,27,9,11,10,6,10,6,12,4,5,8,6,4,13,10,10,27,12,10,2,3,11,23,15,18,6,20,14,8,12,4,12,4,6,10,10,12,3,5,12,6,5,12,13,26,4,4,4,5,6,8,12,7,4,39,5,12,6,11,12,7,8,5,9,12,4,7,3,24,7,2,13,14,11,25,3,12,10,6,5,30,35,11,25,10,2,9,8,14,5,4,12,6,4,6,1,4,4,8,2,6,14,7,15,7,10,5,25,2,9,20,2,10,21,2,7,15,6,4,4,15,8,7,14,13,2,18,33,6,14,36,2,25,3,12,6,21,12,26,8,6,5,24,4,3,21,3,7,16,8,19,9,7,4,7,17,3,16,19,3,5,11,1,5,11,2,5,6,11,12,13,8,15,14,16,7,3,4,11,4,5,7,5,8,8,1,8,4,3,1,13,2,1,2,7,3,8,1,12,4,2,4,4,9,5,5,4,5,9,5,10,3,25,17,4,5,7,4,8,9,8,7,22,8,2,11,4,11,6,6,1,7,8,11,4,25,6,4,15,10,3,2,2,2,4,4,10,6,3,8,17,12,9,37,4,8,11,5,36,9,9,15,6,9,5,11,6,9,11,14,14,14,16,4,16,44,1,15,37,12,18,8,38,13,18,4,10,7,4,7,4,3,9,14,6,10,19,7,7,6,3,8,30,9,2,5,26,15,9,11,2,9,6,4,2,10,12,6,9,7,12,10,5,17,2,4,7,3,2,2,1,3,5,4,8,13,18,13,17,6,5,19,12,3,12,31,18,6,9,19,5,1,13,4,7,7,17,9,4,6,47,14,10,27,21,42,8,9,5,4,9,5,20,8,25,1,13,20,18,4,3,10,34,6,3,6,3,27,4,28,11,8,3,6,5,50,12,7,13,19,5,1,18,12,16,10,8,9,2,4,3,8,10,14,20,7,8,5,5,9,2,23,15,4,11,9,7,2,6,4,6,7,10,6,8,2,4,5,7,9,4,2,8,19,4,40,9,18,11,31,2,12,16,12,3,1,6,24,18,8,14,3,4,3,5,3,2,4,6,9,5,3,7,4,24,9,19,3,13,14,12,13,2,4,13,13,10,3,4,9,11,16,4,6,8,3,5,22,8,4,5,4,18,2,12,2,13,23,11,13,8,12,13,3,4,18,21,36,3,1,9,7,4,14,9,5,7,5,4,11,9,8,3,5,12,6,17,7,5,4,10,10,2,11,4,5,7,5,2,12,4,6,3,1,7,31,4,4,4,11,28,52,33,13,15,14,4,20,16,11,4,3,2,5,7,6,28,2,8,16,7,3,4,1,5,3,4,10,6,10,8,2,4,15,3,24,4,4,13,17,3,12,12,18,16,5,7,9,21,8,4,41,5,4,10,13,3,6,4,21,33,5,18,8,5,4,4,11,12,5,20,16,3,30,21,2,18,4,1,3,14,9,6,8,14,3,10,15,10,32,5,18,15,5,1,2,8,14,14,29,18,6,5,15,9,12,2,6,4,4,3,4,8,9,8,8,9,8,16,3,11,6,10,6,5,5,11,13,14,4,6,10,14,8,5,11,7,9,6,11,25,4,8,47,5,18,10,6,24,3,8,16,1,16,6,13,12,35,14,3,17,13,8,20,4,9,2,12,4,23,15,2,22,9,12,25,31,2,28,15,11,55,7,21,10,19,11,6,10,16,7,18,16,18,5,14,21,20,4,5,18,9,9,11,11,11,6,1,14,4,7,11,24,2,14,67,23,2,8,1,17,6,11,3,5,4,7,9,30,8,4,23,5,5,7,5,6,13,6,12,6,8,9,14,14,1,9,30,10,10,8,3,6,10,7,7,31,4,11,11,3,3,4,10,7,14,6,10,50,19,7,17,8,7,14,3,12,10,15,6,8,15,10,12,9,17,11,25,8,6,7,15,9,15,11,5,27,10,8,17,13,7,14,13,15,24,35,12,6,4,19,10,19,5,5,30,4,9,8,7,2,6,10,6,4,9,18,11,3,7,4,9,4,5,9,13,2,12,42,7,4,21,9,6,4,8,7,25,5,5,14,9,7,22,7,2,15,8,8,7,8,1,5,4,5,1,6,26,11,3,16,2,1,6,5,7,7,7,4,3,5,7,4,9,10,11,12,8,11,7,7,9,5,6,5,5,25,2,1,12,3,5,7,11,4,7,8,2,13,19,15,22,9,20,10,7,1,16,4,4,21,23,7,3,9,3,11,5,11,8,3,6,4,18,14,10,2,10,3,7,4,14,12,11,11,4,15,10,1,11,6,11,1,5,2,8,18,2,5,21,2,6,19,10,4,4,14,1,5,5,7,17,38,11,6,4,44,18,7,10,6,11,26,5,2,24,9,10,9,3,13,5,16,2,5,15,3,15,34,5,10,6,9,3,5,6,10,7,10,11,3,14,5,8,5,17,6,14,3,3,7,8,14,32,10,3,7,15,14,5,22,4,7,16,12,1,5,3,7,3,9,4,6,21,8,8,5,15,13,3,6,7,20,3,4,6,4,23,8,3,2,32,3,6,5,6,7,8,6,12,11,14,9,13,11,16,3,12,11,4,5,4,10,35,6,15,9,15,21,6,7,9,48,6,6,15,8,2,6,3,6,4,10,2,5,4,8,6,17,17,16,10,7,22,5,17,11,7,9,4,6,6,10,8,12,5,3,18,5,4,14,16,2,22,12,29,7,9,8,4,17,1,11,2,7,18,8,5,17,1,7,24,28,17,7,4,21,13,6,16,3,3,6,9,7,3,4,4,16,5,5,11,6,2,5,11,11,4,51,11,2,9,10,11,5,10,8,3,2,10,23,8,3,4,51,10,13,7,4,26,7,5,11,22,5,13,7,3,11,4,10,5,24,5,9,7,4,3,6,9,7,6,27,13,10,5,7,7,4,14,8,7,12,4,8,14,4,18,11,4,13,8,6,12,10,23,15,5,9,5,8,5,6,14,11,10,2,9,7,7,8,11,2,16,7,6,18,10,21,11,33,7,7,14,6,2,5,3,6,13,12,17,6,4,7,7,11,14,34,3,2,8,4,2,2,14,19,24,4,6,24,7,3,8,13,5,13,8,6,8,11,11,5,9,9,4,14,15,15,28,8,2,10,15,9,6,6,2,24,19,8,5,23,6,5,3,10,4,20,12,12,6,3,11,2,8,6,7,4,6,17,5,3,32,12,10,14,5,4,10,7,7,1,17,2,2,3,15,3,10,14,2,1,15,9,8,13,5,12,3,5,18,20,7,3,6,3,10,6,17,8,6,4,12,9,26,26,13,8,14,9,6,19,8,7,8,10,24,1,6,5,6,7,4,4,6,4,1,8,7,7,7,1,2,6,5,5,4,16,4,4,11,7,23,6,2,3,4,14,11,27,6,3,9,17,8,1,5,14,19,12,10,2,25,10,3,15,27,11,15,13,25,6,2,1,8,2,4,6,16,13,11,12,52,4,6,6,7,8,4,1,7,21,3,3,3,7,8,4,11,8,12,4,9,13,5,21,6,5,1,6,10,11,6,4,22,7,26,20,9,14,13,3,6,3,27,3,13,10,22,23,8,11,3,19,2,19,8,7,13,8,25,8,11,9,4,9,1,16,9,8,9,5,9,6,17,4,12,13,8,9,4,6,10,1,4,5,15,20,4,8,5,22,1,18,11,10,5,4,13,2,15,8,5,4,20,8,24,4,5,20,3,5,8,13,12,8,22,21,5,3,13,3,6,13,12,6,8,6,3,4,12,15,7,15,11,30,23,5,17,16,3,8,9,4,5,13,8,8,2,7,11,21,16,7,7,1,12,9,1,7,8,9,4,4,2,3,4,10,5,4,10,6,13,8,5,14,15,16,5,12,5,20,9,5,3,24,13,6,7,2,7,8,16,8,1,17,7,14,12,25,4,4,7,3,2,17,5,10,20,7,5,5,7,19,12,4,6,9,5,16,5,12,10,3,6,30,17,9,12,1,22,5,41,16,2,18,11,26,2,1,8,11,2,23,18,10,3,2,9,2,1,2,11,29,4,5,14,1,9,5,2,7,3,1,6,11,2,4,8,7,5,8,13,11,4,38,4,1,31,8,16,8,3,6,7,4,6,11,5,6,8,4,16,3,5,4,7,10,9,4,8,11,7,3,4,12,5,22,4,4,14,8,14,11,15,6,8,3,8,16,5,6,13,3,21,3,8,23,5,2,11,11,4,8,5,5,3,4,6,10,9,3,12,15,5,13,12,13,19,11,35,17,16,5,4,20,21,7,11,5,4,13,6,2,1,11,2,5,5,7,7,31,17,8,13,8,8,6,17,9,4,13,3,13,11,1,9,34,20,8,5,6,1,37,10,3,9,9,19,23,9,37,10,23,4,21,20,4,7,22,13,7,5,14,12,16,5,14,6,24,26,6,4,10,13,3,4,14,20,5,5,16,15,11,12,7,16,4,16,13,3,5,8,19,7,25,36,13,46,4,23,2,3,7,12,1,1,7,12,5,12,6,9,7,1,4,11,5,2,4,11,6,6,9,6,33,6,1,22,10,16,9,6,4,6,5,1,10,3,11,4,6,9,4,6,9,3,3,8,10,6,9,16,4,5,4,6,12,10,7,10,3,4,12,4,6,14,9,5,13,5,5,5,8,4,5,11,12,21,8,1,5,5,5,2,14,4,24,12,35,11,7,5,22,7,5,5,25,4,7,12,18,7,25,4,19,16,11,34,5,6,6,7,16,13,2,27,6,11,11,5,5,4,9,11,2,6,7,15,16,15,4,8,5,3,18,5,14,4,11,13,4,12,5,11,11,11,11,16,10,8,9,48,8,13,32,7,5,4,5,7,3,9,25,5,10,6,23,5,9,8,10,10,3,8,11,2,12,12,5,3,8,1,5,7,4,8,10,22,9,4,2,8,5,5,22,17,10,6,4,6,4,7,17,1,5,19,24,2,10,5,28,16,5,30,9,10,5,10,16,1,12,3,6,32,7,48,3,7,4,1,8,10,4,8,6,4,2,6,12,20,9,5,3,4,2,5,13,13,6,14,5,14,18,11,13,8,3,7,11,35,18,4,3,5,2,4,8,30,5,11,5,4,5,17,5,7,17,9,4,11,3,8,9,12,7,2,4,26,9,12,5,27,4,3,11,26,15,3,10,31,11,5,18,4,5,33,39,3,22,11,9,15,36,9,10,24,8,16,10,5,5,10,5,9,3,5,18,22,8,8,15,12,12,5,16,15,14,13,3,4,16,24,1,5,7,21,16,6,6,12,2,2,3,2,8,6,15,6,11,1,2,11,1,3,5,7,4,18,19,2,7,7,9,32,7,2,8,3,16,15,11,6,1,6,2,14,8,1,16,3,3,21,11,7,2,6,13,4,9,10,4,4,14,20,34,22,8,3,3,6,5,1,14,4,5,23,10,17,16,23,7,16,40,14,17,12,4,10,11,3,22,14,10,3,27,3,8,8,6,14,12,3,4,4,3,21,1,14,3,12,8,8,5,10,6,12,4,7,21,16,4,21,11,16,5,11,14,21,1,18,10,6,1,12,6,8,4,6,14,18,7,13,3,6,11,7,11,3,11,11,2,9,9,10,14,7,13,9,3,10,7,4,4,3,4,11,3,6,9,5,10,15,10,2,16,6,2,8,8,11,15,5,12,3,4,4,23,12,31,7,7,7,6,4,13,6,3,12,18,5,3,10,8,3,7,4,17,7,14,1,11,2,19,6,25,15,7,5,8,9,29,15,3,3,27,13,4,5,5,7,36,4,22,3,5,5,28,33,5,13,31,14,5,11,7,14,5,6,25,5,2,21,9,7,21,6,2,7,17,2,9,9,4,14,4,8,6,10,5,6,12,4,18,31,4,2,8,7,5,5,12,9,12,7,12,16,14,10,37,9,20,3,10,2,9,5,2,20,31,22,7,14,23,10,9,7,6,8,6,9,4,4,17,8,12,11,35,22,12,3,9,3,20,11,5,12,21,15,6,7,6,15,7,8,4,16,6,22,7,22,7,13,2,28,10,4,3,10,10,6,23,28,9,12,12,25,5,11,4,18,4,5,6,3,5,11,8,3,27,13,17,10,9,12,6,9,4,22,6,8,14,4,17,5,2,19,13,9,7,4,11,6,15,5,4,4,4,18,7,6,8,7,7,15,29,18,14,21,18,17,5,12,10,11,8,10,19,10,5,8,8,10,3,7,6,8,6,3,3,3,16,8,6,4,19,7,13,3,7,16,12,3,37,39,13,8,17,5,41,13,9,10,9,18,21,8,3,9,15,7,43,22,6,6,15,29,13,12,6,15,12,8,6,8,7,10,6,7,5,9,5,22,4,10,6,5,13,8,5,16,5,30,7,19,7,8,3,12,9,10,7,5,20,10,15,9,8,12,7,24,11,8,14,6,9,3,3,6,35,4,3,11,13,5,16,3,11,19,15,9,9,6,11,14,5,6,13,8,4,12,10,3,18,19,5,5,18,15,6,7,9,16,23,10,7,6,47,15,20,5,45,18,22,6,7,3,5,10,6,5,17,6,7,7,16,25,4,8,4,9,13,18,26,4,26,4,11,8,6,21,5,11,7,3,5,16,7,6,15,4,10,13,11,3,10,6,10,9,13,7,3,7,5,9,12,9,11,3,15,7,33,11,8,5,19,10,14,18,5,22,7,3,2,5,44,26,17,13,3,6,3,12,7,5,10,11,17,9,6,19,12,5,17,27,17,13,3,13,16,4,8,12,26,5,4,4,15,4,28,14,11,23,10,9,25,3,23,12,3,9,43,8,11,12,16,7,8,18,20,18,8,9,3,2,4,16,14,17,11,5,6,14,9,7,11,13,13,7,5,33,23,12,3,12,5,5,9,6,8,20,23,7,6,7,2,4,27,14,7,4,23,9,6,13,7,4,5,15,10,3,4,9,3,8,42,4,7,8,8,14,4,18,7,13,29,10,7,5,10,26,9,7,5,15,14,10,5,4,14,2,13,13,8,6,11,11,13,5,16,8,9,12,10,9,6,21,6,2,9,18,8,11,10,24,8,12,6,13,8,5,8,5,10,18,7,10,5,10,30,7,11,16,6,4,11,8,6,7,7,7,9,23,18,9,7,17,10,14,8,4,21,3,8,9,5,4,7,33,18,2,4,24,3,25,10,16,18,1,4,7,14,12,12,6,33,3,14,20,6,8,20,13,7,6,17,3,10,10,6,6,7,26,11,2,8,12,12,2,8,8,8,22,12,16,11,6,18,4,17,15,9,6,11,3,22,2,29,27,21,4,12,11,12,5,20,5,12,6,9,15,8,17,7,10,5,10,8,8,12,2,28,8,5,15,21,22,22,4,11,47,5,15,3,22,9,31,23,12,4,16,22,13,9,6,3,7,11,4,2,13,17,7,7,7,8,8,9,1,18,9,2,8,3,14,22,4,13,7,5,8,11,6,23,25,3,5,3,3,6,6,10,4,15,25,17,9,6,5,25,13,6,4,3,7,14,1,18,8,6,10,4,15,5,27,22,13,2,6,3,5,6,4,10,3,19,7,9,15,3,3,12,1,6,5,9,8,7,5,4,10,9,15,6,4,8,30,4,24,6,10,12,13,7,5,1,11,15,4,17,5,25,10,8,13,17,16,23,16,6,6,16,8,20,10,13,22,9,15,6,7,5,14,6,10,8,9,11,13,19,10,4,17,6,29,14,6,5,14,7,34,26,3,25,31,11,12,8,4,11,2,16,6,5,8,9,2,9,19,12,11,23,5,36,5,4,11,7,21,8,15,6,5,7,7,10,20,9,9,10,9,7,11,4,9,2,4,9,10,3,29,6,15,5,11,5,7,17,32,23,11,5,21,2,7,8,4,5,7,6,14,3,7,18,7,26,4,4,14,6,11,32,5,2,7,13,8,14,7,3,6,7,17,4,4,12,2,16,2,4,21,3,4,27,8,4,6,6,3,4,35,11,16,8,20,2,5,6,9,6,18,5,3,11,4,11,3,42,6,5,4,6,3,11,15,5,6,4,5,4,12,7,17,4,10,18,5,8,6,12,12,5,3,6,5,6,4,4,7,10,5,12,26,30,4,7,5,11,10,22,9,6,15,7,2,10,6,8,5,20,18,3,8,12,10,27,37,2,2,7,6,2,10,10,8,3,21,16,4,1,12,21,5,6,4,4,10,23,2,5,13,5,16,3,3,10,16,3,13,3,19,2,9,22,5,8,24,3,11,8,6,6,3,8,7,51,8,4,2,5,10,4,4,10,5,6,3,7,9,3,48,4,4,14,5,9,3,2,8,7,4,8,16,12,13,3,13,10,12,9,2,7,9,13,3,3,15,4,18,5,1,21,14,11,3,8,10,19,13,1,14,10,8,7,18,8,9,5,6,12,1,13,12,7,4,3,19,21,11,12,6,4,15,7,13,8,15,7,8,6,4,20,5,15,1,6,2,6,7,5,8,3,7,51,4,18,1,8,9,13,22,6,11,3,10,4,31,14,12,5,7,8,9,5,8,6,37,16,4,8,15,9,8,25,3,6,23,4,3,4,18,4,6,9,13,12,9,17,3,26,7,5,17,11,15,8,5,11,7,9,9,17,10,24,9,5,5,5,3,5,8,6,3,10,11,5,3,13,49,22,9,4,15,9,8,9,2,8,7,11,8,12,13,10,12,10,6,5,5,7,14,6,5,9,6,6,7,9,4,35,14,3,13,19,8,5,9,17,8,12,17,10,10,5,6,13,10,9,8,14,31,16,2,15,9,14,8,1,4,10,6,8,6,14,2,22,13,13,9,6,9,9,15,21,7,14,6,12,12,21,10,5,22,15,13,4,13,10,10,10,9,9,6,4,12,4,6,5,10,5,12,9,10,3,13,6,19,3,20,14,13,3,5,20,6,4,35,12,44,4,7,25,11,5,14,12,14,11,14,12,11,8,25,13,9,16,15,5,7,8,14,12,38,12,5,9,7,11,13,9,9,6,9,7,15,6,19,12,5,29,19,4,4,23,11,9,5,13,22,4,7,10,11,9,46,8,6,42,4,6,11,7,2,9,3,10,23,21,15,20,12,17,20,7,5,12,4,7,7,9,5,17,11,4,6,7,16,8,9,7,5,13,3,25,14,12,30,3,8,7,20,20,9,6,6,13,29,11,16,14,8,10,13,21,10,13,35,7,14,4,3,6,9,7,15,11,17,7,17,12,13,10,17,19,9,12,6,6,7,11,7,6,11,3,10,4,10,2,10,2,8,18,10,8,8,11,8,6,6,12,4,8,9,4,6,22,11,9,19,13,15,8,6,9,6,3,5,8,16,24,1,7,7,8,8,8,5,9,25,10,10,7,4,14,1,16,14,1,19,4,4,28,14,14,8,21,3,8,10,4,8,11,15,41,7,9,18,20,11,8,12,8,10,28,10,14,26,8,10,4,10,4,11,15,4,4,22,17,13,11,8,10,5,25,4,5,15,14,5,13,11,8,3,10,11,12,14,4,10,24,18,8,14,10,10,7,9,37,8,16,4,3,14,4,5,20,19,10,10,15,11,4,8,9,8,5,12,9,7,8,6,7,4,14,6,4,2,6,9,7,14,5,31,7,7,6,6,23,19,8,7,19,42,7,4,5,8,8,14,7,9,8,16,5,12,5,9,10,26,6,17,3,12,25,10,8,5,27,14,34,3,25,13,12,9,6,11,11,5,15,15,25,22,6,5,5,18,6,6,3,8,9,6,14,12,18,11,6,17,13,11,6,29,13,3,13,15,8,7,6,13,5,12,7,5,2,4,8,3,10,4,13,7,5,14,11,3,2,29,2,7,4,21,11,6,7,5,10,13,3,3,16,10,5,13,6,20,20,9,7,17,3,17,10,18,8,9,17,13,27,5,11,13,2,16,6,29,15,9,43,4,5,5,14,12,6,15,20,9,10,4,10,3,4,7,5,4,6,17,7,3,14,22,13,18,6,17,8,24,12,4,16,20,12,15,8,6,10,4,5,37,6,15,8,13,6,7,11,4,15,11,4,35,9,4,15,8,6,12,10,31,7,15,15,7,12,22,17,8,9,13,24,15,15,7,7,11,5,18,7,14,3,9,3,4,10,3,9,2,8,3,9,4,13,18,13,8,8,12,13,17,8,10,25,8,31,7,21,16,19,13,18,7,5,23,10,10,9,16,17,9,7,9,7,14,29,3,9,1,9,4,5,5,9,1,7,8,15,5,7,2,22,22,11,8,9,6,9,3,11,30,8,23,24,4,14,4,3,14,7,16,9,8,8,7,5,14,14,29,19,9,6,4,11,3,23,4,5,15,8,17,6,5,7,5,4,6,14,17,12,13,22,20,10,3,10,16,8,3,11,19,4,4,11,4,5,13,6,15,30,15,6,15,14,5,11,13,17,5,3,18,10,8,14,39,1,26,11,8,8,3,19,8,4,6,12,19,4,3,7,19,13,2,14,29,15,3,9,3,7,17,8,3,16,41,11,7,8,6,26,10,13,12,4,25,17,22,9,4,6,24,31,21,7,27,19,7,2,4,11,9,7,39,12,22,11,20,6,9,9,2,6,12,8,22,18,9,15,8,10,16,8,6,6,15,24,19,9,7,36,16,6,20,10,7,11,25,11,5,6,21,15,5,1,29,10,3,18,16,11,7,36,3,10,11,24,32,4,15,3,1,8,9,8,8,12,7,5,7,7,11,12,11,15,1,5,9,7,12,15,34,6,5,11,24,3,15,5,25,12,24,15,9,3,4,20,6,16,10,5,5,5,6,3,5,17,8,13,2,18,11,9,4,44,16,3,6,25,32,8,3,9,7,8,27,7,16,10,10,37,11,3,26,8,9,5,24,17,9,12,13,16,21,46,11,10,12,14,12,19,5,6,15,27,4,4,14,14,7,12,18,19,10,5,7,16,3,8,14,20,15,7,6,8,7,5,16,5,24,13,6,7,9,12,11,11,6,25,12,14,26,7,1,8,22,10,3,52,30,7,6,48,5,20,10,25,16,5,19,25,6,6,11,8,10,9,31,9,10,6,3,6,7,9,24,1,7,7,5,17,31,36,6,6,15,21,6,16,12,6,4,11,8,12,18,5,4,5,4,6,11,2,8,19,7,10,5,12,6,2,13,7,20,29,11,10,11,8,13,11,3,8,21,22,19,4,45,24,30,3,6,4,19,12,10,15,8,5,11,3,10,5,10,12,11,13,6,9,5,14,6,7,48,10,7,13,23,4,5,8,8,14,9,10,1,13,4,8,3,5,10,2,13,3,5,13,4,12,4,11,4,18,6,14,5,6,11,8,10,5,6,10,26,13,6,14,4,6,7,32,10,6,4,15,20,14,19,2,2,12,11,8,26,19,20,7,13,10,12,46,7,14,13,10,33,17,27,17,22,11,8,30,13,14,4,8,25,6,10,24,18,27,12,14,8,8,11,9,11,18,17,23,8,7,13,17,9,4,6,23,5,5,8,12,6,18,4,35,21,13,5,17,14,19,18,14,5,12,8,7,15,16,4,6,9,7,6,2,2,8,10,50,3,3,13,9,12,17,10,12,18,13,19,19,34,26,8,6,11,54,6,17,44,19,5,3,10,10,14,15,19,10,12,10,17,4,12,8,8,14,23,6,3,5,7,8,11,13,7,15,12,24,28,14,25,25,26,10,10,8,13,5,12,11,14,18,15,11,5,10,12,7,25,12,8,19,7,8,8,3,10,4,21,10,3,4,6,8,11,3,9,7,20,16,9,6,12,9,5,17,17,4,10,11,6,32,8,14,7,14,7,8,4,10,11,51,13,21,7,10,4,21,15,6,7,11,7,12,2,5,7,7,13,4,2,10,9,7,10,14,12,6,18,8,11,10,13,7,16,6,6,9,4,10,12,4,9,18,2,12,6,3,12,11,17,14,11,15,8,6,11,11,7,22,6,11,18,12,5,6,6,8,6,15,11,4,11,11,20,16,2,11,25,21,12,18,2,13,1,15,26,4,11,6,9,4,10,14,13,6,7,4,16,25,10,5,14,4,9,45,3,5,2,14,11,20,9,34,12,6,1,9,12,5,15,1,10,8,7,39,5,5,5,16,2,5,4,4,7,5,14,5,6,5,13,11,13,10,4,6,2,8,17,39,8,6,6,13,2,13,6,3,17,6,21,9,5,7,47,11,9,15,15,4,4,11,2,3,11,13,5,10,8,8,12,8,8,49,13,3,12,9,20,5,8,15,14,2,6,4,28,20,50,8,7,6,4,4,3,13,50,11,13,1,5,4,6,10,6,15,8,7,5,7,4,21,13,2,5,3,17,27,5,7,10,5,6,9,3,10,7,20,16,6,13,24,8,18,10,12,26,3,3,10,6,9,4,9,35,5,12,3,5,7,20,8,4,4,7,4,5,5,2,3,3,5,12,4,21,15,2,8,5,8,37,11,6,49,6,5,10,8,4,14,9,16,9,18,4,5,8,6,7,5,4,12,8,9,9,9,8,37,14,8,9,6,2,23,5,8,10,15,12,10,8,9,7,37,10,8,28,19,5,4,22,3,5,4,12,26,7,10,16,11,2,6,19,10,8,6,5,2,12,9,6,13,26,25,7,3,38,11,2,38,4,12,23,22,9,15,13,4,7,17,35,15,4,7,11,10,10,28,16,24,7,3,2,10,6,9,14,6,22,14,19,35,14,32,21,15,10,21,7,4,7,3,2,11,21,15,10,27,3,8,6,14,8,11,39,3,5,14,15,13,6,4,11,6,9,3,4,10,6,17,4,4,7,15,9,5,6,11,4,12,5,6,8,18,11,16,18,11,11,5,5,10,5,2,2,32,19,8,10,18,18,20,8,27,4,16,15,5,2,10,4,11,12,8,6,8,11,8,8,9,17,18,15,7,9,3,10,19,3,5,14,8,3,25,17,3,13,6,4,13,5,13,6,13,21,13,6,30,21,9,15,9,3,14,4,3,11,6,13,24,8,19,30,21,14,16,16,30,3,7,3,12,10,26,5,3,18,5,11,5,29,7,5,5,28,30,7,3,5,5,7,11,12,14,13,22,4,16,28,10,15,6,6,4,9,5,6,9,10,12,4,15,16,30,28,2,11,5,10,9,3,7,7,13,21,1,6,6,7,15,20,8,8,43,3,6,22,7,18,25,7,3,3,6,3,6,34,8,12,8,5,13,17,5,12,10,6,9,3,18,18,38,8,7,4,9,25,5,13,10,9,7,6,4,17,17,20,4,15,18,12,6,9,14,24,8,5,22,7,10,13,10,3,17,6,8,16,10,24,4,14,1,17,6,3,12,8,41,22,20,11,22,7,25,7,21,23,11,5,7,34,9,10,34,49,19,24,22,27,18,19,24,4,15,6,3,6,5,9,26,11,36,34,6,4,17,21,17,2,33,10,15,9,39,3,9,7,5,8,3,3,13,6,22,6,5,19,7,9,10,17,12,17,18,3,5,4,4,38,10,6,15,9,11,11,30,25,5,3,20,4,18,14,12,2,5,5,3,39,11,23,31,15,5,4,11,11,4,14,28,11,16,17,4,3,6,9,10,12,8,7,13,11,12,15,13,6,6,17,7,6,7,3,26,4,12,14,7,6,10,4,9,9,6,13,13,3,11,4,7,3,12,15,12,8,17,9,3,8,27,15,4,3,11,10,6,6,2,5,8,2,13,15,24,10,10,32,14,7,9,18,10,8,20,6,13,23,17,40,15,9,19,2,40,13,7,9,7,4,18,5,8,1,4,12,14,11,18,8,14,6,6,9,6,6,4,9,31,14,17,7,5,4,17,5,4,7,2,26,9,9,29,11,6,6,14,3,3,20,36,48,9,7,6,15,7,10,4,18,6,3,7,14,10,7,16,7,5,19,6,39,15,6,10,7,21,12,4,13,40,21,3,7,21,14,17,5,35,10,13,14,1,20,13,10,9,3,5,12,22,9,17,8,13,5,2,10,6,4,26,46,11,33,16,8,3,15,12,15,1,18,4,12,6,5,12,16,12,13,7,7,12,25,20,6,8,24,10,9,9,15,35,6,33,13,27,17,22,4,26,9,17,16,12,4,15,3,7,3,4,4,5,4,3,16,7,7,8,22,14,3,13,5,18,7,2,6,3,3,4,9,21,23,13,6,1,19,11,13,5,28,3,17,16,4,5,14,5,20,5,3,6,18,8,2,6,35,5,5,7,8,19,1,6,31,8,8,8,3,21,10,6,9,5,30,11,6,12,7,4,41,9,42,5,10,22,6,17,18,33,10,15,9,40,10,4,2,6,3,15,3,29,12,10,8,5,9,4,8,5,7,3,15,8,23,5,6,3,11,8,3,6,10,29,5,8,5,2,14,5,12,5,16,19,8,6,7,9,18,45,4,34,9,10,13,5,14,5,3,40,25,10,9,12,14,6,6,5,7,8,9,7,6,22,2,3,4,7,3,6,8,14,10,11,6,14,15,12,15,10,5,14,7,23,8,6,14,5,10,4,4,45,14,4,36,3,11,6,16,5,8,11,10,8,12,5,7,3,27,7,11,13,4,27,21,4,7,22,8,18,5,10,12,9,4,5,37,3,12,8,22,17,12,8,6,16,5,30,4,10,8,6,7,12,7,5,5,6,12,30,17,7,8,9,11,18,6,5,25,20,12,9,9,14,8,3,18,16,26,9,11,12,23,8,3,4,6,10,7,24,12,7,14,23,10,6,9,4,15,4,5,18,13,12,3,21,4,6,2,37,11,14,17,23,3,15,5,7,7,10,11,6,9,5,6,2,11,19,6,6,5,36,6,7,20,3,7,1,18,6,20,28,12,10,32,14,13,4,26,2,12,7,18,15,27,6,6,6,46,40,16,14,6,17,17,15,14,21,24,9,14,3,46,3,4,11,8,19,5,7,14,13,11,30,19,19,3,30,4,3,39,4,7,39,8,4,14,11,10,7,3,5,4,27,21,22,13,12,7,11,12,3,5,14,4,10,13,6,3,37,31,7,30,17,20,11,16,12,9,14,9,31,20,10,10,5,9,12,13,22,12,6,9,11,23,10,4,7,18,13,10,10,12,10,22,8,6,2,8,5,15,5,14,9,17,12,13,8,18,14,13,23,1,6,3,8,14,17,4,43,22,7,5,7,9,37,13,3,13,8,7,16,7,10,2,1,16,12,7,9,9,21,11,24,1,9,31,3,4,9,22,7,18,6,5,23,8,5,19,10,11,7,2,10,10,11,20,7,28,4,2,14,16,14,26,15,28,5,2,37,28,4,21,5,9,7,35,7,16,5,6,7,2,5,25,2,28,11,20,6,9,12,19,16,4,9,1,5,1,17,5,3,18,10,6,10,5,5,7,8,11,7,7,25,10,6,4,15,4,2,7,3,10,9,14,12,11,7,6,5,10,25,6,17,5,10,3,23,4,4,8,14,5,5,9,17,10,11,12,43,15,4,6,5,12,10,3,7,19,9,4,13,17,5,11,4,1,18,9,5,15,1,17,14,33,7,5,13,8,2,2,26,20,12,8,2,14,15,3,7,10,12,8,11,5,4,10,14,5,18,44,5,8,14,12,8,10,25,9,15,16,7,24,19,7,17,1,2,42,16,10,1,10,17,4,4,15,9,8,10,11,11,5,3,4,13,5,5,9,11,6,5,20,4,14,3,13,7,10,7,3,10,3,5,10,14,9,20,8,13,4,6,8,5,25,17,29,11,7,1,5,6,15,9,3,1,10,18,5,16,27,8,5,18,9,19,7,6,7,14,12,10,27,4,11,6,21,6,13,5,4,14,3,16,9,14,10,3,8,5,15,2,1,12,8,22,7,14,19,5,25,7,9,5,13,24,2,6,10,13,3,5,7,22,28,21,3,7,2,28,6,13,17,5,12,12,4,7,7,6,1,14,4,32,17,2,4,12,19,17,18,15,5,8,14,10,11,1,4,11,12,5,5,6,5,12,27,1,15,8,9,20,5,12,10,8,4,16,6,10,9,13,10,4,4,11,10,8,7,10,12,12,4,1,9,2,8,31,7,17,10,6,3,16,23,4,17,2,24,11,9,5,13,13,1,7,5,9,10,7,6,14,4,14,6,8,6,6,1,4,21,9,4,4,2,6,7,13,16,2,3,17,5,10,3,9,3,22,8,4,23,8,7,8,15,1,5,6,22,11,5,7,8,13,21,17,10,15,6,8,4,20,16,18,2,6,7,17,17,6,8,5,15,15,12,7,6,18,4,7,10,2,15,6,47,4,16,19,3,2,6,1,1,13,9,1,8,8,15,5,23,2,8,11,5,8,4,8,13,12,11,7,12,9,9,2,35,11,14,4,5,13,17,4,15,5,5,5,15,10,15,14,12,20,28,32,11,6,22,5,12,18,9,6,3,15,4,9,3,7,15,22,7,9,22,13,4,9,6,15,12,7,28,2,5,6,3,14,17,13,6,13,18,12,4,11,18,19,9,13,8,19,17,1,4,21,12,14,15,25,10,8,8,2,23,35,7,7,46,11,7,9,20,19,21,12,4,4,5,8,33,4,6,23,11,14,7,4,12,12,4,4,7,9,8,14,12,6,8,15,12,5,12,17,19,9,2,6,14,14,6,6,7,21,5,9,46,18,9,17,16,4,7,11,11,11,27,5,12,5,3,5,14,5,6,4,15,6,14,12,7,6,28,7,20,11,5,3,9,4,7,14,9,1,34,14,38,8,17,8,6,8,7,9,9,18,4,13,1,6,13,12,4,8,7,12,10,7,4,12,7,15,9,11,17,5,36,8,4,13,18,10,9,5,19,11,10,3,3,6,4,8,5,7,3,15,11,13,25,5,17,19,10,3,10,21,11,10,38,11,13,11,4,6,10,4,11,28,17,12,16,17,4,5,3,10,4,1,8,12,4,13,8,18,8,10,6,6,12,18,7,4,11,7,7,21,25,22,9,6,6,5,24,10,19,15,7,27,5,8,11,3,20,7,5,6,13,6,7,6,2,4,12,10,18,14,13,5,12,26,12,12,42,24,3,10,11,12,6,16,7,15,5,24,10,14,14,8,11,5,3,18,12,11,16,12,9,13,20,8,6,5,6,23,8,3,22,7,25,4,7,39,4,3,12,7,4,24,27,4,24,3,10,3,18,11,14,16,3,2,28,21,15,14,6,14,15,9,8,8,9,18,19,6,9,5,5,14,9,4,2,12,23,46,8,10,12,12,16,15,2,8,5,13,11,11,14,8,3,5,9,7,11,5,12,7,11,6,7,9,23,4,40,18,7,29,8,29,5,14,23,6,16,21,13,4,2,4,10,10,6,6,35,5,8,8,8,7,5,4,9,15,15,25,33,41,6,15,13,10,9,12,11,7,8,22,12,12,2,4,6,10,10,7,12,10,12,9,32,8,5,9,9,4,8,22,7,1,3,15,1,4,7,12,10,7,2,10,22,11,19,28,6,8,7,10,9,30,6,3,7,7,28,17,10,9,6,6,3,3,6,11,17,6,8,10,13,6,6,9,9,7,5,17,10,20,15,4,4,24,14,9,3,33,8,18,6,3,2,5,17,10,2,3,13,14,16,6,10,28,19,13,14,9,28,5,18,18,5,8,1,14,12,3,8,10,12,27,11,45,16,23,9,3,4,6,11,12,9,12,5,6,14,5,14,4,8,5,8,17,6,2,4,17,6,14,6,29,16,11,14,9,14,1,6,30,19,7,7,3,16,7,7,7,3,9,4,14,8,6,5,8,29,1,12,5,16,5,26,13,13,10,20,14,9,16,16,6,10,1,8,4,5,11,22,11,5,17,2,19,1,12,43,12,21,20,8,10,10,6,3,10,16,13,5,5,24,8,9,4,9,9,6,32,12,5,16,10,7,5,7,4,6,12,7,18,15,6,12,15,5,28,5,8,8,19,10,12,10,4,5,14,10,5,5,18,20,15,4,16,10,8,20,15,15,10,6,4,2,21,4,12,7,14,14,8,7,9,5,9,12,3,3,17,7,10,36,7,16,13,9,4,15,1,11,43,7,9,8,10,2,7,3,3,6,5,8,3,20,4,8,17,19,5,13,6,6,3,5,33,12,16,22,13,1,14,8,9,7,20,14,7,4,6,12,7,27,7,12,15,1,10,8,7,1,10,2,24,5,3,13,38,38,19,19,16,7,11,27,2,8,6,4,8,7,14,8,5,13,1,25,7,8,33,27,21,10,3,4,1,9,18,14,4,16,5,14,22,3,6,14,5,13,3,4,10,4,16,14,21,4,11,2,13,2,12,4,1,7,16,16,6,8,11,14,13,7,19,10,15,2,17,6,2,22,10,2,5,11,16,8,2,18,4,3,4,26,7,10,3,19,3,30,9,9,14,1,13,12,10,33,11,10,8,5,11,10,19,3,3,45,10,9,9,12,7,27,6,13,15,10,5,5,7,11,5,14,3,9,4,22,7,7,16,8,2,8,4,19,10,1,5,3,16,8,45,24,18,11,10,2,39,5,25,7,10,4,4,5,15,14,36,4,10,21,5,2,11,3,12,15,14,3,31,10,10,5,8,8,5,8,9,50,11,11,11,7,6,44,11,3,6,4,9,7,9,34,8,4,5,7,4,11,6,3,2,8,10,9,5,5,9,13,29,10,16,16,9,4,23,6,3,6,18,9,2,4,3,2,5,8,12,18,12,13,14,12,46,4,9,5,49,8,10,6,5,11,12,3,9,20,4,12,6,6,18,5,10,10,19,7,19,5,9,11,7,6,16,7,11,21,10,13,6,16,21,9,6,18,9,12,8,45,12,4,11,19,14,32,21,36,11,6,5,17,11,5,7,9,7,15,8,4,2,9,7,6,20,6,21,9,32,4,20,14,11,5,11,3,4,4,5,5,5,19,8,3,4,16,6,6,4,5,11,1,3,8,4,11,10,5,12,24,23,15,5,11,1,13,5,18,10,13,6,1,11,7,11,6,24,9,7,11,13,9,3,10,3,7,11,20,1,3,11,4,14,1,9,20,5,5,10,4,3,3,5,4,8,4,15,37,7,8,3,7,2,8,24,16,13,3,3,5,6,18,8,4,10,6,6,3,20,1,7,8,8,2,12,8,15,3,7,8,4,25,10,10,16,8,5,4,11,5,7,4,28,9,6,14,11,3,20,7,8,8,11,47,1,14,2,3,7,3,6,2,6,4,3,25,5,6,12,8,15,22,18,11,2,11,3,1,51,10,3,40,11,9,18,13,18,7,14,3,11,3,1,11,2,17,32,12,5,3,6,1,34,14,12,4,35,4,8,48,2,3,9,10,4,29,20,2,16,5,11,10,4,8,19,15,12,12,6,5,11,9,13,21,26,14,30,3,6,11,23,11,14,4,1,7,2,15,9,8,5,4,8,7,27,10,8,3,14,3,5,26,6,5,5,3,5,11,4,22,2,6,14,4,14,4,5,10,6,9,11,18,3,3,4,15,12,4,9,4,13,5,9,8,8,15,13,6,11,6,17,23,51,1,1,4,17,15,24,5,9,3,9,1,3,20,13,5,4,16,3,28,27,3,17,9,7,10,32,11,10,3,5,14,13,11,7,12,11,14,14,2,10,11,9,26,6,8,4,5,17,39,7,18,7,4,7,9,10,41,30,6,7,6,9,3,1,1,4,9,25,4,10,5,4,9,33,7,1,38,2,8,7,14,27,21,14,1,2,8,14,18,6,11,13,3,7,28,6,3,16,3,1,5,55,6,3,3,12,2,7,4,5,6,12,9,9,8,6,3,4,10,4,9,7,10,2,8,6,7,9,17,37,19,3,11,39,27,5,21,13,9,7,2,8,4,7,18,20,14,10,11,14,3,3,4,15,10,8,7,24,29,12,6,4,6,7,2,7,8,7,6,4,4,1,12,8,29,6,10,51,7,5,4,5,2,4,1,13,9,3,5,5,9,16,8,6,12,9,9,13,18,4,14,12,3,2,6,7,10,4,3,4,8,5,19,12,14,23,24,6,4,13,25,5,3,3,18,1,4,10,4,3,2,5,9,13,16,6,11,4,7,8,6,4,4,46,13,9,5,6,2,13,5,9,5,3,4,3,5,3,3,5,9,11,19,2,6,1,13,24,7,5,28,8,18,10,14,14,11,2,3,8,15,3,25,10,5,4,5,6,28,3,1,6,3,6,6,12,2,4,5,40,12,8,8,11,17,2,4,5,4,7,5,10,4,8,1,1,7,2,1,4,24,2,5,2,8,3,3,4,12,7,3,1,6,1,22,11,6,11,7,9,10,16,3,2,6,8,2,6,1,12,20,3,1,4,24,4,4,15,19,5,12,6,5,11,14,1,34,9,5,6,9,20,2,1,2,8,6,1,9,7,2,1,5,12,24,21,7,11,5,38,2,6,10,1,17,3,27,5,10,14,5,13,6,26,21,6,4,9,1,4,3,13,16,28,14,9,5,16,9,3,9,6,54,18,9,13,6,13,5,10,3,11,5,7,25,5,10,3,13,6,16,7,3,7,49,6,1,3,9,4,13,12,11,5,7,21,25,12,4,15,10,10,2,14,7,5,1,21,3,7,7,1,2,8,7,21,10,9,3,7,17,8,12,10,8,1,9,11,5,27,14,6,19,5,4,7,20,22,11,26,14,5,14,1,15,2,4,8,3,4,3,3,5,8,7,7,10,1,2,5,5,6,11,2,3,29,3,22,6,7,1,13,4,11,11,3,17,17,52,5,23,18,9,9,5,21,4,19,40,5,5,35,12,15,9,7,9,5,5,3,5,10,31,13,5,5,11,3,22,8,13,11,13,6,9,51,6,19,4,10,7,20,4,13,33,6,3,7,6,18,5,15,5,23,9,2,4,7,13,6,10,13,33,10,16,14,5,6,11,2,15,14,3,17,7,4,13,3,21,9,23,10,5,4,1,2,21,9,5,1,22,43,3,13,12,38,4,5,12,25,21,14,15,13,6,4,5,7,15,6,13,24,5,19,3,8,5,11,7,8,3,7,10,19,5,13,12,10,11,2,5,8,7,3,15,3,14,7,13,6,5,11,7,1,9,8,5,5,8,6,4,11,6,5,7,6,3,16,13,8,8,6,28,8,4,2,3,13,10,15,4,13,11,3,13,13,9,4,5,13,18,6,14,6,15,1,3,6,16,3,14,7,14,4,12,3,14,6,13,24,11,9,42,5,5,7,8,3,16,16,19,8,18,3,7,3,19,7,6,5,12,27,17,5,11,21,14,4,11,9,14,9,9,18,4,2,10,5,7,5,16,7,17,10,10,8,9,30,10,24,14,10,3,3,9,12,10,9,4,2,12,6,8,15,7,10,4,14,16,10,36,3,47,17,13,24,6,7,3,14,11,14,2,6,1,11,6,3,9,3,8,8,21,1,31,4,16,3,16,4,1,47,12,3,1,5,5,1,6,5,3,33,21,3,3,9,15,8,11,9,13,11,24,9,34,35,16,5,14,8,2,12,12,10,13,5,9,8,16,10,3,19,7,8,8,7,6,8,7,10,3,15,2,15,2,6,5,11,10,4,8,3,11,14,12,4,12,11,3,7,16,20,20,6,21,4,7,6,6,11,7,3,25,11,5,7,24,5,3,5,5,13,4,30,15,4,5,15,13,15,14,3,1,2,4,20,12,9,3,10,28,9,4,10,2,8,6,7,8,6,8,2,15,32,5,6,4,6,5,14,1,4,8,11,8,3,10,31,2,5,4,8,5,8,11,5,1,17,4,12,10,3,5,23,19,4,8,10,3,10,20,8,3,6,5,10,13,20,15,8,11,8,16,6,5,9,8,11,7,13,16,18,23,3,10,8,2,11,2,35,4,17,6,5,12,10,2,11,5,15,11,9,12,6,7,3,8,3,10,7,13,3,29,17,12,21,4,9,14,5,5,8,14,13,7,9,3,9,12,13,2,7,4,8,11,3,20,3,12,6,1,7,15,7,10,12,1,47,14,11,8,38,1,15,14,4,7,7,3,11,12,5,9,5,11,11,6,27,7,5,13,6,7,11,8,26,10,6,9,9,2,4,10,5,6,13,16,16,11,17,12,7,11,12,7,8,8,20,3,19,3,26,14,11,6,13,7,12,25,21,8,8,10,4,1,21,10,7,2,7,9,1,10,14,15,6,5,6,19,3,11,15,8,14,10,2,6,5,4,13,5,2,7,6,18,5,1,6,5,4,10,14,2,18,11,11,12,9,7,12,15,4,1,35,17,5,13,13,4,10,17,7,11,12,11,10,13,15,13,9,2,10,3,16,10,4,16,11,6,6,3,10,8,15,10,4,18,8,16,7,8,3,2,18,4,10,15,9,16,12,6,22,1,4,8,12,7,1,3,18,21,31,11,7,10,7,16,3,15,6,10,1,8,18,5,6,5,9,5,3,6,9,4,2,7,6,9,6,10,9,9,16,3,9,6,4,2,9,1,5,14,22,2,14,10,2,5,5,17,4,6,13,4,2,13,44,20,1,36,6,41,7,13,10,18,5,41,6,10,5,4,10,10,22,15,23,22,3,7,1,22,15,11,17,19,14,11,1,4,17,3,9,2,10,18,5,9,14,2,3,6,8,8,6,15,12,4,7,10,12,9,9,15,2,31,9,10,4,19,8,6,1,7,7,36,14,2,4,5,7,11,2,19,5,13,27,10,17,8,43,5,4,3,6,1,7,8,10,4,3,3,4,3,17,3,16,31,3,6,13,17,3,4,5,7,17,15,5,9,5,24,9,6,7,10,6,11,5,16,8,7,4,3,16,5,15,9,5,5,15,7,5,15,10,7,27,4,19,6,7,3,7,15,9,4,4,6,14,6,7,2,7,19,19,14,11,3,11,8,12,28,28,7,7,11,7,4,4,33,14,8,8,7,7,17,18,16,2,12,4,44,12,5,3,8,10,10,9,7,17,25,13,7,5,5,6,8,4,8,6,5,6,4,4,15,3,1,28,9,14,13,31,11,2,4,12,8,2,11,43,9,8,6,4,5,5,8,24,6,8,24,51,13,4,12,5,4,32,11,5,2,25,7,4,13,15,14,7,4,2,28,9,12,6,17,6,11,5,17,8,16,3,3,3,9,12,5,14,6,22,15,19,8,22,26,6,5,36,7,1,8,8,8,5,15,10,16,23,9,11,6,4,4,4,8,11,7,12,9,4,22,2,28,14,3,18,13,3,17,7,14,7,8,19,9,19,2,51,7,9,3,8,9,8,4,23,12,3,6,11,10,8,13,27,19,8,13,14,4,3,15,34,9,7,26,26,5,6,12,10,14,3,6,18,2,14,6,5,5,31,6,2,1,7,11,12,7,5,3,9,5,29,6,26,9,9,17,18,8,7,8,38,7,4,6,6,11,11,8,13,17,11,10,10,4,19,1,15,6,3,9,5,11,20,2,9,11,15,19,5,2,23,20,6,5,12,37,5,28,11,11,2,12,40,5,3,3,7,8,10,29,30,4,13,17,6,6,20,21,6,17,8,8,24,2,5,16,9,14,13,10,8,13,21,13,8,14,12,11,7,11,9,38,10,4,17,10,12,11,3,4,3,8,12,14,6,12,42,19,11,16,20,4,3,17,10,7,1,9,4,37,12,18,14,13,4,6,10,3,9,21,7,7,3,7,8,6,4,8,16,2,3,2,47,10,3,8,36,18,13,9,35,3,4,10,6,10,3,3,11,23,24,2,10,3,3,10,5,10,1,5,15,10,9,17,10,8,9,13,3,11,3,14,15,13,20,13,7,4,17,17,19,1,6,4,16,12,13,3,10,17,18,51,41,6,12,4,9,2,2,7,4,4,4,9,13,9,6,11,11,17,12,15,8,21,7,18,51,13,5,6,4,30,9,9,6,4,2,4,2,7,10,18,49,2,8,6,17,11,6,4,6,1,7,5,15,26,13,1,5,7,8,20,6,5,4,8,6,2,17,6,3,3,1,31,14,24,5,15,8,9,10,13,20,8,6,14,12,6,7,3,13,11,9,54,11,5,14,8,16,50,13,25,12,5,33,10,8,7,7,4,7,18,14,21,9,3,19,7,10,21,18,7,14,19,6,18,13,27,11,9,11,2,48,17,34,32,9,21,5,6,15,9,5,4,20,6,9,11,3,27,23,7,7,6,24,8,5,5,21,8,26,5,26,20,10,7,7,4,10,8,6,5,27,17,25,5,9,16,14,12,5,6,14,7,7,10,6,18,12,3,4,6,4,1,3,8,8,10,4,5,6,18,12,10,11,10,5,31,7,11,1,21,4,12,2,10,1,9,7,12,7,8,6,9,10,3,14,8,11,5,5,22,13,9,9,2,8,23,12,3,9,7,15,22,37,6,6,7,12,9,9,3,3,13,9,10,2,19,7,10,10,19,15,29,8,14,8,23,13,17,1,16,15,13,18,7,18,5,21,12,8,10,7,20,30,1,8,7,4,5,16,23,23,24,12,6,5,1,6,15,13,14,17,9,5,15,4,9,4,5,3,32,10,6,7,6,2,7,4,16,13,7,16,14,12,10,3,15,11,9,23,8,4,10,11,7,7,25,7,6,7,2,11,19,16,5,9,20,9,22,8,5,9,1,3,9,4,5,7,13,15,20,4,5,12,6,9,9,19,13,5,12,10,4,3,16,3,5,8,14,7,18,4,13,3,5,13,6,7,18,6,9,8,6,11,8,11,7,10,5,15,17,14,10,10,3,40,10,16,3,17,4,11,3,12,16,7,12,6,15,1,5,3,4,3,7,10,44,4,9,9,19,8,25,13,9,4,2,9,18,1,6,2,3,6,5,7,9,5,8,10,4,10,11,11,5,12,29,3,17,3,12,10,14,7,26,10,37,8,8,14,10,8,3,32,5,11,5,10,9,15,12,42,13,7,2,9,26,12,9,13,20,10,7,4,11,15,28,5,7,25,2,14,5,5,5,6,7,44,2,7,13,6,26,7,16,12,16,23,10,10,9,20,5,15,11,4,1,9,12,30,4,13,4,3,14,9,8,9,12,8,7,7,7,13,4,16,19,8,15,9,15,11,6,4,23,6,10,2,16,24,16,10,17,25,24,10,16,9,18,13,8,1,5,21,11,46,13,4,16,6,6,2,15,8,7,35,19,2,4,4,5,6,2,7,10,8,10,4,5,6,3,10,5,22,9,4,17,6,6,10,3,12,9,8,7,4,6,4,6,3,7,7,5,12,1,10,4,16,9,4,19,6,3,35,14,10,13,13,28,12,10,8,13,7,6,8,21,7,35,4,4,8,36,4,9,14,4,8,10,6,6,21,3,3,35,12,3,6,12,3,14,4,1,6,12,7,13,33,6,5,6,7,9,8,6,7,12,22,46,19,12,6,5,7,11,2,9,8,6,7,3,8,12,3,25,4,2,28,2,7,14,16,8,5,6,3,5,15,9,4,4,7,8,21,10,11,3,7,13,13,17,3,1,7,8,11,4,21,4,9,28,17,27,11,6,6,9,8,1,7,3,11,8,7,14,2,8,9,14,6,5,12,7,21,5,3,22,6,6,34,19,29,6,19,6,8,6,12,23,5,14,8,7,7,6,32,14,9,8,8,6,5,9,14,22,5,11,19,9,3,12,10,19,28,2,13,10,5,8,3,16,17,10,12,8,39,8,7,7,4,5,4,7,13,8,4,6,4,3,8,21,6,9,10,8,11,3,10,5,4,6,7,32,16,4,33,9,5,54,1,5,17,11,5,35,4,3,5,3,5,5,6,16,8,7,4,5,12,8,7,8,30,29,6,16,9,19,6,4,7,4,8,11,12,5,7,10,2,6,7,33,5,11,4,3,6,4,8,3,44,11,5,12,5,8,24,13,37,5,15,10,4,14,8,5,12,16,10,10,9,15,46,51,8,2,25,21,8,7,11,14,7,13,25,9,12,12,14,7,25,4,10,7,7,15,19,7,12,5,12,7,2,4,16,4,14,19,11,18,3,21,3,4,4,12,12,4,2,3,4,18,47,5,3,9,11,9,12,5,15,34,13,3,3,6,18,9,8,27,5,4,6,13,2,12,20,10,10,6,8,9,2,42,3,5,10,11,18,14,11,7,6,4,13,14,14,22,12,32,6,14,18,6,7,6,8,45,11,9,8,9,10,4,12,1,14,5,3,5,7,2,7,20,2,6,6,8,21,3,2,7,5,13,4,11,9,11,4,5,5,44,5,23,7,11,2,6,12,20,5,16,51,13,3,7,21,5,16,4,2,6,3,10,9,49,6,19,5,4,8,4,9,27,10,14,8,5,27,12,3,10,2,5,5,7,5,7,1,11,11,13,11,12,24,22,6,3,3,8,4,4,17,13,10,7,15,14,6,23,2,7,9,4,43,4,13,20,8,11,6,14,8,9,12,5,2,14,21,6,6,16,30,18,8,19,10,7,5,8,1,5,9,13,21,4,3,11,2,6,1,13,11,3,5,4,13,11,9,3,7,4,4,2,6,4,2,9,15,9,4,6,7,9,1,7,6,8,11,5,29,11,10,2,6,12,29,2,12,10,4,11,25,3,4,7,1,7,8,5,8,12,3,5,5,11,14,2,1,14,9,15,3,18,5,11,13,7,1,9,10,19,14,5,10,20,8,10,1,7,4,2,9,10,9,6,3,21,11,7,3,5,7,18,5,8,10,13,8,24,7,12,9,5,2,5,36,7,17,8,3,8,12,5,5,17,15,6,13,32,3,20,8,1,34,11,14,2,4,16,16,29,5,32,6,18,14,39,3,12,8,12,6,7,28,13,10,4,12,6,6,8,10,5,24,2,9,30,11,5,15,2,13,5,8,6,4,6,1,3,6,30,11,23,50,10,7,2,5,3,14,19,14,2,11,19,16,9,17,6,11,8,14,14,14,5,9,5,11,16,17,14,2,10,7,25,6,6,34,3,31,5,21,18,5,14,5,7,17,11,6,6,21,6,17,7,3,18,4,30,6,35,6,6,4,8,10,11,15,8,15,12,2,7,15,2,6,7,2,13,1,11,5,5,5,13,14,7,18,6,12,9,4,21,9,10,18,3,6,7,5,5,4,9,8,5,12,13,5,12,8,27,14,17,10,9,3,4,2,16,2,2,8,11,2,4,14,2,5,5,11,5,8,27,6,2,5,6,5,2,11,20,4,25,13,2,29,12,5,4,2,7,6,3,14,1,28,1,5,12,4,27,4,11,4,5,10,3,4,7,3,3,10,8,3,1,5,3,6,6,42,5,13,6,7,6,3,3,7,6,6,9,25,20,8,5,2,11,15,6,11,8,4,14,13,4,4,4,5,18,5,4,6,1,25,6,10,5,7,14,5,8,6,6,7,23,4,4,5,19,5,3,4,6,3,13,6,6,5,2,8,15,5,3,10,10,10,4,13,5,6,7,13,1,14,7,8,2,3,9,9,27,26,4,1,7,6,3,5,11,3,8,24,12,1,4,5,9,3,16,2,5,5,2,3,11,5,8,6,9,3,10,11,5,7,13,7,5,10,2,3,10,3,9,10,13,23,4,2,3,9,14,5,14,9,38,6,9,8,5,2,3,10,3,4,12,2,22,2,6,9,21,7,10,3,3,4,6,20,4,21,7,12,8,3,9,3,7,2,3,8,12,5,6,3,13,17,11,6,6,16,3,30,3,4,3,7,2,28,10,22,5,7,5,11,6,9,8,15,5,4,5,13,7,5,6,21,7,11,3,1,9,9,10,10,20,9,7,3,15,10,17,2,9,1,8,17,14,3,4,8,20,3,4,10,17,9,15,11,6,6,9,10,11,13,8,10,6,4,4,9,5,15,10,6,11,13,8,9,3,3,5,4,8,14,11,5,8,10,23,21,3,7,15,10,13,12,5,9,8,7,8,5,3,8,8,8,12,10,4,5,13,5,7,4,6,2,6,14,8,6,22,4,4,12,5,7,3,12,25,14,9,7,5,5,8,5,1,27,7,10,14,11,3,11,4,10,2,3,1,21,9,8,6,11,10,10,9,14,9,6,6,4,6,11,10,20,6,17,2,8,4,7,5,19,26,6,7,7,12,13,4,10,4,7,5,3,2,3,8,7,12,16,15,15,7,7,10,13,9,3,8,17,7,24,8,8,4,2,7,2,8,4,4,8,10,6,7,5,2,2,8,10,6,8,7,5,5,12,9,4,6,3,7,25,6,18,7,3,4,17,41,20,4,13,2,4,5,6,5,4,4,2,3,5,3,4,7,4,5,5,5,10,6,1,17,15,12,4,5,4,9,8,10,2,8,17,3,24,11,5,7,6,2,7,6,2,10,5,4,7,6,4,6,22,11,3,5,6,5,4,1,3,4,3,17,3,3,2,6,10,10,11,4,1,7,7,2,4,9,8,5,2,10,5,4,2,9,23,4,3,1,12,3,1,5,3,1,35,11,7,5,7,2,15,3,10,6,6,2,10,7,3,5,15,9,10,1,10,9,4,4,4,7,4,10,1,13,1,3,6,7,2,6,4,4,10,2,48,5,14,8,3,3,10,35,5,3,14,2,7,6,6,18,4,9,1,3,4,5,9,2,10,7,25,14,1,4,12,3,17,14,5,4,5,2,4,13,5,4,12,18,14,1,5,16,32,4,17,21,9,9,7,8,4,3,4,6,3,4,6,3,4,9,10,18,7,18,16,2,8,11,4,34,5,52,5,32,12,7,2,7,15,3,19,5,2,3,4,6,7,7,13,4,6,2,7,3,14,2,1,3,7,2,6,10,11,32,5,16,5,5,2,9,29,9,28,7,13,40,40,5,7,3,8,17,4,4,3,1,3,3,19,7,22,4,2,36,8,13,1,5,4,1,34,16,4,17,13,2,5,15,18,15,6,17,7,9,21,18,14,5,4,3,9,4,7,8,4,3,5,4,9,11,10,5,7,2,9,23,17,1,7,3,4,30,8,9,6,8,10,9,6,13,3,10,9,1,9,7,10,15,5,5,10,23,10,9,7,3,9,10,6,15,11,7,6,11,22,3,3,2,4,7,11,11,20,7,9,5,17,11,4,5,2,4,10,27,8,11,3,8,14,7,13,7,12,13,7,9,6,17,3,3,2,5,11,4,9,3,19,15,15,7,8,10,4,8,1,5,13,8,13,5,24,16,7,22,3,15,7,2,10,11,11,3,8,5,3,8,5,1,6,8,5,12,1,4,5,1,7,12,1,6,9,4,6,2,3,7,16,5,7,5,11,4,10,8,4,1,40,6,6,6,10,9,10,12,12,4,25,8,7,10,14,3,4,2,7,15,7,11,3,4,5,5,7,19,8,5,3,35,9,26,4,2,9,20,2,17,9,15,26,14,4,11,7,7,9,12,5,18,9,5,14,4,4,5,47,8,9,15,2,4,15,11,11,34,6,8,4,20,8,6,3,7,9,8,3,8,4,9,7,4,31,5,3,3,8,7,11,6,10,4,1,10,12,5,32,14,6,9,5,8,2,7,10,4,42,45,12,5,8,18,3,1,3,10,4,13,7,8,10,1,17,12,4,9,3,2,5,5,14,1,3,18,3,5,17,1,17,8,50,10,4,6,6,4,17,5,10,8,8,6,4,4,1,11,3,19,15,6,2,4,4,6,8,16,17,9,36,7,4,10,5,3,8,16,6,10,8,8,14,3,1,4,9,7,2,20,5,8,2,8,7,8,2,5,34,4,15,6,6,11,22,1,7,14,11,2,2,5,18,4,5,15,4,3,9,8,12,7,5,4,2,6,3,5,4,11,15,5,4,3,14,3,4,9,2,9,8,4,9,13,1,3,6,11,34,7,3,6,8,19,15,6,19,4,2,9,11,5,5,1,5,34,10,5,10,14,6,7,2,8,11,4,15,15,3,11,28,3,8,8,21,8,6,12,2,1,4,23,4,8,15,11,13,2,14,10,11,15,7,1,7,6,1,4,4,8,4,4,4,4,3,3,28,15,4,27,4,3,5,6,6,10,12,6,30,3,2,10,5,11,13,13,8,17,4,1,17,12,8,18,16,7,10,3,15,15,9,4,21,11,7,16,2,21,5,3,5,12,5,5,5,17,26,5,5,14,9,8,17,6,7,4,5,3,4,9,8,6,25,4,6,7,2,13,13,9,4,17,7,5,2,22,4,12,7,7,15,7,21,2,10,8,4,6,11,10,14,9,4,19,5,5,10,1,9,7,16,12,6,9,9,3,11,17,5,4,9,5,8,45,4,16,5,5,11,11,7,5,15,14,3,13,20,11,3,13,5,8,6,6,7,4,2,27,8,6,5,9,5,3,4,4,11,18,3,6,6,3,5,18,10,5,12,11,5,2,16,25,22,6,3,8,8,4,4,12,14,2,21,4,26,8,5,12,7,7,2,6,5,13,3,12,9,7,4,4,9,2,12,6,10,14,10,5,39,2,7,7,11,53,8,10,12,10,9,8,6,22,8,5,1,4,5,5,6,3,8,5,6,4,5,9,3,6,2,2,7,9,5,4,3,4,6,2,7,10,2,5,4,8,15,1,6,15,14,6,11,7,12,9,6,8,5,31,5,40,10,13,2,10,3,9,8,9,7,18,5,3,18,20,6,4,5,5,17,16,34,18,6,7,5,28,26,20,9,5,27,26,2,1,11,5,7,7,9,10,16,3,3,6,4,7,11,7,8,3,3,4,6,14,5,13,5,8,10,20,2,3,11,18,2,5,10,1,6,4,4,3,2,9,2,3,2,2,4,13,11,2,5,7,9,2,7,8,15,1,4,18,8,4,6,9,8,8,5,25,5,12,5,5,2,2,21,5,1,21,17,8,6,5,3,14,5,4,6,7,6,9,7,33,11,10,19,4,5,8,16,12,6,20,11,6,8,4,3,31,46,37,27,1,7,5,5,15,7,19,2,6,9,1,9,19,6,5,5,9,13,11,4,15,7,4,15,13,8,4,5,1,2,31,3,5,2,6,4,13,14,11,6,3,43,4,3,10,8,9,7,8,22,3,4,18,10,17,4,1,4,5,3,8,4,21,6,5,16,5,5,2,6,29,4,6,3,4,5,7,18,4,4,3,56,3,11,5,11,14,6,3,2,6,19,9,7,11,7,6,10,5,55,4,6,14,8,4,5,2,18,9,23,4,15,11,5,4,2,5,5,3,1,5,5,12,17,7,16,17,4,10,10,11,3,7,5,8,13,11,32,3,1,5,8,8,7,5,11,15,10,5,9,6,9,18,5,33,1,4,3,5,19,15,5,24,9,13,11,11,4,3,3,20,13,4,30,9,7,5,22,33,6,8,6,6,4,9,14,7,10,5,4,7,5,11,3,5,7,11,7,1,5,4,3,14,52,9,6,6,7,2,18,12,47,3,24,42,4,9,12,7,8,42,4,6,7,10,9,21,13,4,2,8,7,8,14,3,5,11,1,18,11,19,6,5,11,3,5,9,46,6,13,6,14,4,5,4,3,10,6,26,10,7,24,11,8,3,17,11,2,3,2,5,9,4,8,4,3,6,9,7,15,4,10,2,10,30,14,3,13,10,3,3,5,16,11,8,5,6,18,2,44,6,5,5,2,12,3,1,4,13,4,4,12,7,19,5,5,31,6,7,6,7,6,9,12,13,1,6,9,3,8,7,9,8,8,51,9,17,8,13,3,15,8,10,4,3,12,39,3,13,4,15,19,13,30,11,6,7,15,6,3,23,15,8,15,16,10,6,11,5,2,1,9,13,8,5,8,8,9,2,6,9,19,16,8,4,5,13,7,9,3,5,4,5,3,7,37,6,8,4,39,3,4,4,15,10,4,6,18,2,7,4,6,15,23,9,9,19,37,15,18,5,18,5,29,6,10,26,9,10,2,5,9,4,28,14,3,6,4,1,2,4,8,2,7,4,47,4,2,3,7,14,3,4,4,6,5,5,2,11,51,2,4,4,6,1,43,18,11,16,8,5,10,2,38,14,8,41,5,2,30,5,3,28,4,14,4,9,4,7,5,7,10,13,15,6,5,13,13,13,7,6,9,6,22,12,10,3,12,3,5,5,18,15,3,1,6,5,8,5,19,4,4,5,5,7,5,21,16,14,14,17,2,19,27,10,3,5,3,7,13,23,24,5,6,20,7,20,5,13,8,5,4,27,10,10,10,3,19,9,1,5,8,8,12,5,1,3,1,10,2,4,9,3,3,3,3,10,3,7,7,5,9,12,8,5,5,10,5,10,6,3,1,4,10,4,4,11,19,10,8,12,6,6,7,28,5,14,2,31,4,12,6,3,4,2,4,24,54,28,1,4,8,26,7,9,7,9,7,8,8,7,6,11,11,11,5,15,1,34,2,23,1,11,14,7,33,4,5,13,3,6,21,19,2,3,8,14,13,2,25,9,34,2,34,1,11,18,8,5,8,37,9,6,5,10,4,9,16,6,12,5,7,9,1,7,7,3,7,7,9,15,2,3,6,6,8,6,9,5,6,20,6,22,18,4,4,16,9,4,17,3,14,11,3,10,11,4,7,6,2,14,13,3,15,4,8,8,13,3,3,9,23,3,6,13,3,2,21,20,3,16,7,3,15,6,5,12,9,7,36,6,9,10,6,7,1,14,9,6,9,17,8,34,10,32,8,8,11,3,10,8,4,10,7,15,7,4,8,1,5,6,12,14,8,4,7,7,13,11,4,28,6,6,11,4,8,4,13,13,2,2,25,9,8,3,8,4,14,25,6,7,10,2,2,12,3,29,7,42,8,17,10,9,16,5,39,16,14,7,12,10,3,14,5,22,3,10,2,13,5,7,8,9,6,12,14,11,41,13,4,7,4,11,22,43,12,11,6,5,12,15,7,9,18,23,4,6,9,18,7,65,10,23,13,5,10,8,6,14,5,8,7,13,12,8,4,19,6,14,13,8,15,9,12,4,35,10,3,14,16,23,10,7,5,7,6,21,19,4,4,3,41,6,10,27,22,15,8,12,6,10,9,7,11,16,34,4,26,13,50,26,8,5,4,5,5,26,4,10,7,4,7,5,6,11,3,3,9,23,9,9,10,3,6,1,15,20,5,12,6,10,15,7,12,43,7,6,12,11,8,10,7,16,13,9,12,10,10,4,3,17,20,9,9,8,5,15,17,1,13,9,19,9,7,49,15,18,7,8,3,8,3,28,8,2,8,10,5,9,10,8,7,10,5,16,13,13,5,7,9,4,16,8,8,7,3,13,6,6,13,8,8,11,7,6,13,3,7,1,7,13,3,4,5,22,2,7,4,5,13,8,9,6,9,4,6,6,10,2,14,7,21,16,5,16,5,11,41,7,14,6,4,7,18,12,10,15,6,15,2,29,4,15,6,9,4,4,7,1,8,4,25,11,3,8,10,7,15,8,15,6,12,19,3,8,13,25,8,5,14,16,6,6,12,6,46,9,6,7,12,8,3,31,19,2,8,8,8,3,22,7,3,3,1,16,35,4,3,3,12,5,7,12,3,3,17,9,4,12,14,3,31,8,12,9,13,4,4,13,24,14,8,5,24,15,10,50,11,6,8,2,9,43,5,4,7,14,10,19,21,1,10,7,15,7,6,2,3,5,19,5,47,8,12,2,13,19,1,8,3,2,4,4,5,9,1,15,8,26,6,17,4,4,9,3,6,12,1,8,3,14,2,3,7,11,20,2,8,15,11,7,3,1,15,10,17,9,2,19,10,2,3,36,11,17,2,22,21,8,5,7,38,8,20,2,1,10,18,46,4,13,45,9,12,9,7,19,6,6,15,16,3,5,4,7,4,4,12,9,7,15,5,15,2,7,23,5,1,2,7,10,6,11,33,11,3,10,5,10,9,5,11,9,1,9,5,14,9,12,4,5,5,6,10,4,1,1,10,3,4,14,21,22,14,5,6,4,14,3,14,8,16,11,43,24,3,7,8,7,16,7,9,4,2,3,1,7,19,4,3,2,9,5,9,6,26,4,7,4,4,3,5,7,3,3,19,1,9,2,17,2,4,8,5,1,11,5,16,2,5,6,21,4,1,7,11,5,1,29,9,9,1,6,4,3,2,17,4,20,1,13,5,8,5,4,3,8,4,5,7,5,4,13,5,3,7,1,1,4,6,4,21,7,6,7,6,14,16,2,24,8,7,8,13,1,6,6,3,12,17,3,13,13,10,47,15,4,6,5,42,6,3,34,23,2,15,16,6,5,3,4,45,3,15,17,8,25,8,18,7,14,7,22,17,4,21,11,14,9,13,23,11,17,12,3,1,8,2,6,12,5,12,45,2,6,4,5,8,6,12,5,8,8,5,53,23,4,23,9,6,6,51,7,3,8,10,1,14,10,8,16,8,19,14,10,15,15,8,3,8,16,2,13,10,11,8,10,15,23,7,11,32,10,12,3,9,8,8,3,1,6,5,10,13,13,17,29,19,10,26,2,4,14,13,5,4,6,7,14,42,3,6,1,11,19,5,20,13,6,43,4,2,12,14,7,1,9,4,3,7,32,3,2,3,9,8,4,3,11,5,8,4,2,6,3,1,10,6,6,5,5,3,18,7,13,9,7,14,4,16,10,12,7,9,17,30,15,16,6,5,23,8,10,8,9,31,9,12,3,5,9,8,5,4,17,3,59,9,8,12,9,22,4,6,9,6,20,4,22,5,11,22,4,2,2,3,12,45,9,8,3,7,8,4,3,16,6,4,13,12,18,22,23,4,10,5,6,3,13,2,46,6,6,6,2,5,2,5,2,4,4,8,17,3,9,4,4,26,3,7,13,5,5,33,20,31,4,7,7,9,4,22,5,21,5,12,3,10,15,6,16,7,16,22,2,11,17,7,12,12,2,4,14,7,7,4,20,13,2,5,4,17,10,5,6,4,5,4,2,18,7,17,14,15,7,7,11,13,6,15,11,4,17,4,23,6,10,2,16,6,3,25,10,1,16,3,11,16,3,6,2,8,4,5,2,10,5,4,6,10,9,6,13,11,4,14,8,20,12,21,7,12,4,7,2,18,1,6,4,8,8,8,39,11,14,13,1,17,15,12,5,3,9,20,2,5,3,2,9,6,17,1,6,9,8,11,10,7,3,14,5,7,7,3,5,2,12,5,1,14,6,3,2,5,5,9,5,4,8,3,1,5,27,17,8,14,13,7,3,15,2,7,8,13,5,12,2,1,7,14,15,9,4,6,6,16,13,5,4,5,7,4,2,11,11,7,5,10,4,2,5,10,11,12,14,9,7,11,3,4,6,9,5,3,3,5,6,5,4,28,7,10,4,9,12,22,39,37,14,5,7,33,23,17,5,9,7,5,4,8,6,13,2,4,14,18,6,8,6,5,2,6,8,13,2,15,16,2,3,24,14,5,5,6,4,9,10,18,22,8,1,8,3,3,11,11,8,9,1,2,5,8,4,6,5,6,7,3,5,2,9,12,22,13,9,6,1,9,6,10,2,2,2,18,5,10,19,3,8,1,2,6,12,8,18,7,11,2,5,5,12,12,9,5,3,5,9,18,15,14,9,9,18,2,2,5,3,11,5,10,5,39,4,4,3,4,11,25,51,6,2,9,11,5,8,5,10,17,5,14,2,4,3,22,5,6,10,3,4,9,4,2,14,2,6,10,6,2,7,8,17,10,13,13,16,8,13,4,9,1,12,4,3,15,1,14,20,7,16,1,3,8,6,4,17,29,1,12,32,14,7,4,4,1,15,5,14,9,25,3,13,5,30,25,1,6,25,3,6,5,6,14,20,20,12,6,17,3,29,5,9,9,1,21,13,9,6,4,10,7,4,23,31,12,2,6,16,8,5,6,4,10,14,14,15,2,3,6,5,14,13,4,7,11,9,22,6,3,7,32,16,11,2,4,18,8,8,1,8,8,6,11,8,8,9,14,5,7,9,15,12,3,23,24,2,2,7,13,8,37,2,1,12,1,3,9,4,7,10,3,8,12,6,8,5,1,1,6,13,6,10,4,22,3,7,9,12,10,9,27,4,2,13,17,12,5,16,14,10,5,10,7,6,16,1,8,3,7,30,12,17,3,16,8,2,5,15,8,8,28,1,9,14,7,10,10,11,2,4,13,3,9,6,10,14,25,14,10,20,16,4,2,3,11,6,15,4,10,1,11,4,8,13,10,8,1,3,17,8,4,5,21,3,7,13,2,13,5,5,13,5,4,5,6,7,17,2,7,6,9,7,17,19,15,14,5,5,22,10,11,13,17,9,7,2,6,15,4,12,9,18,4,3,7,8,9,33,14,17,11,12,3,13,6,13,14,11,17,6,14,2,8,14,11,2,16,16,14,13,12,10,2,10,15,15,21,8,7,5,22,12,19,15,7,5,9,4,4,8,8,11,17,8,5,10,8,9,8,7,7,4,2,25,3,14,6,5,33,16,8,12,17,6,13,14,4,6,5,5,5,8,8,1,30,39,15,7,5,8,22,8,8,9,12,14,11,5,4,10,19,10,9,15,17,6,5,4,9,4,8,4,14,12,10,26,6,1,5,22,8,4,7,8,13,4,6,7,1,18,3,1,4,18,14,6,3,6,6,23,8,3,17,5,2,10,6,6,29,4,3,7,5,2,2,1,4,12,24,18,6,3,9,2,8,9,6,2,5,4,9,3,1,5,2,5,6,5,3,4,5,3,5,14,16,4,5,12,6,12,14,9,11,3,10,16,4,16,7,6,17,15,8,3,11,12,5,2,10,1,3,9,6,8,7,2,12,6,2,5,9,3,9,9,7,4,12,5,8,13,8,5,13,14,12,3,14,2,16,11,7,8,7,1,12,4,11,3,11,20,29,3,15,6,4,6,4,6,3,16,7,8,14,8,10,12,6,4,12,36,8,10,7,23,3,5,12,4,4,9,9,9,6,9,10,10,8,8,12,6,24,7,33,2,43,8,7,5,11,6,12,7,23,9,10,6,8,17,1,24,28,9,6,37,3,8,3,10,7,3,13,16,6,2,7,9,3,3,4,12,44,21,14,4,7,9,8,1,21,11,14,2,25,11,17,46,12,19,2,8,41,5,19,17,5,12,5,9,10,15,4,21,8,11,50,2,3,3,6,4,1,17,4,18,5,2,25,50,38,14,11,6,14,13,9,6,42,7,6,14,19,4,6,30,11,9,17,3,4,4,10,6,2,5,6,9,3,4,10,7,3,7,5,10,17,14,14,30,5,3,15,4,18,7,14,20,12,5,2,8,5,5,12,34,31,6,2,5,4,13,16,17,9,3,8,7,1,5,20,2,3,23,57,12,4,8,8,5,2,10,11,11,1,10,4,11,5,23,13,33,5,8,8,7,15,4,6,9,20,11,14,3,21,2,15,25,4,3,5,9,17,8,8,5,25,15,1,18,7,17,7,3,7,9,7,13,7,7,7,7,10,7,14,8,7,6,10,17,11,21,19,23,4,10,14,18,21,9,5,7,9,15,5,9,6,13,16,16,15,8,11,8,11,4,7,3,11,14,14,5,14,6,3,13,11,5,2,34,4,5,4,3,6,2,7,4,22,17,23,7,12,5,7,11,31,5,8,11,4,2,17,11,2,9,2,3,7,2,18,5,2,8,16,5,5,9,5,7,7,9,16,7,2,4,5,7,25,5,15,6,4,18,7,12,6,9,4,21,6,9,3,9,1,8,2,16,6,21,11,6,5,6,11,11,6,7,5,9,8,14,19,8,23,5,4,6,32,16,10,9,4,3,8,11,8,3,8,5,15,14,6,4,5,6,4,26,8,19,19,7,12,32,32,40,25,7,5,11,17,11,14,10,5,45,3,9,22,12,4,2,11,15,5,3,6,2,8,14,6,12,12,2,19,11,5,4,25,10,7,6,1,14,28,13,13,1,6,3,8,12,5,4,10,12,18,7,7,14,6,5,2,3,14,15,9,7,6,10,4,43,8,4,7,5,10,6,9,12,12,3,4,8,5,10,3,8,12,4,7,12,8,8,7,8,6,18,16,9,2,24,13,4,3,4,5,7,17,30,10,6,6,5,11,4,14,4,5,8,10,12,39,19,4,4,4,11,6,6,15,5,6,5,9,4,22,7,1,5,29,7,19,3,8,8,4,12,5,8,6,8,8,7,6,6,6,16,15,7,8,6,5,34,7,4,5,10,3,11,14,2,8,6,2,8,7,5,22,3,12,36,2,4,11,15,16,7,5,9,4,8,14,3,16,14,6,6,7,15,5,7,9,12,8,9,7,18,14,6,3,20,6,11,7,25,4,1,14,9,16,9,9,6,4,8,17,9,5,9,19,27,4,29,17,1,4,2,8,7,8,1,11,10,2,6,4,11,7,15,6,21,9,38,1,12,30,18,8,3,5,5,7,20,4,8,9,1,5,9,7,7,7,16,37,6,20,25,5,7,7,1,27,4,5,3,9,5,6,15,35,8,7,7,5,16,4,3,8,7,11,6,17,5,5,10,5,12,11,3,5,15,8,1,21,11,20,11,22,22,1,4,1,4,11,4,14,30,11,6,12,5,13,13,12,13,12,2,8,13,4,6,23,2,8,11,12,6,13,1,6,8,1,9,11,1,18,10,3,10,19,39,41,14,5,5,3,7,10,9,9,5,6,19,5,2,21,9,5,14,15,3,7,5,9,3,6,24,10,2,21,9,16,9,9,11,13,3,6,10,16,27,16,8,4,20,18,5,27,9,18,18,4,25,10,3,5,16,6,3,8,5,3,14,8,26,20,2,4,6,6,21,31,18,2,20,7,9,6,12,6,7,44,10,9,5,19,10,3,9,5,6,16,2,9,8,10,10,9,14,22,14,15,8,53,24,11,5,11,11,10,8,16,10,1,5,2,4,10,12,4,3,5,7,17,6,2,15,2,6,2,2,11,8,5,4,4,10,5,4,34,3,4,6,3,8,4,2,13,2,10,7,11,8,10,9,14,3,14,28,2,11,12,8,28,11,10,17,8,7,9,17,11,12,23,4,6,26,5,4,28,52,8,4,7,15,2,24,18,10,11,5,9,10,7,8,5,6,7,9,32,11,5,9,17,16,10,6,13,6,3,3,10,8,36,8,2,5,32,8,5,8,6,1,8,8,31,25,5,10,40,7,6,2,6,6,7,5,8,5,8,8,13,2,12,7,5,8,27,8,12,9,2,10,5,18,20,5,5,4,16,5,6,9,6,14,1,6,15,3,13,13,17,13,16,23,6,20,6,15,38,22,8,23,13,10,16,12,2,8,4,18,1,14,6,22,4,22,10,4,10,15,15,3,12,5,7,48,1,7,4,5,3,10,5,9,14,4,11,18,7,10,2,2,8,21,17,7,14,13,14,15,7,3,20,3,3,16,17,3,4,20,19,13,19,9,2,2,6,13,4,14,2,21,9,7,16,4,3,8,14,13,9,6,41,19,4,9,11,21,16,18,13,9,6,2,6,5,17,5,11,7,16,7,7,11,7,1,16,14,8,9,13,13,6,10,27,6,18,8,14,6,13,20,5,5,3,13,10,3,12,8,5,10,17,17,5,12,11,7,3,3,7,8,3,1,15,7,24,20,20,37,10,21,6,9,16,6,2,3,10,5,6,10,5,5,8,11,7,12,12,8,7,3,9,10,5,32,5,10,11,21,3,6,10,15,9,9,5,2,3,4,7,5,6,2,4,6,29,7,4,3,4,7,13,7,10,2,7,12,9,5,5,24,5,8,9,1,4,1,6,5,17,4,3,11,35,14,20,7,4,2,10,12,21,17,6,30,12,2,17,3,1,11,14,7,5,5,8,5,18,8,6,31,16,5,9,10,25,16,21,11,9,5,33,7,33,13,7,9,16,20,17,2,9,13,3,27,6,17,4,15,7,15,9,23,23,23,19,10,4,3,6,10,11,3,5,24,4,8,13,10,9,5,12,3,3,9,12,11,20,12,15,28,7,9,9,3,19,10,37,13,3,47,24,9,2,14,4,19,41,2,9,8,6,8,5,6,12,7,10,12,28,14,11,7,10,3,9,5,6,19,8,7,7,24,6,5,3,17,7,23,7,19,5,14,1,5,6,8,9,6,4,13,6,4,20,3,13,9,11,8,14,12,7,4,11,19,6,2,5,9,2,5,1,3,13,4,11,11,6,1,18,18,25,5,8,8,4,4,5,3,6,6,8,6,51,1,7,4,3,13,15,9,31,7,4,8,5,16,4,5,13,1,2,7,7,12,14,49,3,9,7,9,5,21,5,3,2,7,2,8,6,10,4,8,18,2,10,12,5,9,5,25,27,9,13,16,15,4,17,18,8,13,4,13,9,6,10,6,4,14,7,9,7,9,4,22,44,20,17,16,18,7,1,9,28,7,18,13,11,11,40,7,3,3,4,8,13,9,3,4,6,21,13,15,29,2,22,12,9,14,5,9,17,12,5,2,4,32,13,12,10,4,4,7,2,11,3,5,3,21,12,7,6,8,17,5,20,7,36,11,5,4,1,15,17,5,9,8,8,42,7,4,4,14,11,4,10,9,21,14,5,9,9,5,4,6,11,6,3,27,26,5,6,6,8,11,15,7,10,8,8,6,8,8,10,8,5,4,45,2,8,24,17,10,15,9,16,6,4,9,6,1,26,15,9,3,2,14,6,10,4,15,13,19,26,9,13,7,9,3,8,49,6,30,15,9,10,53,6,20,16,8,10,10,5,2,24,6,2,5,1,10,24,12,13,7,14,4,9,7,2,20,24,12,10,26,6,6,18,8,9,11,12,3,3,9,4,20,2,4,8,6,16,12,7,6,20,19,4,23,5,6,25,53,11,12,7,23,22,3,3,6,23,22,5,9,8,25,22,2,1,3,10,19,52,7,9,3,7,13,2,30,4,9,19,10,8,21,3,29,26,3,21,5,4,5,3,5,1,8,4,4,13,11,16,15,8,7,2,12,2,2,3,4,8,16,10,8,1,18,5,15,6,4,6,9,23,3,8,30,4,6,32,5,8,1,12,5,10,9,15,3,6,10,14,19,4,8,7,14,11,4,7,13,1,8,6,8,7,3,2,9,12,8,5,25,7,12,7,14,7,2,12,51,2,26,12,23,2,10,3,5,5,14,45,11,11,3,3,10,4,26,18,11,8,7,17,6,12,35,8,7,1,16,5,2,8,14,6,15,22,4,15,49,21,6,12,2,2,11,5,8,8,18,1,6,20,3,15,18,7,11,3,9,8,2,12,2,2,16,5,8,2,14,24,7,3,26,8,1,7,20,11,5,2,4,7,17,21,8,22,2,3,21,6,7,2,15,4,9,7,7,5,6,15,6,17,5,12,6,16,1,4,8,10,6,6,4,4,19,12,4,2,4,3,8,7,17,2,5,6,8,10,5,7,53,24,4,8,2,5,5,12,11,7,8,5,5,8,24,4,8,4,9,6,5,18,9,3,26,18,9,9,12,10,23,8,15,18,6,4,4,5,7,2,13,13,30,21,10,4,5,7,5,14,5,10,21,15,43,17,15,2,13,6,28,19,11,15,9,28,4,5,11,10,4,3,4,13,8,4,4,6,12,6,9,10,10,12,7,15,4,4,6,4,4,9,3,10,6,45,10,13,6,11,12,20,45,6,5,14,10,6,8,7,6,8,15,5,13,11,7,55,10,4,2,6,9,29,17,9,9,7,6,5,3,22,5,2,9,10,4,6,25,12,9,23,11,14,17,7,6,12,7,12,5,19,8,17,19,16,13,12,5,6,6,30,6,33,14,11,10,6,15,2,10,12,4,14,5,6,15,3,5,13,4,7,11,2,8,12,5,14,7,5,3,21,10,4,11,3,4,7,14,7,25,11,7,5,10,9,8,8,3,13,13,5,5,1,6,4,13,11,28,8,8,8,8,17,10,8,19,4,14,2,8,14,10,4,3,12,6,28,5,34,29,8,5,19,1,10,34,5,4,8,17,6,4,9,5,6,4,12,5,14,19,3,4,5,4,4,5,17,4,5,10,9,3,14,23,8,17,5,5,26,7,16,41,13,21,7,3,4,12,11,6,6,9,10,34,3,18,10,4,5,4,3,12,4,13,14,10,23,24,12,6,23,17,21,1,23,6,9,12,11,3,20,16,11,29,12,4,3,10,3,26,8,6,5,13,17,9,3,26,6,11,24,9,10,2,6,1,8,9,17,11,11,5,7,16,4,6,16,11,16,25,30,14,10,13,8,23,8,5,17,38,31,8,3,14,17,14,15,21,33,8,45,7,7,6,6,21,11,15,22,8,15,2,9,11,5,10,14,5,8,8,7,5,7,11,11,34,2,11,2,4,24,9,8,3,16,18,5,4,14,11,13,45,12,24,15,19,13,8,5,10,9,5,3,7,5,9,8,6,4,13,11,9,19,14,50,14,12,24,13,6,21,7,4,5,13,8,9,5,6,4,13,10,15,13,17,8,16,22,6,6,5,5,6,8,12,3,15,15,21,3,4,8,17,5,5,4,12,12,5,4,15,6,13,3,14,3,2,7,8,13,3,1,7,5,3,9,9,8,14,4,8,7,8,2,5,18,11,8,17,7,11,14,10,18,20,6,20,16,12,4,12,16,20,10,5,7,28,39,3,2,4,13,8,7,8,17,15,7,3,18,13,9,10,8,32,6,11,32,8,10,26,13,5,2,5,18,19,28,5,13,9,29,5,22,12,9,12,8,3,14,10,6,3,6,4,4,11,17,4,11,15,12,5,11,9,6,5,2,10,25,3,6,9,2,6,8,17,15,40,8,11,9,6,11,5,15,6,10,5,14,6,7,7,9,21,17,6,6,3,7,9,6,16,17,4,7,3,15,11,19,1,17,6,8,6,4,18,6,4,26,3,13,12,3,27,5,4,10,8,3,10,6,22,6,9,13,22,9,21,5,16,7,9,6,12,7,6,16,3,10,29,3,6,5,11,9,5,9,4,11,17,23,3,8,25,8,3,10,5,8,8,8,8,9,11,8,4,14,10,5,5,19,9,6,2,5,6,1,7,7,6,16,18,11,10,6,8,7,5,4,10,9,10,9,5,9,15,15,13,11,3,8,15,7,4,7,4,2,11,4,6,31,23,3,10,8,7,3,10,4,3,9,2,7,3,1,10,7,4,7,6,28,3,3,23,4,3,7,5,4,8,3,5,10,5,20,11,6,8,13,4,16,9,6,17,17,11,8,14,18,41,7,2,4,3,8,50,3,8,6,6,10,4,3,18,1,10,8,7,9,9,2,6,5,11,5,10,9,5,11,5,10,4,11,5,8,1,14,10,15,10,12,4,13,12,9,6,11,14,8,12,6,15,3,11,11,4,5,22,9,3,8,19,9,6,10,10,17,8,15,26,8,6,6,21,4,24,6,9,3,3,2,24,6,4,23,10,17,4,22,8,12,4,7,3,3,7,10,4,8,11,7,10,15,13,5,12,11,1,7,9,9,5,10,8,5,15,11,5,13,19,6,6,20,7,2,6,14,5,5,10,3,2,8,14,4,12,7,11,18,3,14,5,22,16,4,6,4,3,5,4,11,9,8,6,6,4,11,12,10,5,10,4,7,5,12,6,3,7,11,3,13,6,1,8,12,13,6,4,5,5,7,5,11,5,24,4,16,3,19,5,2,11,9,8,10,10,8,7,2,10,19,9,12,7,4,20,9,3,13,8,12,6,7,8,2,7,13,8,8,6,7,14,4,18,6,2,6,22,3,4,23,7,3,24,4,4,12,3,8,6,5,4,13,6,2,10,9,6,7,11,5,6,8,5,5,9,8,8,5,21,15,6,8,13,8,8,5,6,5,3,14,8,7,1,6,6,10,4,18,7,36,9,4,4,5,4,8,9,22,6,7,2,19,12,3,8,4,18,5,6,2,8,14,10,11,14,20,15,2,6,23,10,10,8,11,5,12,10,7,10,15,12,8,8,6,8,5,9,15,8,7,14,6,4,8,4,5,37,8,4,9,14,4,5,5,11,5,7,5,14,45,4,7,6,18,5,7,8,5,8,9,12,3,7,2,9,3,8,9,18,3,22,13,14,3,5,4,15,1,10,16,16,12,3,4,12,8,7,14,6,15,13,5,5,3,18,7,9,7,5,2,5,2,10,4,13,2,4,15,5,11,3,2,7,2,11,4,7,6,5,24,8,13,16,7,6,9,8,7,8,12,7,10,18,3,6,4,14,23,9,16,9,3,2,5,11,18,8,14,9,9,17,5,5,8,2,7,15,8,13,4,7,16,9,3,3,4,7,6,8,13,6,8,11,4,10,4,3,1,14,9,15,5,2,14,2,7,42,7,6,11,14,10,4,3,7,4,18,16,8,9,12,7,10,15,17,4,4,14,4,15,8,4,5,7,2,11,11,13,5,13,6,11,10,8,21,7,13,4,12,3,17,8,13,7,13,7,8,7,12,10,39,4,28,16,3,10,12,6,8,9,10,10,17,9,16,9,3,8,15,6,9,4,8,2,3,7,4,11,7,14,8,7,5,9,5,9,5,8,7,4,7,8,4,15,9,10,5,17,4,3,5,10,4,4,27,35,12,6,4,4,9,4,4,16,7,16,2,8,7,17,2,9,4,5,3,2,8,6,5,5,8,7,16,6,14,9,11,11,5,11,24,9,8,5,13,5,13,6,3,3,13,6,9,10,7,22,13,7,22,12,7,5,9,7,8,3,7,8,11,7,8,5,5,5,9,6,10,11,10,8,12,13,25,8,10,3,15,3,3,6,8,10,14,24,1,8,21,1,10,4,5,14,15,5,3,12,5,10,7,9,28,3,7,21,10,5,3,3,15,6,6,6,6,5,22,6,14,5,5,6,4,6,29,4,4,2,17,16,6,5,6,5,10,14,2,9,12,11,2,8,28,7,10,12,11,17,10,2,16,8,15,9,11,7,2,10,8,3,1,8,6,11,9,4,5,9,2,12,11,9,22,4,7,2,14,6,7,16,10,40,17,10,16,6,7,4,17,15,7,6,10,5,4,17,3,12,22,9,2,12,5,16,12,19,10,9,7,3,13,4,14,7,7,3,12,13,13,11,5,11,5,4,7,8,3,20,5,12,4,2,3,9,9,5,6,3,11,46,13,5,8,4,4,6,12,5,19,14,24,6,15,4,11,5,5,3,3,23,12,8,3,3,11,5,13,10,16,6,3,13,2,16,16,11,6,6,12,7,8,14,7,10,16,4,14,2,11,6,5,7,10,5,14,7,5,6,12,10,2,11,4,4,10,8,4,5,3,8,4,9,7,8,4,18,8,12,13,5,14,9,1,14,13,3,6,14,3,16,13,11,24,27,11,2,21,4,6,17,9,1,9,8,15,7,4,23,12,38,8,32,6,7,5,4,16,3,9,16,11,5,3,4,4,21,1,12,32,18,7,2,4,6,7,4,16,8,19,7,32,10,17,9,17,10,7,40,3,4,12,16,25,7,6,5,16,7,5,13,9,24,10,13,2,25,8,13,6,9,5,12,7,4,18,6,3,8,3,17,2,19,5,3,19,17,5,8,5,22,11,7,9,24,15,4,5,10,9,13,9,8,4,9,12,11,10,13,12,3,5,7,5,4,4,8,5,9,6,5,3,13,2,5,5,9,19,4,5,21,5,10,3,7,21,7,5,7,4,10,18,15,5,4,17,3,11,16,5,20,3,3,13,9,4,2,5,12,8,8,3,5,10,5,17,3,13,7,8,5,7,15,12,11,10,5,5,17,4,8,3,3,8,15,7,7,15,6,3,5,6,6,3,9,12,5,5,6,6,9,15,8,20,5,6,12,7,3,7,7,12,4,13,18,13,8,30,5,6,7,9,10,6,5,13,11,6,1,6,6,4,11,3,8,10,10,7,8,9,6,12,12,7,16,7,8,4,4,23,13,7,16,6,3,7,6,12,26,14,7,2,7,3,6,1,7,17,7,11,4,15,7,12,3,34,2,14,9,3,7,3,23,12,4,8,24,7,3,16,3,13,8,3,4,13,11,4,6,7,6,5,10,11,6,13,4,16,7,4,5,5,3,12,4,10,14,8,10,9,8,3,7,11,17,14,11,10,5,5,3,7,5,4,7,4,16,3,22,4,5,8,12,10,8,9,9,10,2,5,12,4,11,10,5,9,5,22,5,5,16,8,23,2,21,6,19,20,5,9,14,5,12,5,5,8,6,8,11,25,8,8,9,18,10,8,12,6,10,35,3,5,5,20,9,6,7,11,21,8,19,10,10,5,16,5,3,7,37,2,12,4,4,10,4,9,7,8,2,14,5,13,3,2,11,17,8,7,9,10,5,10,5,19,8,13,3,13,6,13,37,9,6,10,9,24,18,6,14,18,3,8,6,17,8,28,8,18,10,10,5,8,4,3,18,4,6,3,10,33,19,6,13,10,12,5,9,6,15,18,6,2,7,8,5,13,28,6,7,8,34,20,6,8,12,9,13,8,18,10,3,15,16,20,13,23,28,7,7,8,5,8,4,34,2,7,16,1,10,2,9,11,8,15,18,9,6,13,3,12,4,9,9,4,10,4,16,5,6,9,5,9,5,14,17,10,11,2,41,5,5,5,19,3,12,17,9,17,27,8,17,10,8,3,6,47,11,17,6,7,16,14,19,7,6,6,6,11,7,4,5,11,6,35,6,6,9,8,4,12,7,7,4,4,3,4,20,9,12,12,30,6,5,3,5,23,8,3,6,15,7,26,13,5,5,11,5,19,7,9,11,6,17,25,4,39,5,17,14,8,24,22,5,12,12,6,1,3,12,5,7,13,7,3,14,20,8,30,22,7,7,5,20,13,9,15,10,25,7,3,4,2,3,2,12,3,8,36,8,5,2,25,5,11,7,9,44,12,7,1,5,9,6,15,17,10,5,5,27,14,6,4,5,6,10,5,11,17,7,13,8,5,13,11,9,17,18,7,7,13,4,12,5,2,2,7,3,12,4,6,5,5,7,8,4,9,4,4,14,19,7,17,9,7,9,15,2,2,15,4,2,10,4,9,15,9,21,7,4,8,7,11,2,7,19,4,4,14,15,12,15,15,12,5,5,9,3,5,12,3,15,9,5,7,4,7,5,14,13,10,11,4,5,7,6,4,9,20,20,9,8,18,15,6,7,17,2,3,4,11,8,15,8,3,7,14,5,6,6,16,5,14,8,6,22,18,9,12,6,6,15,5,15,8,5,9,3,8,13,5,15,12,14,14,9,16,8,8,12,14,21,6,7,2,12,4,22,16,10,9,5,16,8,6,4,8,2,24,11,12,2,15,6,13,3,9,8,7,31,13,6,1,10,3,6,9,4,14,8,3,9,27,6,13,14,5,44,5,7,15,9,3,7,4,3,7,2,2,6,10,8,9,12,13,14,4,15,12,13,3,19,1,17,4,7,10,6,5,15,9,11,6,10,9,9,6,40,5,21,28,7,37,5,4,9,11,3,9,3,8,5,9,11,2,3,6,10,2,10,19,6,8,6,17,9,13,7,11,9,5,8,27,5,5,10,23,6,5,8,8,17,11,8,14,4,4,7,13,4,7,3,7,5,16,15,6,25,20,9,16,3,7,6,14,6,6,3,2,10,11,9,5,9,24,11,4,36,18,12,13,21,12,4,21,6,4,11,8,1,11,12,6,13,7,6,13,8,6,10,16,2,10,6,12,7,2,25,4,15,1,6,1,5,4,19,9,14,5,5,14,2,3,20,3,8,6,4,10,8,7,5,4,9,1,17,9,14,11,7,2,8,4,7,33,15,14,5,13,5,15,10,10,4,3,4,4,4,8,4,7,1,4,5,9,6,10,15,7,4,3,5,4,15,4,15,5,17,18,5,4,51,12,6,7,27,12,16,36,2,10,8,7,13,10,11,9,4,4,3,8,1,2,4,29,7,13,5,4,6,4,3,6,5,14,16,10,5,14,7,15,19,10,9,10,3,6,5,6,7,9,17,7,6,14,9,1,4,7,4,11,10,11,5,26,4,8,13,4,10,13,12,5,11,22,10,5,3,14,4,5,11,7,5,4,6,4,13,4,6,4,2,3,2,19,6,3,4,5,11,7,6,4,4,8,7,9,7,3,8,6,4,9,8,5,5,4,4,7,24,6,13,5,4,11,5,6,5,14,3,6,2,3,13,8,4,16,10,3,1,1,4,2,6,6,7,19,8,27,15,11,4,5,12,5,20,11,18,4,6,10,4,8,11,3,4,8,5,8,8,4,3,12,18,19,9,5,10,8,11,10,11,8,3,4,6,9,12,7,8,4,19,4,11,2,8,3,5,4,16,3,11,6,18,2,10,33,6,4,7,8,31,5,7,7,9,8,13,7,6,13,12,9,8,14,2,8,7,9,10,9,23,3,13,36,11,10,3,9,3,9,11,9,2,3,26,3,13,5,3,3,6,7,17,2,4,4,13,4,4,10,9,16,30,20,8,2,3,9,5,19,21,13,16,7,21,19,9,15,4,16,3,8,13,6,3,1,7,11,21,6,5,5,43,4,6,15,8,7,6,5,43,7,18,50,11,2,22,3,11,7,6,6,11,3,8,12,6,12,8,18,7,7,4,3,12,4,11,5,3,1,10,10,11,32,7,7,6,4,10,36,7,11,1,6,10,14,2,28,9,3,8,2,11,6,13,17,1,1,2,3,11,16,23,16,4,11,9,6,11,3,5,12,10,16,12,7,11,16,12,5,3,5,21,15,11,16,8,4,5,11,9,17,1,9,29,17,15,5,21,4,4,39,4,15,23,19,8,5,9,3,7,4,6,1,3,13,33,8,12,12,11,3,9,8,7,12,3,5,8,13,3,8,4,17,16,2,4,7,7,6,1,3,7,4,8,10,7,4,6,3,18,8,6,22,3,41,4,16,4,2,6,19,1,5,4,2,1,6,7,6,6,13,8,4,6,4,11,1,19,5,3,1,3,11,7,14,2,1,17,2,8,8,17,4,7,9,11,2,5,4,1,6,4,4,2,9,10,18,4,3,9,2,7,6,1,2,2,1,2,5,4,6,5,6,8,9,2,39,9,19,13,17,3,13,21,10,6,14,16,9,7,13,9,26,8,3,4,7,12,9,7,5,8,12,1,15,6,8,12,4,14,1,7,14,3,15,8,7,12,7,9,4,38,11,6,3,6,9,14,3,15,18,6,20,15,4,6,4,16,6,2,7,9,7,10,4,7,6,1,6,4,14,1,13,3,6,24,4,6,18,2,9,8,12,3,16,4,20,4,10,5,3,7,26,6,2,4,4,12,10,22,4,9,16,12,9,5,13,7,7,4,3,4,4,5,12,12,5,16,2,4,5,9,12,4,5,3,11,5,1,39,4,2,5,1,11,11,5,12,6,7,3,4,8,4,8,8,16,9,20,3,9,2,5,8,2,11,20,5,14,8,8,7,6,10,13,9,10,5,4,4,10,29,4,6,8,8,5,11,8,15,4,7,11,11,23,7,3,4,10,17,3,11,10,35,14,7,10,6,6,1,3,9,20,18,2,9,11,3,32,10,6,3,7,12,12,10,4,5,9,6,6,7,3,8,2,8,3,12,4,6,5,7,3,4,5,7,8,9,10,9,1,8,13,5,3,8,3,12,5,14,13,4,8,8,4,6,13,8,8,3,4,3,7,15,5,8,7,7,13,26,10,1,15,14,11,15,10,4,10,4,14,13,9,4,9,7,15,30,11,7,2,17,8,31,22,8,6,6,3,16,5,10,19,5,7,10,9,13,11,15,5,8,8,6,4,7,10,6,11,12,2,11,5,12,7,29,11,3,5,4,5,5,14,3,14,3,9,11,10,5,10,9,10,21,1,12,4,37,22,1,20,7,7,3,4,5,20,17,14,15,8,8,9,4,3,2,8,5,2,13,8,1,5,14,6,7,12,6,6,12,10,15,7,14,8,12,9,6,12,9,12,13,5,11,15,5,4,11,3,1,2,9,18,4,3,9,6,11,8,3,11,18,10,10,3,4,7,4,8,8,26,22,14,5,5,3,6,3,14,4,4,9,6,27,4,9,4,8,7,6,16,12,4,4,8,9,4,19,4,5,10,7,7,6,5,3,4,5,9,7,6,5,11,8,23,13,12,13,14,6,6,3,21,2,7,7,8,8,8,6,4,7,10,2,10,7,8,7,8,16,3,2,6,5,12,14,4,8,5,4,3,7,32,7,9,8,15,16,8,7,3,3,16,10,8,15,4,7,7,15,11,5,8,36,5,3,10,8,13,4,7,9,14,15,18,12,6,14,9,8,19,9,4,8,5,2,6,8,7,11,3,3,7,42,9,12,6,10,8,22,3,11,15,3,2,10,16,9,7,7,9,30,3,11,15,10,20,4,1,7,6,11,13,26,3,6,5,10,12,12,12,18,9,5,5,16,7,4,6,1,48,26,29,7,10,5,17,3,3,9,7,3,11,21,18,8,27,13,33,1,8,5,13,10,7,6,5,8,1,4,7,16,16,9,2,6,5,7,5,10,2,7,20,1,8,6,6,3,49,7,16,7,7,5,26,4,16,14,9,12,2,10,3,11,7,3,9,10,4,5,5,11,6,7,8,4,12,9,5,14,3,17,4,12,7,6,19,5,7,1,11,1,5,5,5,6,4,5,8,6,4,8,20,34,2,4,6,13,8,6,12,8,6,13,12,7,4,4,3,8,14,7,45,4,6,38,3,2,15,4,4,9,29,34,11,4,21,10,9,7,18,5,2,1,5,8,6,10,12,13,8,39,8,11,3,10,15,2,18,17,15,9,6,3,5,5,10,6,19,6,2,2,30,9,5,7,2,4,8,2,3,14,9,6,11,3,4,14,3,7,5,9,7,12,9,2,3,12,8,10,8,2,43,15,10,11,4,3,2,11,17,14,51,3,21,3,15,2,7,1,2,6,8,6,3,1,10,8,13,8,9,20,3,20,9,1,5,3,3,30,4,5,12,3,11,2,17,5,6,3,4,1,19,12,7,4,7,11,8,3,14,4,5,10,5,2,14,6,4,16,4,25,8,11,11,9,8,6,13,10,20,3,12,8,13,4,7,4,3,2,9,4,7,3,20,3,11,5,43,14,6,3,38,9,9,8,1,6,8,10,20,14,6,2,9,28,3,9,12,4,11,3,7,16,11,13,5,6,8,3,5,12,13,9,11,6,6,2,9,9,10,13,2,3,35,8,6,6,16,13,29,9,4,6,9,36,3,6,12,6,7,9,15,2,7,9,13,15,36,14,25,16,3,3,8,10,5,4,19,9,15,8,7,17,9,6,21,2,4,1,12,10,5,5,14,3,9,12,1,7,1,8,22,1,3,12,9,6,5,9,29,9,15,2,13,15,8,4,6,11,15,7,9,19,10,5,3,24,1,11,16,9,33,10,6,6,4,4,7,10,5,9,10,1,18,5,2,11,15,3,10,22,5,16,4,3,18,6,7,4,8,16,6,11,11,11,3,14,2,14,8,7,5,13,8,6,4,5,3,18,7,16,9,10,23,8,4,9,6,15,2,7,15,9,11,10,5,7,10,8,15,22,4,10,10,13,7,26,36,34,3,22,4,9,16,8,20,6,4,28,3,8,6,8,4,3,2,49,15,35,2,3,25,18,9,24,3,14,11,6,8,5,9,15,12,1,12,7,6,5,6,1,4,10,8,12,6,4,3,1,21,12,11,15,14,7,9,2,5,21,12,12,2,2,16,14,7,49,6,10,3,11,4,16,13,8,11,12,9,5,3,12,15,7,6,2,2,8,10,9,19,2,4,6,25,13,1,2,9,15,9,14,6,2,7,6,5,6,5,13,45,19,7,8,3,7,6,18,5,15,10,1,15,8,12,6,9,5,4,8,7,4,10,16,7,8,11,15,6,8,11,9,12,9,4,35,19,4,12,15,11,7,21,8,6,11,10,14,44,11,3,4,9,7,8,17,5,8,7,2,9,13,2,3,10,18,11,7,3,4,3,5,11,11,14,4,1,6,8,11,18,14,9,9,9,15,14,24,7,9,12,13,7,14,20,6,5,1,5,2,5,17,33,10,11,10,13,3,7,16,3,1,13,2,10,4,3,18,4,4,3,1,13,9,16,8,8,8,6,13,12,12,9,15,4,1,9,15,22,12,24,1,17,12,20,12,40,7,7,3,8,8,3,11,23,19,6,11,7,7,3,8,5,21,4,8,3,10,11,16,8,32,3,9,25,22,7,4,20,8,24,14,13,4,9,13,12,2,8,21,25,11,14,18,4,13,19,3,20,13,3,15,6,5,8,10,7,8,23,3,9,4,9,6,8,3,6,21,8,15,9,1,18,2,6,4,10,3,5,7,14,2,12,27,20,5,7,31,10,2,6,25,4,18,16,11,3,12,24,7,19,10,4,14,17,7,9,14,10,24,11,4,6,7,9,9,5,6,10,9,5,5,2,8,1,8,13,4,3,9,14,10,11,13,10,5,27,16,20,41,35,6,5,5,14,5,12,5,3,7,6,18,11,5,25,8,3,11,23,7,6,11,9,6,9,13,6,9,5,8,16,19,18,8,5,8,14,9,7,14,7,6,9,3,8,13,8,6,24,16,6,10,6,2,11,12,4,10,8,10,4,11,12,6,11,3,8,14,29,6,6,8,7,11,5,3,4,10,7,6,1,8,18,19,6,13,11,4,26,13,4,8,10,14,5,7,8,8,11,18,9,7,7,11,4,5,12,5,2,9,20,13,9,4,5,6,3,10,10,3,18,16,37,4,9,5,1,3,5,4,4,2,46,7,1,10,8,6,7,30,8,4,6,7,5,10,4,7,11,6,7,20,7,5,19,7,8,14,14,15,8,16,8,11,21,9,37,6,3,25,9,3,9,4,5,7,6,16,4,9,8,9,5,13,10,5,5,12,3,25,44,8,4,13,7,2,15,3,21,10,4,22,4,6,5,3,8,10,10,3,6,6,10,9,8,15,10,4,5,7,4,11,9,8,8,5,5,9,16,9,12,21,5,8,6,4,11,16,19,39,5,23,8,15,2,9,2,13,4,13,15,11,4,7,4,9,10,9,4,13,7,2,1,12,7,9,6,5,20,7,5,13,9,26,4,10,4,16,9,4,19,5,16,7,7,20,9,5,8,9,11,9,5,12,3,12,6,7,18,10,6,53,7,12,5,17,5,6,6,8,6,5,6,30,8,8,3,6,15,12,21,10,4,3,8,14,3,10,6,6,5,11,4,6,8,15,4,11,15,7,9,3,12,8,4,12,7,16,4,14,4,13,19,8,24,6,19,7,4,11,4,10,7,6,11,16,5,31,5,14,23,11,10,4,5,10,7,8,11,4,2,28,11,4,10,1,7,3,22,8,18,10,8,27,10,9,4,5,14,1,12,31,3,4,3,11,6,3,5,8,11,6,2,9,19,5,7,47,7,13,5,12,15,18,5,7,7,14,9,16,17,4,8,6,7,9,3,4,21,4,21,3,10,2,11,9,9,5,5,13,15,9,31,5,12,18,7,8,13,1,7,10,19,9,5,14,10,12,10,6,10,7,9,5,6,5,9,4,16,43,9,6,14,9,21,6,6,4,8,19,16,9,21,2,5,4,10,8,18,7,8,7,2,4,11,5,11,12,5,8,6,5,3,10,6,4,2,3,11,16,21,4,2,10,8,8,16,12,10,6,48,7,16,7,22,19,13,6,14,4,4,11,5,9,11,10,13,9,3,9,8,9,3,7,12,2,9,9,4,10,9,8,6,8,9,5,13,5,33,5,18,1,9,12,9,18,4,5,7,13,20,9,14,14,11,5,12,2,5,4,32,8,4,14,12,4,11,4,6,8,9,7,7,13,31,3,5,6,8,7,17,4,23,1,6,12,7,7,8,8,7,8,5,8,5,10,5,3,17,5,1,7,4,3,12,16,4,4,8,11,14,9,13,8,5,20,4,7,11,9,9,13,9,9,10,23,15,4,14,26,13,10,9,3,12,3,4,10,28,5,6,14,7,6,5,12,5,7,8,6,9,14,12,7,6,29,19,15,4,16,8,5,3,17,9,6,5,7,4,3,13,4,6,9,53,6,2,4,16,5,4,8,16,2,4,2,8,8,6,4,3,5,13,2,11,23,6,15,7,23,3,6,11,6,33,11,13,4,18,18,8,2,9,9,9,7,5,6,10,4,20,29,18,16,21,1,6,15,4,17,7,12,34,11,14,14,18,9,18,9,3,11,3,18,3,4,32,12,4,9,7,19,9,1,18,13,9,6,3,9,9,9,18,47,14,3,18,14,4,17,29,6,4,24,5,12,11,6,10,45,4,45,4,12,12,3,17,20,4,9,5,15,9,1,22,22,8,3,14,5,5,6,7,7,13,2,9,27,13,3,20,6,17,10,4,3,8,9,1,9,4,2,16,11,16,3,6,4,11,13,17,2,5,8,14,11,4,4,3,17,4,5,9,26,6,1,10,9,11,9,10,11,9,9,12,21,24,8,5,5,8,19,8,53,5,9,20,10,3,3,14,5,5,5,1,8,13,21,1,11,9,4,6,7,8,6,11,16,19,5,1,3,1,7,15,10,8,9,6,3,34,6,27,5,19,5,5,5,38,3,3,12,3,7,4,8,6,4,2,4,10,4,7,3,3,5,9,8,5,7,7,27,3,42,14,12,6,8,6,3,8,3,7,9,9,2,24,6,6,7,18,3,4,8,16,22,12,6,10,16,9,21,6,21,3,7,10,6,6,5,6,7,6,1,18,7,9,3,2,8,14,5,18,5,1,6,6,9,8,13,21,5,10,15,16,6,4,20,6,5,4,2,10,2,7,8,7,6,15,9,5,6,8,3,27,15,8,18,10,18,3,2,6,3,4,8,15,9,8,10,15,9,15,7,4,9,5,14,2,10,2,5,15,9,10,12,3,12,13,2,2,2,6,34,10,11,9,17,6,6,20,8,47,6,46,7,9,5,4,5,5,7,16,5,22,19,11,47,6,6,4,42,16,12,14,11,3,15,2,12,5,3,17,7,14,6,6,13,5,3,4,4,1,11,8,6,20,51,8,15,8,1,5,11,39,7,7,18,3,9,15,15,11,17,6,11,2,46,13,6,23,16,2,9,5,11,28,5,4,19,3,11,10,2,8,8,42,7,7,13,15,10,6,6,14,9,4,7,6,1,12,11,4,4,5,2,3,11,8,3,8,5,5,6,35,11,6,22,11,7,6,6,17,5,20,19,36,5,3,8,7,6,9,9,10,4,5,2,5,10,9,7,13,5,9,23,11,12,2,7,33,11,6,11,48,2,8,12,4,21,19,7,6,14,5,2,25,5,3,5,9,4,17,13,9,10,10,7,4,15,5,7,17,16,5,13,12,15,6,3,6,6,7,14,12,5,11,6,6,23,2,15,6,15,18,6,9,12,10,7,17,5,8,9,11,6,9,5,3,10,14,9,3,4,10,2,27,7,29,10,13,16,10,24,7,9,22,22,7,4,17,5,47,14,21,6,37,5,5,6,8,4,9,15,8,6,13,9,8,6,6,17,1,10,8,4,9,6,7,13,7,12,8,5,2,2,3,9,4,14,7,7,18,8,2,29,10,5,39,6,7,11,7,5,9,1,15,18,10,30,12,5,27,6,5,7,9,7,4,10,10,6,2,12,3,3,21,1,7,27,1,10,6,8,9,16,2,2,7,7,12,6,2,4,11,6,2,6,41,6,18,17,38,9,11,8,7,4,4,8,2,7,6,7,5,3,12,8,7,6,3,3,10,14,6,7,10,5,7,25,7,14,5,17,12,5,15,5,5,4,7,2,6,11,13,7,1,5,15,21,21,6,20,3,7,5,28,9,17,8,10,10,17,25,6,14,10,10,11,1,8,24,4,10,5,3,10,16,16,21,5,13,4,4,5,23,11,5,5,24,7,8,8,17,16,8,12,6,26,5,10,6,2,9,10,6,3,9,9,33,12,3,47,7,7,11,21,14,35,7,32,22,6,9,6,5,6,13,10,20,7,3,10,9,17,13,7,10,4,7,6,7,16,4,10,10,12,6,1,8,8,8,6,9,10,6,4,8,2,5,21,9,12,8,8,9,7,3,17,6,10,13,4,9,19,5,4,20,9,14,14,7,3,5,10,20,3,13,7,2,10,3,19,7,6,19,5,5,12,6,3,3,4,11,13,8,12,4,1,4,2,32,7,3,4,3,6,18,4,7,14,2,5,4,9,11,17,5,5,3,4,2,10,5,3,5,7,2,8,3,4,8,6,7,5,9,12,8,3,8,4,3,23,9,8,4,21,6,4,6,6,13,9,12,38,8,7,7,5,21,6,3,7,6,7,7,3,20,6,12,15,6,11,7,8,9,3,6,5,5,11,12,9,6,11,24,14,8,10,17,11,4,13,23,10,14,16,12,5,12,21,8,5,2,13,1,17,5,2,23,14,8,40,2,24,11,7,15,5,4,10,3,5,9,3,14,2,8,6,9,7,14,5,6,3,7,4,37,25,7,11,14,19,13,3,8,5,15,15,11,17,8,7,5,10,38,4,4,13,18,4,9,17,17,8,6,1,6,4,5,9,5,6,17,10,5,3,6,13,10,3,6,8,23,5,3,8,15,25,3,9,3,13,12,28,10,9,17,4,13,3,9,6,3,6,3,1,10,2,9,12,25,16,16,2,4,6,9,11,2,21,4,10,14,14,4,5,4,8,13,18,13,7,9,16,17,13,5,29,9,9,2,7,7,7,8,5,2,13,19,7,10,9,3,1,15,11,14,1,4,11,12,6,17,8,10,20,4,10,17,23,7,8,10,2,9,20,12,17,7,6,7,4,10,3,14,5,15,6,7,6,9,9,5,8,23,42,3,3,14,6,7,12,11,8,6,3,4,8,7,6,9,8,2,13,6,11,10,3,6,4,6,4,7,6,11,3,7,4,5,22,6,4,5,11,6,7,7,6,12,12,7,8,10,12,6,3,7,52,24,4,21,12,7,9,14,3,12,10,4,3,5,28,8,18,9,11,5,2,10,4,5,13,7,8,6,8,9,11,3,18,10,15,13,5,5,4,8,6,10,4,21,5,12,8,18,4,15,7,14,13,5,33,30,11,8,14,6,4,10,9,11,3,8,8,11,41,6,6,13,4,30,4,1,2,12,56,9,11,5,21,8,4,4,14,11,4,6,11,3,11,4,2,11,7,16,38,5,3,3,11,11,6,15,14,6,15,13,4,2,8,2,10,12,8,17,12,2,6,6,5,4,5,4,7,5,8,7,24,7,6,3,16,9,11,11,24,15,13,1,16,12,3,11,4,11,6,14,14,5,19,4,22,6,7,7,1,3,16,9,3,3,9,13,3,2,24,6,3,7,16,6,6,9,9,8,21,8,9,7,5,17,6,3,3,6,7,8,1,18,7,9,10,19,4,5,3,11,15,5,12,8,15,19,5,5,11,7,8,16,9,6,19,11,12,16,12,5,4,3,6,5,6,13,10,4,3,8,9,9,31,8,9,4,9,7,5,9,8,26,8,7,8,10,6,33,15,3,3,5,7,4,6,4,11,4,3,3,6,37,11,10,13,43,8,11,8,6,6,5,3,9,3,6,6,13,11,12,11,9,6,8,6,6,13,15,12,7,6,17,10,3,15,8,4,15,13,6,10,9,9,5,11,7,7,7,10,15,6,4,7,14,8,7,8,7,10,11,4,7,11,4,4,13,4,7,7,21,8,5,8,6,8,4,7,12,5,4,1,2,21,10,6,7,22,10,8,14,4,17,5,19,4,2,3,14,6,4,6,9,16,12,6,5,5,8,12,16,3,5,11,8,43,7,10,6,8,11,11,15,9,12,6,4,2,2,5,10,3,29,11,26,6,10,11,7,5,7,17,10,15,3,3,8,11,11,15,4,5,12,12,6,10,10,6,4,3,6,6,17,21,8,5,35,17,6,3,5,7,9,13,3,10,24,10,20,13,7,10,34,7,26,52,10,5,10,2,11,4,8,8,6,6,3,1,11,10,11,25,4,5,3,8,3,2,4,4,19,12,4,20,15,11,9,9,13,3,12,8,9,12,8,6,7,5,37,6,3,12,21,15,14,11,14,15,8,4,5,7,15,8,12,5,20,8,2,16,10,13,6,5,6,4,12,6,3,1,9,17,7,6,6,10,1,3,6,14,10,6,10,4,24,7,23,11,5,6,8,18,10,3,14,7,12,21,8,7,45,8,34,21,5,1,14,8,8,13,35,18,10,4,9,6,6,9,3,24,4,5,19,12,10,6,27,6,11,4,2,8,11,17,4,6,14,17,5,7,7,14,4,8,20,4,4,3,5,7,9,8,5,8,14,14,4,8,9,7,18,6,4,6,8,12,6,5,6,11,21,5,17,15,11,13,7,24,6,29,5,16,5,12,19,7,13,20,1,6,6,9,6,15,4,9,7,4,10,13,18,8,6,10,9,5,2,4,10,15,10,5,11,9,6,6,4,8,18,22,13,8,17,3,2,12,40,10,11,4,9,9,10,6,25,25,5,24,11,9,7,7,8,8,6,8,9,11,6,11,13,23,20,12,5,10,4,9,7,6,11,3,18,3,3,6,3,6,4,8,20,3,16,4,5,6,12,6,6,10,13,10,4,8,6,4,8,3,4,11,12,2,6,10,4,2,7,3,6,10,16,12,19,9,8,1,5,14,1,9,4,8,4,6,3,3,5,5,9,8,1,40,10,17,11,6,8,26,2,10,6,18,8,7,13,2,21,7,5,8,8,12,2,6,13,12,2,6,7,4,6,16,30,26,10,6,15,8,28,16,4,37,27,4,9,22,4,17,8,9,1,6,7,3,4,6,14,3,8,2,8,11,7,12,12,28,11,4,3,11,7,9,4,4,4,19,3,2,5,7,16,13,6,6,6,5,11,12,23,5,13,10,5,28,4,1,5,9,10,5,20,23,10,20,6,11,18,7,6,10,4,13,7,4,8,1,6,11,5,26,9,8,13,10,7,6,16,17,21,4,4,14,2,18,16,8,9,8,5,13,49,14,7,7,9,8,7,7,11,6,8,5,9,18,15,6,7,2,15,17,5,22,14,12,12,5,15,9,3,16,18,8,18,14,14,24,20,5,24,9,7,4,9,3,5,7,7,4,10,8,15,10,29,44,7,10,12,3,7,10,16,12,8,9,20,9,9,4,14,14,1,3,34,10,6,1,15,11,6,20,10,4,1,11,7,5,17,5,6,5,2,17,9,9,14,7,9,6,11,5,3,9,12,7,3,15,5,10,52,12,2,10,4,1,7,3,7,10,10,13,11,4,20,12,4,7,7,4,7,15,3,6,25,31,28,6,4,26,10,14,12,6,1,14,8,11,3,14,16,10,11,6,23,17,9,4,9,12,12,1,11,5,11,7,5,3,10,33,11,6,3,8,13,2,26,10,17,8,7,2,17,6,8,17,11,10,4,5,7,18,3,4,14,6,14,8,3,5,26,7,8,15,34,11,13,5,4,16,10,37,5,16,5,19,11,7,25,8,10,13,6,46,10,5,7,32,5,4,7,17,9,4,18,5,7,42,13,5,13,4,23,3,1,14,3,22,2,12,19,2,6,5,13,16,20,16,11,50,13,14,4,6,9,13,29,7,8,5,11,3,6,17,16,12,4,13,3,13,6,4,10,8,8,3,3,1,10,1,9,13,10,9,3,17,11,2,11,13,5,6,17,6,7,1,8,32,9,17,3,7,20,9,16,13,17,8,11,9,6,5,5,7,4,11,17,16,9,13,6,6,14,11,7,3,32,6,11,24,6,2,15,6,8,1,1,5,19,9,6,24,18,15,4,6,11,10,4,20,15,6,28,5,9,3,14,2,14,11,31,5,15,19,15,11,7,12,6,15,8,3,20,8,6,7,3,9,21,25,25,15,4,16,1,7,41,27,12,17,7,16,2,12,6,10,3,52,15,13,20,12,4,5,16,5,4,8,7,4,13,7,5,8,4,23,5,3,25,3,20,9,4,11,13,16,8,6,7,7,4,19,12,19,12,10,8,8,16,16,13,14,4,8,7,8,3,14,7,11,4,8,25,7,5,5,18,6,12,10,6,31,16,2,10,5,27,9,6,6,13,7,10,10,3,5,18,7,2,8,19,30,5,6,4,9,8,12,40,15,3,30,24,9,7,7,11,35,15,7,12,5,12,4,4,3,4,8,8,1,5,20,4,8,4,18,6,5,13,6,13,9,11,7,7,15,6,3,3,14,15,10,5,10,11,2,25,15,6,7,12,16,3,14,14,9,7,10,5,13,15,13,10,32,2,16,3,16,17,5,8,5,5,28,3,18,9,14,20,2,5,7,6,6,10,6,17,9,8,6,10,17,5,12,8,12,21,7,10,3,8,5,48,5,25,10,5,2,4,9,6,11,4,7,11,14,4,5,11,13,24,4,45,26,10,26,11,19,1,6,10,5,18,1,3,3,10,7,9,7,19,9,12,14,4,9,8,6,3,18,32,13,10,21,5,15,9,5,8,15,10,11,20,13,4,13,16,15,44,9,10,3,11,5,36,7,3,10,7,10,10,12,9,6,3,29,7,16,5,11,1,17,12,15,29,7,11,7,12,15,5,44,6,49,5,5,5,3,5,33,11,7,5,6,40,29,3,11,10,3,14,4,11,12,10,6,6,12,11,5,4,8,6,9,10,2,7,8,4,8,3,1,20,4,2,4,46,10,1,1,11,34,12,8,6,12,20,7,43,24,1,19,11,14,5,7,6,18,9,40,46,7,4,21,8,24,10,31,35,4,3,14,10,6,10,4,8,3,9,4,6,4,5,19,24,3,13,2,16,17,20,5,13,6,24,16,34,31,6,12,4,6,3,20,30,12,15,27,24,5,2,16,10,8,14,19,8,10,5,6,5,2,47,4,14,6,3,6,10,7,23,10,22,4,9,3,41,2,7,11,33,17,45,8,10,35,21,8,4,3,7,7,14,28,7,20,9,12,19,21,2,18,14,11,4,19,8,10,45,2,8,6,9,6,14,29,10,15,5,8,14,34,3,6,12,11,5,9,9,16,6,7,10,26,2,12,11,34,3,10,4,7,12,15,16,26,36,7,5,3,7,11,6,10,14,5,13,14,26,21,3,14,4,2,16,7,22,10,4,11,13,6,16,6,11,12,18,6,17,8,11,14,10,5,7,6,7,23,9,29,11,13,7,9,7,8,21,11,6,7,11,9,9,13,7,4,11,8,9,4,6,30,9,5,9,6,25,5,29,26,4,6,15,13,31,10,5,6,11,53,17,4,15,11,6,18,6,40,3,6,3,4,17,11,27,13,29,4,27,9,15,25,3,12,7,7,4,4,8,8,17,19,9,22,14,9,5,10,10,5,6,2,5,4,4,7,6,4,13,16,2,10,6,1,13,9,5,10,7,5,22,6,13,3,18,14,36,9,4,4,46,5,26,18,12,11,22,51,18,5,7,4,13,6,4,11,9,8,9,6,7,6,7,3,21,21,13,17,6,3,8,9,14,25,3,6,17,5,3,14,13,14,5,9,3,4,6,13,12,1,20,16,14,7,8,2,7,8,8,7,8,8,8,13,13,5,5,9,5,8,5,23,8,29,7,12,11,10,8,4,2,3,6,8,5,14,20,6,10,8,3,8,18,11,8,4,3,3,30,39,22,10,5,35,4,15,5,9,24,4,14,3,15,3,14,8,21,24,6,13,20,4,20,8,9,17,4,5,23,6,14,14,6,1,9,7,5,30,17,14,16,21,1,5,4,12,15,6,3,17,11,9,14,21,9,2,9,7,22,10,6,7,6,11,17,8,16,11,7,5,4,14,2,2,19,9,11,8,8,2,23,13,8,6,5,13,6,14,12,7,21,27,4,4,13,3,11,12,14,7,7,12,16,20,3,5,45,4,11,4,5,4,11,19,1,15,4,48,7,19,28,18,3,6,8,1,4,3,5,12,7,2,23,11,13,9,3,7,3,4,8,1,6,6,6,21,15,5,4,25,12,6,8,27,11,2,14,6,30,2,4,10,10,5,8,3,8,6,29,11,3,7,6,12,18,12,10,13,3,20,12,11,8,8,13,1,1,8,15,48,3,12,4,3,3,10,11,6,4,10,8,17,6,7,5,5,20,9,26,4,10,23,3,2,18,4,3,15,15,7,18,8,7,8,9,17,3,12,10,6,7,5,5,9,9,6,30,29,10,7,12,6,9,6,2,8,52,12,6,12,20,9,8,3,18,4,14,4,5,9,9,14,16,1,8,4,11,8,31,17,17,14,5,17,47,7,13,9,4,13,1,10,5,37,14,1,9,11,13,9,11,8,21,7,19,13,14,19,5,13,7,7,12,5,13,22,4,7,11,5,5,11,6,9,13,15,5,3,2,3,2,16,39,9,36,8,14,11,9,6,7,29,4,3,4,9,10,3,7,11,8,22,4,38,10,9,7,11,7,5,4,2,4,7,3,21,13,12,10,14,14,7,4,7,10,15,8,15,6,5,23,2,16,12,15,8,33,4,3,8,16,46,18,12,12,5,7,18,10,9,18,12,8,14,6,11,11,9,6,4,7,6,5,5,12,10,6,10,7,6,8,10,6,12,3,11,7,8,5,12,5,21,16,13,14,5,12,8,31,13,8,5,11,8,13,17,12,12,13,10,19,13,11,5,12,17,10,18,25,4,7,4,11,44,15,6,7,18,9,5,3,6,14,5,11,8,3,7,14,12,2,9,15,33,3,14,12,17,8,21,6,24,8,5,19,10,13,8,11,21,25,4,10,3,17,4,6,30,6,6,6,2,11,7,19,25,32,6,12,16,4,7,12,6,14,12,6,10,7,3,13,39,10,3,24,3,12,21,13,6,12,16,14,7,10,1,9,5,9,10,4,8,10,3,44,17,6,8,12,2,6,30,7,8,16,6,4,6,10,10,12,5,7,5,5,3,14,4,11,2,24,4,16,16,14,4,15,21,7,12,4,2,20,5,3,15,7,4,3,8,7,32,7,3,21,13,8,21,6,17,14,6,6,4,33,14,4,8,26,15,15,5,6,3,18,6,6,4,9,49,13,12,28,4,12,15,4,11,4,4,4,4,6,8,32,24,7,7,2,17,9,2,9,12,31,2,5,4,5,11,4,4,3,4,11,23,5,8,8,10,10,10,21,5,13,14,16,25,36,13,3,8,1,6,7,17,41,17,4,12,11,7,18,12,10,20,15,24,17,10,11,15,4,10,8,11,9,8,24,4,16,11,10,11,10,8,5,34,5,12,9,5,4,2,6,9,10,12,8,13,3,11,7,5,4,6,12,7,3,6,17,5,2,14,7,6,5,14,15,7,10,8,18,17,11,5,20,30,17,5,8,8,9,5,5,10,8,8,15,13,5,8,2,5,3,7,21,8,12,13,2,7,7,4,4,14,26,31,6,3,4,19,14,12,9,2,10,11,14,43,4,6,9,8,11,9,5,7,6,2,29,20,4,1,6,11,31,32,14,11,5,4,15,7,8,18,29,5,3,3,10,5,13,7,8,8,3,28,4,7,8,5,11,4,20,14,7,18,37,5,2,12,30,6,5,3,4,5,24,16,3,12,8,4,10,5,9,4,5,17,7,4,4,12,3,6,9,30,17,7,9,23,4,7,17,12,8,14,8,2,3,15,5,12,13,4,2,29,7,6,5,18,9,26,5,9,5,14,9,2,4,3,17,4,3,6,4,8,10,6,7,11,7,4,5,13,3,13,9,20,7,3,3,10,4,5,6,9,7,11,32,8,4,4,8,10,18,33,11,23,3,4,14,13,14,10,10,8,6,6,41,6,5,3,8,15,14,5,10,8,5,31,13,6,19,6,6,1,9,3,16,6,8,13,14,8,4,39,7,26,8,10,5,4,9,18,26,9,5,5,5,11,9,6,8,17,7,8,17,9,14,4,10,18,7,4,26,12,16,2,9,4,41,11,3,11,9,4,10,18,31,3,14,6,9,10,21,32,9,7,2,12,22,9,4,1,8,9,2,7,3,8,5,11,3,12,4,4,6,4,6,11,8,5,6,11,9,11,12,4,9,8,2,12,14,13,2,13,4,10,11,6,33,8,15,3,8,5,7,8,4,7,1,9,3,10,9,8,5,29,2,10,12,12,16,7,7,2,5,8,2,17,39,10,11,18,13,12,10,5,5,6,9,12,7,6,17,11,4,5,3,9,11,8,7,55,5,12,8,10,2,15,13,3,36,8,8,7,50,2,7,14,5,8,3,2,22,10,2,6,2,12,9,5,8,4,4,8,5,5,3,7,8,6,25,9,8,4,16,6,29,41,5,14,4,12,1,8,4,13,15,4,3,14,6,8,6,11,6,8,7,6,6,14,12,25,6,13,13,19,14,8,6,5,11,21,15,6,7,8,3,9,6,5,7,12,19,11,4,7,7,9,9,10,7,6,8,13,18,17,36,4,14,4,4,6,6,1,7,2,9,9,29,9,8,42,8,12,9,15,12,10,5,4,14,20,5,4,7,6,19,12,30,24,4,12,9,1,6,2,4,5,4,10,8,1,3,9,8,4,26,24,3,14,6,18,11,4,8,4,8,9,12,6,14,7,4,5,49,49,8,4,8,4,8,9,16,12,32,8,8,8,22,2,7,1,14,11,3,6,9,9,6,6,28,4,27,9,6,14,1,7,9,11,21,10,24,19,3,8,5,14,8,7,12,4,14,13,4,19,8,26,15,3,2,5,39,6,28,4,3,4,8,17,4,7,12,1,5,11,2,17,9,3,7,3,8,5,6,15,8,15,9,11,16,7,15,6,4,15,11,14,4,3,18,11,17,4,7,1,3,15,5,7,6,9,9,3,5,4,6,3,10,7,13,11,9,7,5,19,8,8,10,32,5,46,8,12,7,10,23,9,10,27,12,6,7,7,12,1,2,5,10,19,13,15,5,13,25,7,8,14,21,17,12,20,10,8,4,11,10,4,13,15,3,2,10,2,5,3,4,8,6,7,5,1,5,9,15,5,5,11,6,10,8,14,11,5,2,3,8,17,5,7,6,8,4,3,21,8,2,47,24,12,7,22,6,8,4,27,6,6,6,9,34,16,8,7,2,14,3,7,1,7,4,25,11,19,21,5,3,3,4,13,5,4,9,6,13,4,10,6,6,11,4,7,8,3,9,6,9,19,5,5,6,16,6,9,13,4,5,10,39,14,7,18,8,6,10,3,13,2,11,17,11,2,24,8,9,2,4,14,5,14,17,3,3,7,5,4,2,10,21,6,3,12,10,24,3,3,3,34,23,8,11,10,28,3,8,14,3,7,5,9,4,8,7,8,14,3,4,32,9,8,9,17,5,9,17,6,4,5,22,5,20,3,11,11,14,6,6,4,4,10,4,5,15,13,33,30,3,3,5,11,9,7,3,21,10,6,15,10,9,10,8,12,7,5,13,1,10,27,17,3,10,7,7,6,7,2,3,20,6,19,6,18,22,10,5,6,25,29,10,9,26,12,4,5,17,13,2,12,8,12,6,21,7,4,14,6,5,10,3,13,14,9,6,3,13,5,3,5,13,22,16,9,6,5,7,7,19,24,8,2,13,3,25,11,8,9,5,8,19,7,3,12,9,12,33,1,8,4,6,8,8,4,8,21,13,11,14,10,5,11,12,13,24,3,6,19,7,8,41,10,9,14,3,21,4,9,8,4,7,5,3,17,26,7,15,9,6,12,11,8,7,8,16,9,7,12,4,12,9,4,10,10,9,6,8,7,3,6,16,14,3,9,8,7,34,7,2,2,12,4,11,22,5,3,36,4,8,21,18,13,6,14,6,10,3,4,15,3,11,5,7,31,3,9,2,14,11,8,5,9,16,6,8,11,7,16,8,5,11,12,43,4,1,12,10,6,4,6,11,15,3,11,2,4,6,19,9,6,5,6,9,7,8,27,6,11,9,4,19,12,9,9,8,7,9,3,9,55,7,7,10,3,6,5,13,12,3,8,15,12,8,2,12,10,8,15,3,16,5,4,3,11,2,2,4,8,2,5,15,7,4,2,8,48,22,4,8,7,16,5,3,17,2,5,8,8,2,4,4,3,32,13,7,29,5,20,16,2,6,13,9,8,9,6,28,2,9,9,9,5,8,14,8,6,15,21,12,11,2,20,8,7,18,44,6,6,12,8,12,20,2,6,8,12,6,6,6,3,6,8,12,4,11,8,6,14,17,14,8,23,14,13,6,3,8,13,22,28,45,12,5,21,13,21,13,5,38,7,8,2,9,19,18,7,6,9,13,11,17,7,1,8,21,8,10,8,14,4,23,14,33,9,36,9,6,9,5,15,7,12,11,6,14,4,5,17,8,8,7,42,1,34,20,7,12,6,11,3,5,51,2,11,7,16,5,16,23,8,5,11,12,21,21,10,2,10,7,10,7,16,12,14,12,5,9,26,11,8,9,9,3,10,5,14,5,18,10,3,2,22,4,9,2,5,4,5,26,8,12,4,8,9,15,5,3,3,10,22,17,12,12,9,4,10,13,9,8,6,8,19,11,2,9,5,11,8,11,12,12,12,4,8,10,26,25,9,9,10,5,6,9,7,3,13,7,18,17,5,24,11,5,10,5,8,11,9,14,13,10,10,24,3,4,13,5,14,9,13,3,7,8,9,4,15,19,12,10,8,4,9,8,14,12,5,4,40,5,16,9,10,13,14,28,30,6,7,3,12,9,4,9,8,6,12,12,6,9,13,12,7,6,12,17,7,8,12,7,33,5,2,16,9,5,10,11,5,8,32,10,22,10,3,3,4,21,4,7,29,24,19,8,11,10,6,18,32,3,5,17,20,9,2,9,4,11,7,15,8,9,16,12,9,11,5,6,5,11,10,6,11,40,10,6,27,7,8,7,7,31,10,15,8,7,7,20,15,21,10,7,23,4,14,9,8,9,5,9,2,4,6,1,26,6,10,6,8,8,11,4,5,5,6,5,19,3,8,48,7,8,6,4,5,6,6,4,21,8,8,7,13,41,7,4,33,6,10,18,7,13,33,13,16,13,3,12,4,23,3,7,7,8,5,9,12,3,38,21,2,11,9,7,11,9,14,8,14,10,9,3,8,19,12,2,11,10,4,3,10,3,10,10,4,15,8,4,12,3,2,6,10,16,8,5,12,3,14,22,8,2,3,5,8,16,12,5,3,7,16,2,17,13,5,5,14,8,13,5,10,18,2,8,8,46,9,4,6,8,11,4,2,11,9,5,9,9,10,4,9,6,1,12,13,4,5,4,4,13,8,5,5,5,16,10,5,8,10,11,7,3,8,11,4,7,2,5,13,27,7,19,3,19,3,8,9,17,12,8,6,19,3,9,4,11,6,3,13,7,4,8,7,3,6,15,6,4,11,10,14,8,7,22,9,23,8,6,4,23,5,20,9,11,5,6,20,7,2,1,6,10,5,7,15,4,8,4,5,3,3,18,21,15,3,22,3,14,1,6,6,9,30,4,16,6,6,7,8,14,5,12,7,11,14,19,6,5,12,20,22,18,28,16,14,9,9,5,12,8,5,21,6,9,8,22,13,11,16,13,8,9,21,10,12,12,16,3,4,5,3,7,5,11,28,6,8,7,27,9,6,6,13,7,3,30,5,8,5,3,27,10,10,6,4,8,22,8,8,5,7,7,9,7,7,12,11,2,7,3,19,4,18,4,4,2,22,13,5,12,6,3,5,18,9,7,26,4,9,4,7,14,15,11,19,2,8,4,8,6,30,2,19,5,14,11,23,15,6,1,12,5,28,31,18,1,25,4,13,12,4,4,13,11,11,15,30,11,2,5,14,10,6,6,12,10,18,4,25,13,4,8,7,2,1,8,10,8,4,7,6,22,7,6,8,4,7,3,8,6,2,19,15,7,17,8,8,6,22,14,3,10,2,16,8,13,6,8,27,5,4,28,12,7,22,10,16,2,15,13,10,1,8,7,7,2,10,5,16,19,5,11,5,13,18,32,2,3,7,9,8,6,11,8,6,4,4,16,21,22,10,6,11,17,9,17,10,12,17,6,11,11,21,6,12,7,7,5,14,4,6,9,13,9,4,6,12,16,9,3,11,4,10,15,5,3,22,14,7,10,2,12,5,9,3,5,6,6,5,29,18,14,11,13,37,7,3,9,17,9,2,7,7,21,16,20,9,27,19,5,24,5,10,21,5,5,11,3,23,9,7,20,2,5,19,5,13,8,12,36,14,9,8,5,18,19,8,17,14,1,15,14,11,9,6,7,7,12,16,2,2,10,7,11,3,5,4,8,32,11,6,6,5,6,12,12,1,18,6,11,16,12,4,19,7,8,9,28,15,9,4,14,4,15,5,12,6,7,4,42,21,6,48,12,32,12,7,29,15,33,11,7,3,9,4,3,24,6,5,10,12,2,10,5,2,4,5,4,10,15,44,7,25,17,5,4,46,18,29,13,3,8,11,20,6,34,3,11,6,13,14,5,2,8,12,13,25,11,10,4,28,13,8,5,6,6,2,14,4,2,14,10,10,25,24,9,7,10,7,2,25,6,15,5,9,8,2,12,4,6,7,5,8,6,5,16,48,12,8,8,3,14,3,18,6,10,9,6,3,7,8,35,6,4,16,6,23,6,8,26,10,40,4,8,8,14,5,5,7,8,12,6,11,30,5,6,3,17,24,51,7,14,19,3,37,3,2,2,7,22,14,4,3,8,16,10,9,28,10,5,8,9,17,8,6,14,5,31,7,14,13,20,2,1,5,10,11,5,8,13,11,14,13,6,23,24,10,5,9,6,12,11,3,15,7,14,19,16,6,10,9,33,7,8,10,29,13,9,15,6,21,8,6,10,36,11,7,12,7,21,8,29,5,15,5,12,10,1,8,13,13,17,9,2,13,5,8,22,12,1,12,2,8,16,7,7,14,3,8,11,3,7,11,5,9,9,10,5,7,13,20,8,3,28,4,19,9,9,19,5,6,8,4,6,6,9,6,7,7,5,6,10,9,19,36,50,2,8,2,6,13,5,1,9,12,7,19,27,17,2,26,3,10,10,7,6,15,24,9,46,15,3,7,7,9,15,3,8,6,10,26,16,6,8,24,11,11,39,6,10,5,13,1,4,4,4,7,7,8,17,8,17,10,15,27,12,8,11,11,3,6,7,27,4,7,5,8,9,10,13,6,16,4,13,7,23,7,4,8,17,25,11,1,18,5,6,8,4,4,21,16,14,11,6,17,6,11,13,36,18,15,7,25,7,1,25,13,6,22,22,20,7,6,11,3,21,12,11,13,21,8,15,6,16,20,26,5,7,15,25,8,8,19,2,9,10,5,17,7,13,5,22,11,14,26,23,3,11,8,12,12,43,7,1,13,20,8,2,24,15,16,33,7,13,31,39,6,10,13,12,8,9,2,3,2,46,18,5,42,13,18,13,4,8,23,4,2,13,19,14,10,13,7,5,7,9,39,9,8,13,5,13,3,2,6,13,9,11,9,7,8,35,14,10,6,8,6,6,18,3,12,10,8,8,7,2,5,3,8,4,10,12,10,4,5,27,3,10,4,10,5,9,3,12,8,5,11,4,10,8,6,19,4,10,9,20,29,7,10,5,6,18,14,18,5,9,14,11,8,2,21,8,3,5,8,4,4,10,50,12,13,5,6,17,7,7,20,1,18,19,3,6,6,4,7,8,4,18,25,11,2,10,4,25,9,19,28,5,4,9,1,9,8,10,1,7,5,25,3,8,4,10,5,7,4,18,17,10,2,17,13,9,17,8,7,7,11,31,10,7,1,5,28,14,6,7,8,15,8,19,3,12,5,8,13,10,9,11,8,11,5,5,11,9,2,23,6,1,9,9,7,9,4,9,2,38,6,7,15,8,10,4,5,26,3,1,10,13,3,1,4,8,5,8,4,4,6,14,27,16,6,8,8,39,24,8,7,12,4,12,17,10,7,19,20,11,8,11,6,6,8,13,21,8,5,21,27,7,20,8,16,8,5,16,18,18,4,8,16,9,29,10,11,3,8,7,10,7,5,12,7,6,39,14,16,3,8,4,7,21,4,3,3,12,21,7,11,4,14,26,4,14,14,10,7,3,16,2,9,5,11,16,19,3,13,7,10,9,6,8,7,12,12,22,3,18,5,2,10,17,14,10,3,7,4,2,6,9,15,11,4,3,6,9,10,23,8,4,14,10,6,13,13,21,19,11,6,3,7,35,33,11,15,6,12,2,30,15,11,30,4,8,6,7,1,6,8,6,18,8,9,5,20,13,13,7,7,8,6,1,3,12,7,7,7,11,6,14,4,4,4,7,1,4,24,13,12,13,5,4,7,15,5,9,13,9,9,4,6,43,16,5,5,20,4,11,5,17,14,2,12,4,8,4,3,18,12,7,15,11,9,5,6,3,39,8,6,15,6,8,6,7,6,8,17,14,6,12,7,5,23,6,2,7,36,8,4,9,7,11,13,12,7,5,8,14,12,5,13,8,4,8,20,3,8,4,9,49,32,4,22,22,6,10,8,14,8,12,7,4,11,5,9,15,14,3,5,5,7,20,6,13,5,8,26,1,8,6,48,10,12,6,10,11,8,6,7,8,6,3,4,20,9,4,10,2,5,3,7,9,13,8,11,16,9,13,6,13,4,37,3,8,15,6,7,8,6,2,7,6,8,21,2,10,7,11,8,29,8,5,6,5,20,27,20,12,45,6,18,6,4,5,6,8,8,10,8,7,13,4,20,3,3,1,12,18,18,11,20,8,12,6,12,5,8,8,8,8,12,6,12,3,6,7,9,4,16,18,36,6,6,10,6,18,4,5,3,45,26,12,51,30,25,9,11,10,9,17,10,14,11,13,10,3,2,6,21,12,3,9,6,14,32,20,6,17,13,4,9,8,14,5,17,5,9,3,20,1,9,7,10,6,4,40,7,8,7,10,21,7,3,3,10,28,15,3,25,11,11,4,8,4,10,8,10,4,4,4,3,9,11,17,5,18,21,9,6,13,2,13,11,5,31,7,12,4,14,2,2,12,10,9,11,11,6,52,20,25,18,5,8,5,15,4,9,26,7,27,7,12,7,7,9,1,6,21,17,13,3,5,53,12,26,12,24,9,7,8,10,9,45,18,13,4,8,3,5,12,16,10,10,10,19,33,14,7,28,6,7,8,16,29,7,18,14,19,4,4,11,4,9,2,12,4,37,11,6,4,11,5,12,13,5,10,6,7,6,3,6,7,8,8,8,28,15,10,8,5,14,5,6,4,5,14,17,3,3,9,4,19,1,9,3,11,3,4,26,3,10,3,8,5,12,7,7,16,3,19,11,10,5,3,15,3,7,10,6,21,8,4,7,5,11,12,14,13,6,10,9,19,15,7,25,17,3,8,22,5,14,3,4,4,5,13,13,18,2,3,8,7,54,6,6,20,26,6,10,3,16,6,11,7,7,8,3,12,8,25,11,7,10,7,6,29,14,4,3,14,8,12,7,15,16,7,4,8,4,34,13,4,7,4,5,9,3,13,6,14,9,21,38,5,3,5,13,11,5,2,9,14,7,4,10,6,12,2,5,12,3,4,7,7,29,10,19,6,35,8,11,13,6,10,3,6,6,5,4,9,8,8,4,9,4,3,10,7,4,17,36,7,5,21,11,9,8,3,2,7,4,33,7,3,23,14,19,12,8,3,9,5,9,3,3,7,4,11,13,8,3,7,6,8,49,15,4,9,5,15,4,18,25,8,5,2,7,2,27,13,15,9,7,19,11,8,9,4,9,7,4,12,8,18,23,4,6,13,5,8,7,6,5,6,4,25,10,7,7,6,9,12,7,12,8,4,17,8,11,2,20,5,7,18,8,6,21,20,8,10,2,4,11,10,11,9,3,11,11,6,25,3,13,3,12,17,4,9,3,15,9,3,9,9,21,10,12,12,6,22,15,6,8,12,9,8,19,11,22,9,10,2,8,2,13,15,6,10,2,18,9,3,17,13,17,10,7,6,18,10,11,1,8,11,3,8,6,5,9,10,11,6,12,14,4,4,11,3,7,5,7,5,9,9,9,5,19,42,3,9,3,5,43,8,12,12,8,29,10,7,19,13,7,9,3,6,8,7,30,16,14,12,7,12,6,3,1,7,5,3,4,26,15,7,5,17,8,8,25,31,3,20,11,1,13,3,11,5,12,5,8,27,8,8,8,4,6,7,4,6,6,11,4,5,6,5,7,47,20,11,4,27,13,12,33,8,8,2,9,6,3,9,6,3,25,11,6,6,8,7,8,5,7,13,25,9,3,21,10,3,15,11,11,9,7,18,18,6,15,5,3,13,8,8,14,8,10,16,8,12,11,8,27,8,15,21,12,7,10,15,6,7,11,13,2,10,2,5,8,8,11,17,22,18,6,4,1,10,8,13,7,12,9,16,14,6,4,3,8,17,6,9,6,7,8,10,22,9,8,7,26,21,7,33,5,6,25,16,6,13,47,16,2,9,8,40,11,24,7,9,20,3,4,14,3,4,10,3,11,10,7,7,11,14,13,5,8,4,3,9,25,8,6,52,6,7,18,7,4,6,8,7,23,5,12,10,11,4,4,12,2,8,15,3,25,3,11,7,2,14,4,14,15,6,20,7,7,35,3,9,8,12,4,38,6,7,13,8,10,6,3,7,10,13,16,2,7,9,8,11,2,25,3,6,14,16,7,6,7,8,24,5,27,19,11,4,21,33,9,4,5,9,7,5,18,3,2,24,11,11,14,8,7,27,9,15,13,10,4,11,18,15,8,26,13,3,3,3,11,3,14,9,7,28,13,12,5,8,13,32,8,19,12,11,11,13,12,6,14,7,22,3,12,5,5,6,22,12,13,1,5,18,9,4,5,27,4,6,9,4,9,36,16,6,4,1,6,19,9,4,6,6,10,12,12,5,5,38,14,4,3,11,5,14,6,4,21,10,5,13,3,2,3,8,6,6,6,3,3,12,5,16,31,18,8,18,9,8,10,14,6,8,4,12,8,13,6,6,3,16,6,15,8,5,6,7,30,22,19,10,4,11,7,23,9,36,9,15,3,12,17,6,14,9,13,14,9,5,30,32,5,11,17,4,7,8,3,27,2,11,10,7,13,7,14,5,12,8,9,13,8,14,10,20,30,12,6,5,9,8,3,7,18,10,7,7,12,11,10,6,10,6,4,7,3,10,11,7,12,2,6,3,4,11,17,3,7,13,5,32,11,13,13,5,15,6,8,6,9,12,24,33,8,3,13,11,12,12,9,16,13,32,17,3,8,7,13,9,4,10,9,9,9,6,11,15,11,3,19,8,5,3,15,4,6,20,5,16,6,6,3,15,8,7,12,3,5,7,14,5,7,6,6,7,4,7,10,6,9,8,3,3,13,7,3,16,3,8,46,7,13,16,10,5,9,4,5,13,8,6,17,33,38,11,8,10,3,7,8,17,10,5,5,9,1,6,17,7,6,16,4,2,3,9,12,4,2,23,9,6,8,9,12,4,11,6,3,8,11,7,7,4,3,9,5,11,20,6,10,12,13,9,16,3,30,44,13,9,7,11,8,5,1,3,17,24,4,18,20,16,4,8,10,14,7,10,8,16,6,6,18,5,2,6,6,5,11,15,7,2,4,4,21,7,32,6,10,3,11,10,3,19,5,11,12,8,35,9,11,10,11,8,15,16,8,28,3,13,36,3,6,6,5,4,9,6,4,8,3,3,10,2,12,5,5,5,6,6,17,4,11,3,13,10,2,7,3,9,3,8,5,5,10,8,13,19,21,10,9,6,6,6,7,11,11,11,5,7,8,21,9,12,4,6,6,7,4,8,4,8,8,10,9,4,3,3,26,4,7,3,2,12,10,6,6,6,2,7,9,38,47,6,6,4,8,9,9,23,11,5,6,9,5,7,5,17,13,4,9,5,23,8,4,6,12,2,9,7,7,3,2,13,7,18,22,6,5,5,12,5,7,2,10,13,3,3,15,5,11,14,10,5,11,4,4,12,4,6,3,18,15,25,8,11,7,7,7,8,4,7,11,9,7,22,8,4,8,51,7,7,9,10,6,3,11,11,7,9,4,39,7,10,5,5,8,6,4,3,11,13,20,13,7,5,8,3,16,6,17,10,8,20,4,7,9,4,13,8,14,8,12,11,11,4,7,14,45,7,10,7,8,6,21,2,3,21,7,5,1,11,15,8,3,8,8,3,2,4,25,11,3,6,7,14,20,17,8,9,5,8,4,8,4,6,30,6,7,6,2,11,19,6,4,7,6,17,43,10,36,6,8,6,8,4,3,14,18,16,3,12,27,11,7,34,4,3,7,6,22,7,27,8,10,6,5,5,45,4,8,9,2,6,4,9,31,6,5,24,13,6,8,14,25,6,7,3,19,3,3,5,1,4,22,3,12,13,6,3,7,10,3,4,7,12,13,13,17,7,15,12,7,4,9,9,3,6,10,9,4,8,15,8,15,13,5,12,11,8,6,3,9,3,23,5,4,8,9,3,21,4,5,14,6,4,16,11,25,9,3,14,1,3,6,6,5,9,4,5,2,10,9,27,10,14,9,6,7,5,1,17,8,8,7,19,2,8,10,14,11,13,3,5,10,9,10,7,14,6,3,19,13,3,4,8,5,10,22,10,5,10,9,6,8,11,7,15,6,4,7,6,34,21,7,7,5,14,13,14,7,8,4,1,8,6,11,12,19,2,15,7,4,10,5,26,9,8,6,11,7,5,11,8,11,7,8,3,3,5,5,10,7,9,5,5,6,6,5,8,1,3,14,6,8,1,16,7,32,1,5,7,10,8,14,8,1,9,8,8,7,4,19,6,6,33,6,9,7,9,6,3,16,22,2,12,4,27,3,6,6,9,8,5,4,18,21,16,12,12,11,12,4,15,5,12,11,9,5,11,16,6,6,25,1,6,6,12,12,7,13,2,5,9,18,47,13,2,41,6,17,16,8,25,4,5,11,2,13,5,7,14,7,4,15,2,6,3,17,6,6,3,6,14,2,6,7,2,5,6,7,8,2,12,18,15,10,38,44,9,8,8,4,30,24,12,3,5,23,4,11,3,5,9,39,20,7,3,11,6,4,3,7,7,8,14,9,5,5,30,11,4,10,11,9,9,11,11,3,1,11,1,25,7,10,4,2,3,7,8,3,13,33,3,5,13,6,10,7,14,13,8,4,2,16,10,3,4,11,6,3,2,7,21,10,2,9,18,5,3,9,2,22,2,15,3,17,22,13,5,8,13,4,11,13,8,9,5,15,10,4,14,4,15,15,11,6,5,7,19,18,3,4,9,13,19,2,5,12,8,6,22,2,17,17,4,12,8,11,3,7,9,19,9,5,10,11,42,9,20,30,9,5,12,1,5,5,3,9,9,3,2,1,1,8,4,15,5,20,5,2,7,5,12,5,11,13,15,7,49,9,5,5,2,15,7,3,9,17,8,17,6,21,4,8,12,13,3,4,5,20,10,9,7,15,3,6,10,13,1,14,5,9,5,4,13,6,2,13,17,27,8,3,7,7,6,1,8,9,20,27,11,9,6,6,14,11,11,10,16,2,10,11,7,17,4,21,16,9,6,5,8,9,11,3,19,11,12,12,6,7,16,6,4,10,3,11,4,5,13,14,13,2,7,5,16,19,7,10,9,14,8,3,12,5,8,8,4,26,2,7,3,7,28,4,6,6,2,16,2,10,9,4,2,22,14,6,12,7,6,8,7,11,10,22,12,6,3,15,4,17,6,18,20,6,3,8,8,3,4,8,15,13,14,5,21,10,5,14,3,4,12,12,5,14,14,6,4,2,17,5,8,7,2,16,15,9,32,13,4,5,8,4,18,5,14,6,4,2,9,15,11,7,4,15,9,5,5,3,6,6,4,5,18,7,12,19,3,9,6,10,7,11,9,29,12,3,10,14,11,6,21,7,8,12,13,11,10,15,13,8,6,8,1,3,2,14,5,8,6,7,4,10,16,8,7,8,2,10,16,6,8,4,5,7,11,20,8,10,2,4,7,10,8,31,4,3,1,12,7,27,11,5,5,5,10,7,7,41,5,3,23,8,3,24,6,3,6,6,14,8,6,15,1,9,12,4,4,13,4,6,16,34,13,14,14,6,5,10,24,8,7,11,3,7,7,15,3,12,24,6,19,10,10,9,13,5,4,12,8,4,9,12,7,6,7,8,12,13,8,12,6,20,9,22,10,10,5,24,8,23,10,8,8,4,26,3,6,10,6,22,7,3,8,12,6,9,8,1,12,20,7,11,12,7,8,10,14,4,23,23,4,12,4,16,23,7,23,9,7,8,6,15,12,8,3,4,11,5,13,5,3,6,8,2,4,6,9,2,3,18,5,8,16,5,7,3,5,18,5,3,8,32,4,5,6,6,27,25,7,14,7,10,6,7,11,5,9,8,12,6,18,5,15,4,3,17,8,6,3,13,20,9,9,6,27,14,4,6,2,12,12,5,30,11,7,28,2,11,12,9,8,5,4,15,21,9,9,9,4,15,8,10,11,8,7,9,11,12,2,9,5,6,8,4,5,1,13,1,7,10,39,9,4,9,21,2,6,11,12,8,5,8,5,9,6,6,5,10,16,21,6,4,8,5,8,7,5,1,32,12,16,6,10,11,4,8,4,5,12,11,16,15,7,18,3,11,3,5,10,48,4,5,7,8,11,10,12,4,4,13,12,5,2,4,8,11,7,13,15,9,31,6,44,19,22,14,5,6,5,7,7,7,7,16,4,9,15,3,7,9,9,4,6,10,46,4,8,18,6,8,3,3,6,19,12,6,5,13,6,10,5,8,10,7,22,6,13,3,4,11,5,11,15,3,16,7,4,7,14,13,16,6,6,6,11,3,9,6,21,1,13,8,4,23,6,11,6,6,9,6,11,22,1,12,8,27,5,7,8,18,20,5,5,7,7,12,5,6,6,14,17,6,2,8,3,18,14,2,9,8,6,6,2,7,4,10,24,9,5,6,3,6,7,13,3,8,5,8,21,10,9,4,2,10,3,13,14,10,6,8,10,9,5,6,5,17,4,8,22,17,5,10,2,10,1,11,4,14,11,11,4,22,9,7,12,11,5,8,3,3,13,9,5,12,4,10,11,2,15,4,14,4,11,19,4,6,5,8,13,21,13,3,6,3,5,5,7,7,2,9,3,4,7,25,4,10,4,9,6,6,2,10,16,2,7,10,15,7,2,4,38,4,18,2,23,18,11,8,27,3,17,27,15,8,16,6,5,8,8,4,4,8,10,2,8,13,7,3,10,12,16,5,17,9,20,23,6,7,9,11,7,7,6,11,5,15,9,17,7,21,7,11,9,4,2,4,2,4,5,3,23,27,8,4,9,48,2,9,14,15,4,3,8,5,12,3,9,3,5,9,4,7,6,6,1,8,4,12,8,8,5,1,2,9,4,3,5,12,8,8,5,21,21,4,5,8,2,14,3,9,12,3,2,4,9,20,11,5,5,5,7,2,10,12,7,12,9,9,9,11,7,3,15,3,10,10,6,7,4,7,1,8,2,4,9,12,8,8,22,31,8,3,7,4,6,6,7,5,5,5,9,4,4,3,3,3,3,7,7,3,4,4,5,4,10,17,8,1,4,20,5,4,9,5,8,8,4,10,4,8,3,9,4,2,1,4,8,12,4,5,10,22,1,8,5,10,2,2,5,6,4,6,4,20,4,13,13,19,4,4,7,6,2,7,7,17,5,5,2,6,8,9,5,7,12,5,2,10,6,5,11,2,9,5,4,5,19,17,8,3,12,36,12,5,3,5,11,3,6,4,17,7,3,17,15,11,8,9,9,10,12,10,2,15,7,7,2,20,15,6,7,3,5,14,6,3,11,11,1,16,7,5,5,5,2,55,6,10,16,5,16,5,1,3,10,19,7,6,12,6,3,31,15,13,20,2,31,5,8,17,6,4,7,8,5,8,5,4,3,14,5,17,11,5,10,5,10,10,8,17,8,17,7,17,19,16,11,10,9,8,4,4,4,4,7,2,12,17,5,8,22,23,3,11,11,7,12,15,5,8,8,3,10,9,11,8,3,11,9,4,6,9,11,5,16,22,15,6,1,24,5,12,6,4,4,2,14,9,34,16,9,5,13,4,8,3,5,3,6,5,2,3,5,9,3,18,18,2,10,8,7,11,8,20,11,8,10,4,13,2,10,8,3,3,8,11,31,8,6,3,6,12,6,13,5,7,13,3,2,3,3,10,6,3,7,7,14,10,13,14,31,13,6,2,9,12,4,2,4,5,10,9,8,3,12,7,11,16,8,7,42,30,8,16,9,7,15,5,8,9,20,9,8,6,6,9,3,14,8,6,18,3,8,14,2,10,6,5,4,5,21,4,9,9,9,14,6,2,4,16,4,15,2,11,7,8,7,12,12,2,8,7,5,11,9,17,28,9,17,29,10,12,15,5,22,16,5,12,5,9,45,12,10,39,6,23,8,7,4,22,1,4,7,13,11,1,11,4,10,9,34,1,12,3,16,5,12,4,5,21,13,17,4,4,6,9,2,24,9,16,3,3,6,5,31,5,1,5,6,8,6,13,11,9,11,7,10,19,12,3,5,7,4,20,13,12,5,10,15,2,8,8,5,7,7,3,16,9,2,3,9,11,8,2,9,7,14,2,38,11,9,8,35,20,9,6,35,3,18,10,6,12,7,17,15,6,4,10,3,7,3,8,24,7,1,6,11,8,11,11,5,11,20,8,10,9,12,7,9,5,4,14,6,4,6,3,21,9,5,5,10,7,7,8,14,4,8,3,10,7,7,5,2,3,5,5,2,5,1,7,1,3,6,49,7,9,10,9,11,6,5,8,7,3,14,7,12,8,3,28,3,6,19,12,5,2,2,7,7,3,7,7,5,9,13,7,4,2,10,4,2,7,7,16,4,9,8,9,17,16,5,8,3,15,7,3,13,9,4,5,9,24,16,16,12,6,6,7,5,7,17,7,6,5,6,3,21,2,3,16,12,4,6,12,11,7,3,4,8,8,15,17,15,2,7,11,11,10,15,17,5,9,5,17,20,8,14,5,1,8,15,3,3,18,16,6,3,5,8,5,4,8,8,10,11,2,6,10,12,6,6,11,16,17,3,11,6,2,14,6,6,2,4,2,4,4,14,11,28,1,12,5,4,7,10,4,16,5,15,2,15,16,4,5,42,5,9,2,7,11,9,5,12,15,20,2,13,40,6,29,1,10,6,18,48,24,14,6,3,6,7,9,4,6,7,10,7,10,4,6,6,10,2,3,7,3,9,21,7,22,17,3,14,10,3,5,2,10,10,8,5,5,8,10,11,7,6,1,4,8,3,9,22,8,10,4,10,14,4,5,8,10,11,14,7,12,3,50,6,7,8,5,7,21,5,22,15,11,12,4,5,30,10,7,9,21,5,5,2,5,9,3,9,8,11,9,3,6,4,4,3,7,5,11,9,6,10,8,11,10,8,9,10,21,10,2,7,28,1,7,6,11,17,9,9,9,7,11,20,9,11,49,5,2,8,12,28,3,3,25,11,11,21,4,7,9,8,6,3,15,8,10,13,10,5,2,12,7,6,3,6,5,13,11,6,3,36,6,3,13,13,21,25,6,12,14,4,3,2,12,2,4,15,11,3,12,8,4,4,7,5,13,15,14,18,6,15,9,20,11,7,10,4,6,13,10,4,12,5,3,11,4,7,7,8,3,8,8,18,6,2,11,10,6,15,10,1,4,7,7,5,6,11,2,4,29,5,18,4,3,3,8,32,4,7,14,8,2,3,12,5,4,12,9,4,6,3,5,5,5,13,9,8,13,7,16,9,3,3,9,13,15,10,9,7,4,7,1,14,8,19,7,15,10,10,12,3,10,9,8,9,6,9,14,38,17,3,7,10,4,14,3,10,11,7,4,6,12,8,7,15,20,3,9,6,5,6,7,7,8,9,12,5,6,9,4,25,3,14,5,10,10,47,11,10,10,3,7,9,6,11,9,6,9,3,2,16,4,6,9,19,6,6,15,5,4,11,28,4,5,19,15,5,12,6,3,5,12,12,8,14,12,5,5,10,13,41,4,21,26,9,1,8,2,4,14,1,5,14,12,3,23,14,10,3,13,22,5,4,14,4,5,15,19,5,5,12,5,11,10,5,7,4,11,16,8,11,14,9,10,13,8,7,14,12,4,20,4,42,5,4,5,4,10,7,30,3,6,18,4,15,17,8,13,2,8,1,8,13,6,5,4,21,14,25,8,9,5,8,6,12,9,5,49,20,7,12,4,4,6,10,17,7,3,26,10,11,2,5,3,10,6,9,5,11,7,22,2,9,12,5,22,1,4,11,13,13,5,16,3,2,2,24,12,9,3,16,4,9,10,9,11,4,3,6,2,2,19,2,7,3,12,10,1,8,7,7,7,18,5,11,16,4,4,9,5,2,9,2,2,8,5,6,1,5,18,8,10,7,17,5,14,6,5,7,3,7,26,12,9,9,20,6,9,6,5,2,2,10,11,16,4,1,13,6,8,9,19,4,4,6,18,8,9,19,8,7,6,15,8,12,3,3,6,12,24,7,8,16,6,8,4,6,4,7,3,6,19,14,7,2,8,5,19,4,15,9,15,7,21,13,7,5,11,5,13,19,12,42,5,4,3,1,48,9,13,3,5,9,4,11,3,7,6,3,10,14,7,11,5,6,15,3,23,8,8,7,7,6,4,8,38,11,11,4,6,14,11,7,6,8,3,12,1,4,7,11,7,9,9,12,3,10,7,12,6,6,7,6,8,4,6,8,13,9,13,7,5,6,11,43,5,13,9,17,2,5,6,1,3,3,3,3,15,4,4,12,36,28,21,2,10,6,7,27,4,14,4,8,4,8,11,4,15,15,3,8,7,7,10,10,6,8,15,9,12,10,15,13,38,15,4,14,4,12,6,4,12,1,6,8,9,11,13,28,12,13,1,22,7,4,8,7,3,8,7,19,2,29,14,14,9,15,7,8,3,16,1,30,7,11,5,3,19,9,13,5,11,3,12,17,15,6,11,3,13,6,1,6,6,8,3,21,11,6,7,6,5,5,4,9,3,6,4,9,11,2,4,4,18,12,9,9,8,3,1,5,12,8,6,6,7,7,18,8,7,12,6,4,4,2,8,11,8,4,3,10,7,8,1,5,8,5,5,11,8,3,8,13,13,5,6,9,7,3,6,8,12,1,4,10,12,5,15,5,5,7,10,22,5,5,15,7,7,14,11,4,2,12,9,11,10,9,8,12,7,12,13,11,23,22,36,10,10,15,6,2,4,6,16,10,8,8,12,5,5,26,23,15,17,10,2,4,7,8,5,5,25,3,7,6,3,7,4,13,7,11,8,13,13,19,23,11,11,4,5,2,25,9,4,3,8,9,9,4,12,8,6,4,13,9,10,20,5,14,13,4,15,11,3,9,5,18,9,10,5,11,8,7,6,4,2,10,13,6,16,11,6,5,7,32,9,14,19,5,45,25,13,11,7,1,4,11,12,9,8,10,11,10,7,6,15,10,1,7,8,26,11,3,3,11,6,4,7,5,6,2,4,5,8,2,6,10,27,11,20,16,4,6,7,6,37,4,6,5,28,13,12,5,14,10,9,16,2,13,12,7,4,3,12,35,12,15,11,10,4,8,5,8,9,3,3,23,19,8,3,7,12,12,9,7,9,1,2,25,16,15,3,3,12,11,11,2,14,14,7,5,9,18,11,2,5,11,13,4,6,9,12,8,5,9,4,3,5,11,5,7,7,31,19,5,6,11,7,5,14,10,12,9,13,6,5,18,6,28,9,12,13,4,12,12,4,2,5,16,1,10,8,3,10,5,12,2,4,4,27,12,7,8,52,9,5,7,7,7,21,10,17,21,13,4,2,18,15,5,14,8,9,19,12,8,12,15,7,7,5,6,12,22,21,6,5,2,15,12,8,18,4,2,3,5,10,1,2,9,17,32,12,11,4,2,8,3,6,3,23,20,5,7,8,10,2,5,4,14,14,12,16,12,4,15,11,18,4,4,6,20,4,3,12,4,3,4,13,12,4,2,8,3,10,5,6,39,4,17,3,5,4,4,6,13,3,5,7,6,11,4,5,11,6,22,4,3,15,10,3,2,11,8,3,19,10,5,11,7,24,12,4,2,7,20,9,5,9,2,12,4,8,12,11,9,11,13,12,4,4,23,15,16,7,11,4,13,7,3,4,6,10,22,4,3,20,18,5,6,10,3,4,3,15,8,11,6,3,7,6,6,3,7,6,6,7,7,18,26,5,9,9,20,10,20,8,8,11,4,4,8,10,6,4,3,17,5,7,6,20,4,11,27,19,3,2,2,14,7,6,5,7,14,8,5,6,5,14,6,4,6,8,9,6,8,7,6,4,10,16,23,25,6,7,2,4,19,47,4,3,10,20,10,9,9,12,28,12,18,3,7,6,15,23,7,10,5,6,8,7,7,11,20,11,10,9,7,9,25,13,5,10,24,11,29,5,8,11,8,4,10,15,4,2,14,2,8,15,9,2,14,20,3,4,25,5,5,6,6,7,15,6,5,12,16,14,4,11,12,13,9,9,14,8,8,5,4,7,5,11,9,6,6,12,13,12,6,4,7,3,13,20,5,4,8,3,4,8,14,3,2,6,9,15,13,10,11,10,7,6,4,14,1,28,10,9,5,15,8,6,9,5,2,2,4,12,3,9,6,12,4,4,22,28,5,9,16,8,9,11,11,9,16,8,7,18,9,4,46,7,13,18,5,8,9,3,3,10,9,13,5,4,4,5,3,6,7,12,3,18,2,9,11,10,11,11,7,3,12,4,12,12,20,3,13,3,22,21,5,7,7,4,6,6,3,12,7,4,15,15,10,6,9,14,6,1,8,2,5,9,17,3,5,6,7,4,1,11,8,7,10,4,6,4,6,6,19,7,11,2,8,6,35,5,5,9,15,10,24,7,3,11,8,8,9,19,3,22,7,11,8,4,5,6,6,13,9,2,8,2,4,5,8,32,15,2,34,4,5,11,3,3,5,17,3,17,8,9,4,10,16,3,4,7,23,6,7,9,5,6,7,5,17,19,5,7,23,5,7,4,4,2,7,14,9,4,9,7,15,12,8,2,30,9,1,19,10,2,18,5,10,12,4,8,5,2,11,6,13,11,9,5,10,9,5,2,3,2,2,7,7,6,5,9,15,4,4,10,7,35,11,5,6,9,14,9,10,3,5,22,18,2,20,11,8,17,12,5,8,10,9,7,4,6,9,14,17,5,11,7,4,21,8,10,8,7,7,11,11,4,5,9,31,8,26,15,2,2,4,10,3,8,2,3,10,20,4,26,10,1,5,3,3,16,10,12,6,12,29,15,4,3,4,6,7,4,17,5,11,11,2,14,4,4,10,8,14,7,6,14,4,3,2,10,3,10,23,14,4,11,17,11,11,7,12,1,5,11,22,10,16,13,13,9,11,6,44,7,13,3,3,8,12,16,9,5,8,7,6,2,5,3,12,27,24,3,2,16,6,5,5,6,11,8,11,11,6,13,7,12,7,12,8,6,5,1,4,7,5,6,7,19,5,5,22,11,4,15,7,3,7,11,7,5,4,2,6,22,10,9,17,2,5,10,14,6,3,2,3,16,6,19,14,5,11,5,11,4,5,5,2,8,4,3,12,3,10,5,7,31,5,18,20,10,2,5,2,18,10,1,19,7,12,4,5,7,6,11,24,13,3,8,3,5,5,1,7,12,17,2,11,7,1,12,16,7,4,7,3,4,23,3,3,12,1,9,13,2,4,9,7,16,12,9,3,20,8,3,10,2,4,3,16,3,23,3,1,4,7,10,12,6,5,4,5,20,6,8,13,9,14,3,9,7,10,2,9,44,23,2,11,9,4,9,4,5,9,8,4,11,3,20,8,4,7,8,5,9,8,14,13,9,29,9,7,4,10,9,5,4,7,11,7,7,19,9,4,6,9,13,7,4,6,11,5,7,8,14,4,21,3,10,5,12,8,8,4,20,4,10,26,6,9,10,2,4,9,3,6,5,5,24,4,10,5,39,14,2,10,2,18,6,10,5,7,15,8,2,11,7,14,12,9,5,14,13,9,3,5,6,29,5,5,11,6,7,3,17,5,6,4,8,7,3,5,2,5,12,11,42,19,10,3,2,9,33,12,5,7,5,4,8,14,8,18,7,3,8,9,8,4,10,2,5,7,20,7,4,22,8,7,6,9,19,6,8,14,7,2,8,6,10,6,12,14,9,15,5,15,10,8,8,10,3,10,10,7,3,3,3,6,20,24,28,18,4,5,6,7,3,39,9,12,22,9,10,3,4,7,9,4,26,5,1,7,6,7,16,11,36,5,2,2,6,6,12,11,4,11,10,13,4,29,7,17,15,11,3,7,22,14,3,16,7,20,5,6,14,42,6,2,5,8,17,7,9,4,6,4,4,7,3,5,5,3,8,8,11,5,2,10,13,8,11,7,5,8,3,12,7,5,4,17,6,9,8,36,1,7,3,9,17,10,9,3,3,9,9,24,9,4,7,10,8,10,4,10,12,11,5,7,7,6,9,5,4,8,9,10,6,7,2,9,2,2,7,6,12,11,16,5,6,5,15,8,17,10,2,8,10,18,9,8,11,9,2,8,12,5,3,8,4,17,5,5,17,45,6,11,12,6,10,14,7,4,7,7,2,6,7,12,2,6,5,10,5,9,16,9,8,5,5,2,11,5,3,3,9,9,10,8,3,2,10,9,1,8,20,12,17,7,12,7,11,6,14,5,20,8,7,25,5,11,7,12,8,5,9,14,7,2,5,5,2,10,12,5,12,15,4,9,6,14,2,3,3,8,14,4,11,13,3,17,12,9,6,9,8,12,8,9,12,9,5,6,7,9,8,11,12,9,18,9,1,5,7,10,7,4,6,17,27,16,15,18,3,5,7,11,5,15,8,5,2,10,3,10,7,7,11,5,21,10,4,25,7,4,10,9,14,13,4,9,11,12,7,11,6,6,12,10,9,25,6,7,16,2,14,13,29,9,1,8,4,16,9,31,7,7,16,37,6,4,16,4,2,2,7,3,13,1,26,13,14,13,22,5,11,11,7,12,4,6,6,12,3,8,8,4,5,2,23,17,10,5,10,7,7,13,4,3,5,11,8,7,11,3,4,5,6,22,15,7,9,4,7,9,23,7,8,4,22,2,3,7,26,7,3,15,8,14,3,5,7,6,4,28,3,6,11,14,3,4,8,4,16,5,11,10,17,19,19,38,7,18,13,6,9,6,2,10,8,7,14,9,8,5,9,5,10,14,6,16,10,4,7,6,39,17,9,7,14,3,5,6,6,10,18,14,10,11,7,4,12,11,4,9,7,7,14,21,3,4,9,1,15,4,5,7,28,17,9,2,10,8,8,7,6,7,6,3,5,17,3,7,11,3,10,12,5,21,6,15,14,3,10,25,10,14,5,3,15,8,10,13,2,11,8,3,2,10,5,4,8,15,8,9,12,4,13,50,15,12,2,5,9,13,6,5,10,6,5,1,11,5,3,8,6,14,13,19,6,15,16,19,17,5,10,2,11,2,33,4,4,7,7,10,8,3,8,5,3,8,4,8,5,4,21,3,10,10,8,11,19,7,8,4,13,6,8,4,3,11,5,13,16,4,5,7,7,6,30,8,8,9,5,14,3,11,11,7,12,2,8,17,14,11,15,23,11,3,7,4,4,19,3,16,16,3,8,5,7,12,5,16,7,23,7,4,7,11,3,6,5,3,7,9,4,24,16,16,7,12,14,6,13,17,5,6,5,9,7,8,6,9,8,1,7,7,10,10,8,5,9,6,25,16,8,11,7,10,3,5,4,11,5,9,21,5,13,14,8,9,21,3,7,6,8,1,15,12,6,9,18,5,4,4,1,9,1,5,4,4,8,4,10,14,7,4,6,13,12,7,4,6,5,5,7,11,6,9,3,12,19,15,5,22,7,8,11,7,7,8,4,5,2,11,7,7,7,12,4,13,14,5,6,14,9,5,10,5,7,4,2,17,7,3,9,14,5,2,8,6,4,29,7,5,3,4,5,47,10,16,6,6,17,2,16,4,1,11,3,4,4,1,10,3,13,9,10,7,8,8,10,7,6,9,9,3,7,2,6,5,7,1,3,6,3,9,11,6,4,3,3,2,4,3,7,15,8,14,8,8,5,12,4,3,3,5,5,1,18,3,8,11,9,13,4,20,4,6,29,4,11,10,8,1,15,4,24,18,17,9,6,32,16,6,18,8,12,7,20,7,6,6,23,4,4,4,13,4,15,6,6,7,38,8,6,6,3,7,6,22,11,6,8,5,4,2,13,8,5,8,8,3,8,11,18,5,2,4,1,10,3,4,17,8,14,4,11,4,2,6,8,12,10,3,6,4,2,2,7,5,7,10,3,8,11,7,7,12,8,16,12,14,18,15,3,5,8,5,9,10,9,5,10,5,2,7,3,14,10,4,9,9,9,17,11,15,4,11,8,11,7,7,2,3,1,12,7,6,3,2,10,3,6,2,33,7,3,3,4,7,3,2,3,14,11,10,5,7,7,9,9,8,1,8,4,9,7,2,5,11,8,18,11,7,4,14,7,12,5,4,3,14,10,7,11,9,8,3,12,18,8,15,9,5,4,9,12,8,11,3,9,24,12,6,9,16,4,7,8,5,9,4,9,11,9,12,11,17,4,4,12,15,4,4,4,4,3,4,6,12,9,15,4,8,20,14,11,12,2,23,11,12,9,9,7,7,8,9,5,7,2,16,10,5,16,16,2,5,13,5,10,7,6,5,6,3,13,3,7,4,8,8,9,9,16,6,7,11,18,9,2,4,4,11,3,6,3,15,5,2,20,10,8,9,12,6,10,6,9,9,10,4,6,13,20,5,6,1,5,6,10,5,3,7,11,11,7,11,11,7,12,8,8,5,12,19,3,3,5,12,9,8,20,8,8,18,4,10,8,6,7,4,12,3,8,29,2,6,7,6,12,10,4,8,5,28,6,26,7,14,13,24,7,10,4,2,9,4,6,7,4,5,7,9,8,12,6,9,5,11,4,6,8,12,15,8,12,12,7,5,5,7,23,8,7,7,7,6,3,5,1,4,1,10,5,12,2,10,5,7,12,4,3,12,20,25,14,6,8,4,15,4,19,5,3,3,6,9,5,12,7,12,3,3,7,11,7,13,9,12,7,2,6,9,7,51,4,2,13,4,4,7,22,10,9,12,4,3,3,5,7,3,3,19,20,10,12,10,7,7,13,5,8,5,5,7,4,5,4,3,3,1,9,6,12,7,6,5,10,9,5,24,21,3,14,10,9,7,20,7,6,13,3,11,2,11,8,9,16,12,11,11,7,10,12,2,9,16,6,3,4,7,11,6,12,2,16,30,5,10,3,6,4,5,11,5,4,10,3,9,2,5,3,8,6,10,7,10,5,9,8,8,8,11,7,7,6,6,8,17,3,3,3,8,11,5,7,4,6,21,20,2,2,6,28,6,5,2,13,15,8,9,10,5,10,15,26,2,8,10,10,11,7,14,6,6,3,23,5,3,2,17,4,8,5,7,6,31,7,2,3,4,9,5,1,19,27,11,12,4,4,6,10,5,5,12,11,11,7,9,12,12,11,3,9,14,5,10,7,7,2,1,11,10,4,5,14,9,6,2,4,4,2,7,26,2,3,9,11,9,2,6,15,8,7,7,16,10,8,15,5,7,7,7,18,14,9,7,6,6,8,7,8,7,36,16,14,9,6,4,9,6,3,2,7,7,9,12,19,4,6,29,16,6,11,7,12,19,8,6,9,11,11,8,11,13,24,2,5,11,8,3,10,7,15,12,3,18,13,6,3,8,17,1,16,15,9,6,11,7,4,4,4,5,7,6,7,8,13,9,1,14,4,10,11,5,5,6,9,8,2,11,3,16,10,3,7,3,51,12,8,8,12,7,14,11,7,12,13,13,2,8,8,5,8,2,12,16,7,21,10,5,6,17,3,7,8,3,6,11,4,1,6,6,14,20,11,6,4,3,12,3,3,8,5,9,5,5,6,5,10,20,3,3,3,10,11,2,5,5,2,4,8,8,3,14,10,26,12,16,11,14,4,2,4,10,7,2,5,3,15,10,16,13,10,5,8,6,2,8,23,6,16,10,5,5,6,6,2,3,1,7,7,10,15,10,14,17,12,4,3,3,1,29,2,8,6,12,10,20,3,11,4,7,5,2,12,6,11,11,5,11,9,17,10,16,10,4,6,10,5,9,4,6,2,7,6,3,4,11,5,27,7,6,15,12,8,5,15,4,2,9,2,33,7,6,7,26,10,5,11,10,8,11,3,15,6,3,18,8,1,6,8,11,12,9,5,31,15,1,22,8,22,17,15,13,7,8,3,11,7,26,12,11,48,7,2,10,3,10,10,7,4,8,3,4,10,7,3,9,8,4,13,5,10,12,16,4,11,7,26,4,5,7,15,4,2,9,13,8,15,5,8,11,5,6,7,9,8,6,4,3,5,5,4,9,21,3,20,9,5,9,8,26,5,7,7,4,4,3,7,4,18,10,4,12,14,4,12,11,2,6,11,5,6,12,2,5,5,11,6,7,5,12,17,6,12,11,7,12,10,8,7,12,20,9,4,12,15,4,6,5,4,2,3,30,10,5,11,15,10,12,6,4,2,5,4,6,11,9,18,9,3,3,12,3,4,8,10,7,9,8,4,10,3,17,12,4,12,4,3,11,7,5,7,12,8,4,9,2,5,5,2,9,2,8,7,10,6,18,4,14,6,5,3,8,3,3,9,14,12,8,7,9,6,8,8,14,8,6,7,4,8,13,3,15,11,6,4,14,3,3,2,9,4,6,3,10,4,12,7,3,1,11,14,17,3,6,2,12,16,9,15,9,1,5,5,8,7,11,20,1,4,9,7,12,6,12,6,5,3,10,16,5,23,28,3,9,11,11,6,1,7,9,10,6,6,14,7,6,5,5,8,27,1,40,17,9,23,20,8,9,11,3,8,8,5,11,13,8,9,5,2,7,37,14,8,9,4,15,13,14,5,7,6,11,7,11,6,7,2,4,25,2,27,8,2,6,5,2,12,2,9,7,3,11,6,13,10,11,9,21,11,6,23,7,7,8,12,7,8,7,14,5,7,16,34,7,5,2,11,11,10,7,11,5,9,19,1,5,7,8,7,6,6,3,9,9,10,8,12,19,9,3,7,11,6,12,12,6,11,7,7,9,3,4,8,6,5,11,13,13,6,7,4,11,11,7,12,6,10,14,5,2,14,5,12,5,5,5,14,9,10,14,12,9,8,14,7,5,10,13,5,10,19,11,3,9,3,15,9,2,4,6,5,4,3,5,6,7,12,11,3,14,13,3,11,5,11,6,7,9,3,6,7,2,11,5,7,4,9,7,12,10,11,7,13,14,4,14,8,10,8,24,4,5,21,2,6,8,21,11,6,7,4,6,19,10,15,6,3,12,11,27,32,12,12,11,6,9,10,26,13,10,12,4,5,4,6,6,17,6,4,7,6,11,9,16,5,7,11,15,16,13,6,9,12,1,8,2,12,2,10,5,7,12,9,9,2,5,11,4,7,5,10,4,18,4,3,7,9,7,10,7,3,2,5,24,4,13,9,8,3,9,9,5,6,10,2,19,6,2,11,21,6,7,19,5,4,2,6,8,11,1,4,8,5,11,10,10,4,8,3,30,5,20,13,11,7,8,9,9,10,12,7,6,12,12,11,8,6,16,9,1,6,10,5,5,8,12,18,26,9,7,11,3,10,4,19,10,3,4,6,14,4,12,4,3,3,9,3,8,2,9,4,4,8,12,7,12,16,9,8,2,8,7,4,4,14,6,4,7,6,12,4,2,4,7,10,9,11,48,4,4,14,13,4,9,10,8,7,9,6,7,7,6,5,7,5,5,6,20,5,6,23,16,19,6,5,11,5,10,20,18,11,3,12,20,14,9,22,7,12,12,4,3,7,11,24,3,8,1,5,3,7,3,12,10,2,9,10,7,4,15,13,13,8,9,4,4,5,7,8,4,14,11,5,5,5,11,9,19,23,16,17,46,6,11,10,9,7,6,16,8,4,14,6,11,7,4,17,18,6,6,13,21,9,14,11,9,9,9,3,13,15,3,7,10,7,7,11,8,3,7,8,12,8,10,6,10,8,12,10,7,8,8,5,2,28,5,8,10,18,8,19,9,8,7,7,13,22,8,7,7,7,5,21,9,5,5,8,8,7,8,9,13,3,6,25,4,4,3,17,9,6,6,13,17,7,5,13,17,2,5,4,3,9,43,11,10,9,3,8,3,7,6,11,7,7,7,12,5,8,6,7,2,7,7,4,5,3,15,24,5,2,4,7,8,11,7,3,9,6,4,7,13,7,20,6,5,7,5,6,4,6,5,11,7,7,12,9,6,3,21,13,4,6,2,11,4,4,10,13,7,4,8,7,10,6,4,3,14,4,2,2,4,8,3,2,1,11,5,4,13,8,2,5,10,7,4,4,41,15,2,15,11,5,11,4,15,13,5,5,3,30,2,10,7,1,25,4,7,8,3,47,2,7,5,2,3,2,3,7,1,4,9,18,4,3,8,3,24,15,6,5,5,12,2,6,9,11,4,5,6,4,3,17,4,7,17,23,4,6,2,32,7,27,5,4,8,5,14,7,4,14,4,9,5,4,18,6,12,10,13,9,4,3,12,4,15,14,10,12,10,11,9,6,3,7,10,9,5,11,12,5,2,5,12,6,8,32,8,6,6,6,3,10,1,5,3,18,9,3,5,1,37,8,15,17,4,6,9,4,11,10,6,7,5,4,3,12,9,5,2,10,8,7,5,7,9,5,4,29,6,12,5,4,5,3,18,9,20,4,1,8,5,1,4,15,2,2,6,8,5,8,10,11,6,1,20,10,11,11,9,2,2,4,2,4,6,6,18,8,19,8,5,14,4,3,14,18,9,2,7,10,3,11,19,7,14,10,9,3,27,8,6,11,6,6,9,14,7,14,7,20,5,3,4,2,36,3,4,5,3,6,27,15,13,3,3,8,5,2,2,11,4,7,4,2,4,4,6,6,5,12,6,9,3,5,6,27,10,9,7,5,2,4,6,8,28,42,2,2,30,12,4,7,4,18,22,10,11,16,3,3,3,2,2,8,8,13,2,6,4,16,5,9,1,3,23,4,4,7,5,7,32,9,3,9,6,4,2,5,7,5,22,3,5,5,2,22,23,4,13,9,17,5,9,5,6,4,6,14,8,14,5,10,13,13,6,12,9,5,1,3,2,6,4,5,3,6,23,3,11,12,7,3,14,18,9,3,12,21,3,7,3,3,13,4,17,3,6,2,3,5,7,11,9,22,8,7,12,12,4,9,17,5,4,9,3,8,4,9,6,9,3,5,6,7,8,8,11,6,9,3,4,21,11,2,2,9,6,4,18,4,2,10,11,3,6,6,1,7,2,11,3,5,17,9,6,14,2,10,4,4,12,3,10,4,8,3,23,6,16,4,1,7,20,4,20,14,2,27,5,2,6,17,16,9,1,7,5,11,8,4,4,8,2,5,8,11,19,19,2,7,5,5,5,3,3,9,3,16,5,6,9,3,6,6,6,11,4,1,7,16,6,25,7,34,5,24,3,7,2,4,13,3,3,4,21,21,10,5,4,4,18,4,6,3,6,12,7,10,10,5,4,3,8,3,5,11,14,1,8,4,4,5,4,4,13,3,6,5,6,5,10,19,4,4,2,9,2,23,3,11,5,5,7,3,10,4,14,11,5,4,4,6,18,8,8,7,5,7,13,11,3,6,20,10,4,23,4,6,5,18,6,10,13,4,11,23,7,12,14,3,8,10,10,31,6,4,11,3,5,24,4,4,9,8,4,4,11,11,10,2,4,11,7,1,9,12,12,3,36,3,17,7,9,9,17,27,14,2,28,4,3,5,8,6,4,23,8,8,5,4,29,14,2,2,4,3,10,4,10,4,12,27,8,9,1,11,4,22,7,3,7,4,4,16,11,6,18,4,5,6,4,5,7,4,13,2,5,6,9,4,11,2,10,2,9,7,10,3,8,12,2,8,3,6,2,11,5,6,3,4,25,15,5,4,1,15,11,5,3,3,10,4,6,5,20,4,6,6,2,10,14,6,4,13,4,4,6,3,5,34,5,4,1,12,18,4,4,5,11,6,5,4,10,6,7,5,21,6,9,4,6,2,4,11,5,5,4,5,2,1,4,4,3,6,13,2,8,3,13,15,10,3,7,1,11,9,21,9,9,11,6,3,9,6,3,2,8,16,6,6,7,4,14,5,2,2,5,9,13,12,8,14,3,4,4,11,7,4,4,7,3,19,3,5,1,3,2,32,32,5,2,2,7,3,9,6,4,7,13,2,5,3,3,13,5,7,8,3,18,5,5,1,11,10,6,7,9,3,9,3,7,18,8,9,6,7,11,21,13,14,12,3,2,6,4,6,2,16,5,6,6,9,14,7,18,11,2,15,5,27,2,6,7,6,2,2,3,4,11,9,20,2,2,4,4,8,8,5,6,4,17,13,8,7,5,7,5,7,5,5,15,13,5,4,1,9,8,4,5,2,5,1,14,6,5,10,22,6,19,6,3,4,11,2,9,2,14,30,7,1,47,7,4,4,7,3,9,30,4,7,8,3,6,10,15,10,10,8,2,12,4,4,2,14,4,6,10,9,10,7,5,18,13,8,4,15,6,4,42,5,12,2,23,5,9,12,20,10,10,8,5,2,5,7,4,10,3,6,2,3,2,5,12,9,5,6,10,7,6,2,3,9,6,6,10,5,6,32,9,10,2,3,3,10,16,2,12,16,9,16,8,5,41,17,6,7,8,23,10,6,4,2,23,12,3,12,19,22,8,12,1,5,6,4,9,8,5,4,3,5,4,19,4,6,3,37,11,6,10,9,5,9,6,7,3,5,2,8,2,1,16,6,9,20,4,7,2,6,11,5,20,17,1,9,5,3,6,18,13,44,20,4,7,7,3,9,8,9,10,13,3,18,8,8,4,2,9,19,6,3,9,7,4,6,4,4,13,8,3,11,4,14,3,18,13,8,4,27,5,17,3,5,3,3,22,4,2,1,6,4,9,5,11,7,4,8,6,3,10,3,12,6,5,4,20,8,5,3,5,3,3,3,2,7,6,2,16,9,1,7,8,21,9,21,5,1,3,6,10,14,4,8,6,3,9,13,2,2,2,10,3,7,5,6,2,11,13,5,5,5,8,7,8,13,5,31,14,1,10,5,7,7,11,19,3,13,4,1,5,2,2,18,13,4,19,12,5,4,16,21,4,12,1,10,5,15,9,4,3,4,1,4,5,5,10,5,11,2,16,13,4,5,4,14,3,16,11,9,4,4,6,17,27,4,10,2,13,9,6,10,7,3,7,7,11,4,3,23,8,11,4,9,7,4,6,4,6,10,8,8,19,5,12,4,5,13,3,6,9,7,10,3,2,6,5,9,7,3,3,5,4,6,5,4,5,4,6,4,11,18,8,7,47,11,5,8,8,2,6,14,3,7,10,4,12,4,1,5,5,3,7,11,12,6,3,9,5,20,2,2,21,10,5,2,3,3,3,3,32,6,5,37,18,6,19,6,5,12,4,6,11,9,7,11,11,6,3,3,9,6,6,4,3,16,2,3,3,8,7,5,15,2,13,15,11,15,3,14,10,2,6,8,6,2,1,20,6,9,4,18,25,9,4,9,31,4,8,39,7,9,4,2,9,8,3,8,21,9,2,10,18,1,13,5,14,15,36,9,2,4,4,3,7,8,44,9,12,15,16,6,6,4,19,9,4,3,15,21,7,8,8,5,10,10,22,3,3,5,4,9,4,5,2,5,10,10,11,34,13,28,6,11,19,7,6,7,9,7,9,3,24,12,2,5,7,6,7,10,4,4,3,7,2,5,13,6,7,5,8,7,6,9,15,8,16,7,2,2,3,18,3,23,6,6,21,5,3,2,2,5,9,2,5,5,7,12,8,3,13,2,4,5,7,12,3,3,3,3,3,9,5,12,11,12,15,6,12,6,11,11,11,10,7,13,4,4,16,12,1,8,5,11,2,2,23,4,10,7,13,4,5,6,3,3,7,10,13,1,1,11,3,2,14,9,2,6,21,15,12,8,5,15,7,5,2,5,7,18,8,7,19,1,6,14,7,3,3,7,6,2,9,2,6,8,8,3,14,9,7,6,41,4,4,4,11,19,4,9,11,7,19,16,4,2,2,3,6,4,3,5,3,8,32,12,2,1,5,8,8,32,5,2,10,8,14,3,15,10,5,12,34,4,4,4,3,4,4,7,4,22,10,1,4,10,4,6,7,3,2,4,6,2,4,3,12,11,11,21,14,16,23,5,4,9,5,22,4,6,11,7,19,3,15,17,2,9,3,27,4,7,3,1,3,6,2,3,5,16,11,2,2,8,6,6,9,3,3,4,8,11,41,17,13,3,18,7,6,12,5,8,4,5,4,9,4,2,8,6,7,10,10,10,6,4,8,12,2,5,2,1,3,9,6,10,5,23,5,6,2,5,9,5,18,2,5,5,2,2,9,3,6,1,3,7,2,14,2,4,11,2,5,4,5,10,1,8,6,4,11,4,5,8,8,18,10,34,5,5,5,11,3,9,9,20,9,5,2,6,8,3,12,22,18,4,10,5,9,4,2,17,6,3,8,3,15,7,18,1,9,7,9,2,9,17,5,7,22,7,12,4,6,19,5,19,34,6,15,6,11,6,3,16,10,19,9,21,7,6,4,7,2,19,3,3,7,7,32,16,6,7,5,1,10,8,4,4,12,6,10,8,8,2,8,3,2,3,7,6,9,19,16,8,15,2,5,7,23,10,8,3,3,10,4,7,2,19,10,27,3,14,9,3,8,11,5,6,2,6,13,7,6,15,11,6,5,15,6,8,5,3,31,14,6,9,4,7,18,7,3,15,10,12,3,5,9,7,23,9,7,10,5,2,13,5,4,11,14,14,15,4,3,7,12,5,13,5,12,2,4,11,32,9,3,5,2,5,4,13,11,4,19,11,6,21,11,5,12,1,4,11,3,11,6,28,16,8,3,2,3,6,4,3,21,2,5,6,5,5,23,6,2,3,9,9,10,7,18,5,12,19,5,6,2,7,10,15,10,5,6,7,2,31,4,8,23,1,4,27,2,41,3,5,11,25,7,12,11,21,12,6,5,37,13,15,10,5,9,3,4,9,10,3,17,14,7,2,5,11,12,6,10,6,6,3,7,5,6,4,2,7,5,3,7,3,3,6,4,18,1,5,6,4,7,4,6,4,6,6,8,5,4,12,8,9,3,5,3,4,10,7,8,11,4,4,9,4,7,10,3,4,13,3,11,16,2,3,4,4,2,2,2,2,7,4,6,13,12,4,9,4,4,13,3,3,4,2,16,1,5,7,9,11,7,19,4,3,16,2,10,14,4,14,3,11,4,2,9,2,3,2,7,2,3,12,5,3,5,2,1,12,3,4,8,5,14,2,3,24,9,13,5,7,5,14,4,13,3,4,8,16,5,6,5,7,9,11,18,12,6,3,14,6,1,5,21,7,8,6,4,5,7,9,8,3,4,6,21,8,11,4,2,4,15,11,1,47,6,5,2,2,2,4,8,1,2,9,8,9,2,4,32,11,8,1,2,4,20,3,3,2,5,7,15,2,13,5,4,2,41,3,1,1,10,11,8,8,11,4,9,4,9,10,7,6,5,10,8,3,2,11,4,13,23,4,6,18,12,10,39,10,7,5,6,10,6,8,11,4,2,10,16,5,5,12,2,4,10,13,6,5,13,5,8,3,4,4,2,3,9,8,12,2,15,19,11,9,21,5,6,2,36,2,8,3,5,3,4,4,5,1,5,4,14,4,3,8,5,3,13,4,3,6,7,3,2,4,2,5,5,10,1,2,3,6,5,9,2,3,5,13,44,13,1,7,9,7,22,2,6,18,9,4,1,15,7,3,10,11,6,3,6,16,3,12,2,9,7,7,4],\"xaxis\":\"x\",\"yaxis\":\"y\",\"type\":\"histogram\"}],                        {\"template\":{\"data\":{\"barpolar\":[{\"marker\":{\"line\":{\"color\":\"rgb(17,17,17)\",\"width\":0.5},\"pattern\":{\"fillmode\":\"overlay\",\"size\":10,\"solidity\":0.2}},\"type\":\"barpolar\"}],\"bar\":[{\"error_x\":{\"color\":\"#f2f5fa\"},\"error_y\":{\"color\":\"#f2f5fa\"},\"marker\":{\"line\":{\"color\":\"rgb(17,17,17)\",\"width\":0.5},\"pattern\":{\"fillmode\":\"overlay\",\"size\":10,\"solidity\":0.2}},\"type\":\"bar\"}],\"carpet\":[{\"aaxis\":{\"endlinecolor\":\"#A2B1C6\",\"gridcolor\":\"#506784\",\"linecolor\":\"#506784\",\"minorgridcolor\":\"#506784\",\"startlinecolor\":\"#A2B1C6\"},\"baxis\":{\"endlinecolor\":\"#A2B1C6\",\"gridcolor\":\"#506784\",\"linecolor\":\"#506784\",\"minorgridcolor\":\"#506784\",\"startlinecolor\":\"#A2B1C6\"},\"type\":\"carpet\"}],\"choropleth\":[{\"colorbar\":{\"outlinewidth\":0,\"ticks\":\"\"},\"type\":\"choropleth\"}],\"contourcarpet\":[{\"colorbar\":{\"outlinewidth\":0,\"ticks\":\"\"},\"type\":\"contourcarpet\"}],\"contour\":[{\"colorbar\":{\"outlinewidth\":0,\"ticks\":\"\"},\"colorscale\":[[0.0,\"#0d0887\"],[0.1111111111111111,\"#46039f\"],[0.2222222222222222,\"#7201a8\"],[0.3333333333333333,\"#9c179e\"],[0.4444444444444444,\"#bd3786\"],[0.5555555555555556,\"#d8576b\"],[0.6666666666666666,\"#ed7953\"],[0.7777777777777778,\"#fb9f3a\"],[0.8888888888888888,\"#fdca26\"],[1.0,\"#f0f921\"]],\"type\":\"contour\"}],\"heatmapgl\":[{\"colorbar\":{\"outlinewidth\":0,\"ticks\":\"\"},\"colorscale\":[[0.0,\"#0d0887\"],[0.1111111111111111,\"#46039f\"],[0.2222222222222222,\"#7201a8\"],[0.3333333333333333,\"#9c179e\"],[0.4444444444444444,\"#bd3786\"],[0.5555555555555556,\"#d8576b\"],[0.6666666666666666,\"#ed7953\"],[0.7777777777777778,\"#fb9f3a\"],[0.8888888888888888,\"#fdca26\"],[1.0,\"#f0f921\"]],\"type\":\"heatmapgl\"}],\"heatmap\":[{\"colorbar\":{\"outlinewidth\":0,\"ticks\":\"\"},\"colorscale\":[[0.0,\"#0d0887\"],[0.1111111111111111,\"#46039f\"],[0.2222222222222222,\"#7201a8\"],[0.3333333333333333,\"#9c179e\"],[0.4444444444444444,\"#bd3786\"],[0.5555555555555556,\"#d8576b\"],[0.6666666666666666,\"#ed7953\"],[0.7777777777777778,\"#fb9f3a\"],[0.8888888888888888,\"#fdca26\"],[1.0,\"#f0f921\"]],\"type\":\"heatmap\"}],\"histogram2dcontour\":[{\"colorbar\":{\"outlinewidth\":0,\"ticks\":\"\"},\"colorscale\":[[0.0,\"#0d0887\"],[0.1111111111111111,\"#46039f\"],[0.2222222222222222,\"#7201a8\"],[0.3333333333333333,\"#9c179e\"],[0.4444444444444444,\"#bd3786\"],[0.5555555555555556,\"#d8576b\"],[0.6666666666666666,\"#ed7953\"],[0.7777777777777778,\"#fb9f3a\"],[0.8888888888888888,\"#fdca26\"],[1.0,\"#f0f921\"]],\"type\":\"histogram2dcontour\"}],\"histogram2d\":[{\"colorbar\":{\"outlinewidth\":0,\"ticks\":\"\"},\"colorscale\":[[0.0,\"#0d0887\"],[0.1111111111111111,\"#46039f\"],[0.2222222222222222,\"#7201a8\"],[0.3333333333333333,\"#9c179e\"],[0.4444444444444444,\"#bd3786\"],[0.5555555555555556,\"#d8576b\"],[0.6666666666666666,\"#ed7953\"],[0.7777777777777778,\"#fb9f3a\"],[0.8888888888888888,\"#fdca26\"],[1.0,\"#f0f921\"]],\"type\":\"histogram2d\"}],\"histogram\":[{\"marker\":{\"pattern\":{\"fillmode\":\"overlay\",\"size\":10,\"solidity\":0.2}},\"type\":\"histogram\"}],\"mesh3d\":[{\"colorbar\":{\"outlinewidth\":0,\"ticks\":\"\"},\"type\":\"mesh3d\"}],\"parcoords\":[{\"line\":{\"colorbar\":{\"outlinewidth\":0,\"ticks\":\"\"}},\"type\":\"parcoords\"}],\"pie\":[{\"automargin\":true,\"type\":\"pie\"}],\"scatter3d\":[{\"line\":{\"colorbar\":{\"outlinewidth\":0,\"ticks\":\"\"}},\"marker\":{\"colorbar\":{\"outlinewidth\":0,\"ticks\":\"\"}},\"type\":\"scatter3d\"}],\"scattercarpet\":[{\"marker\":{\"colorbar\":{\"outlinewidth\":0,\"ticks\":\"\"}},\"type\":\"scattercarpet\"}],\"scattergeo\":[{\"marker\":{\"colorbar\":{\"outlinewidth\":0,\"ticks\":\"\"}},\"type\":\"scattergeo\"}],\"scattergl\":[{\"marker\":{\"line\":{\"color\":\"#283442\"}},\"type\":\"scattergl\"}],\"scattermapbox\":[{\"marker\":{\"colorbar\":{\"outlinewidth\":0,\"ticks\":\"\"}},\"type\":\"scattermapbox\"}],\"scatterpolargl\":[{\"marker\":{\"colorbar\":{\"outlinewidth\":0,\"ticks\":\"\"}},\"type\":\"scatterpolargl\"}],\"scatterpolar\":[{\"marker\":{\"colorbar\":{\"outlinewidth\":0,\"ticks\":\"\"}},\"type\":\"scatterpolar\"}],\"scatter\":[{\"marker\":{\"line\":{\"color\":\"#283442\"}},\"type\":\"scatter\"}],\"scatterternary\":[{\"marker\":{\"colorbar\":{\"outlinewidth\":0,\"ticks\":\"\"}},\"type\":\"scatterternary\"}],\"surface\":[{\"colorbar\":{\"outlinewidth\":0,\"ticks\":\"\"},\"colorscale\":[[0.0,\"#0d0887\"],[0.1111111111111111,\"#46039f\"],[0.2222222222222222,\"#7201a8\"],[0.3333333333333333,\"#9c179e\"],[0.4444444444444444,\"#bd3786\"],[0.5555555555555556,\"#d8576b\"],[0.6666666666666666,\"#ed7953\"],[0.7777777777777778,\"#fb9f3a\"],[0.8888888888888888,\"#fdca26\"],[1.0,\"#f0f921\"]],\"type\":\"surface\"}],\"table\":[{\"cells\":{\"fill\":{\"color\":\"#506784\"},\"line\":{\"color\":\"rgb(17,17,17)\"}},\"header\":{\"fill\":{\"color\":\"#2a3f5f\"},\"line\":{\"color\":\"rgb(17,17,17)\"}},\"type\":\"table\"}]},\"layout\":{\"annotationdefaults\":{\"arrowcolor\":\"#f2f5fa\",\"arrowhead\":0,\"arrowwidth\":1},\"autotypenumbers\":\"strict\",\"coloraxis\":{\"colorbar\":{\"outlinewidth\":0,\"ticks\":\"\"}},\"colorscale\":{\"diverging\":[[0,\"#8e0152\"],[0.1,\"#c51b7d\"],[0.2,\"#de77ae\"],[0.3,\"#f1b6da\"],[0.4,\"#fde0ef\"],[0.5,\"#f7f7f7\"],[0.6,\"#e6f5d0\"],[0.7,\"#b8e186\"],[0.8,\"#7fbc41\"],[0.9,\"#4d9221\"],[1,\"#276419\"]],\"sequential\":[[0.0,\"#0d0887\"],[0.1111111111111111,\"#46039f\"],[0.2222222222222222,\"#7201a8\"],[0.3333333333333333,\"#9c179e\"],[0.4444444444444444,\"#bd3786\"],[0.5555555555555556,\"#d8576b\"],[0.6666666666666666,\"#ed7953\"],[0.7777777777777778,\"#fb9f3a\"],[0.8888888888888888,\"#fdca26\"],[1.0,\"#f0f921\"]],\"sequentialminus\":[[0.0,\"#0d0887\"],[0.1111111111111111,\"#46039f\"],[0.2222222222222222,\"#7201a8\"],[0.3333333333333333,\"#9c179e\"],[0.4444444444444444,\"#bd3786\"],[0.5555555555555556,\"#d8576b\"],[0.6666666666666666,\"#ed7953\"],[0.7777777777777778,\"#fb9f3a\"],[0.8888888888888888,\"#fdca26\"],[1.0,\"#f0f921\"]]},\"colorway\":[\"#636efa\",\"#EF553B\",\"#00cc96\",\"#ab63fa\",\"#FFA15A\",\"#19d3f3\",\"#FF6692\",\"#B6E880\",\"#FF97FF\",\"#FECB52\"],\"font\":{\"color\":\"#f2f5fa\"},\"geo\":{\"bgcolor\":\"rgb(17,17,17)\",\"lakecolor\":\"rgb(17,17,17)\",\"landcolor\":\"rgb(17,17,17)\",\"showlakes\":true,\"showland\":true,\"subunitcolor\":\"#506784\"},\"hoverlabel\":{\"align\":\"left\"},\"hovermode\":\"closest\",\"mapbox\":{\"style\":\"dark\"},\"paper_bgcolor\":\"rgb(17,17,17)\",\"plot_bgcolor\":\"rgb(17,17,17)\",\"polar\":{\"angularaxis\":{\"gridcolor\":\"#506784\",\"linecolor\":\"#506784\",\"ticks\":\"\"},\"bgcolor\":\"rgb(17,17,17)\",\"radialaxis\":{\"gridcolor\":\"#506784\",\"linecolor\":\"#506784\",\"ticks\":\"\"}},\"scene\":{\"xaxis\":{\"backgroundcolor\":\"rgb(17,17,17)\",\"gridcolor\":\"#506784\",\"gridwidth\":2,\"linecolor\":\"#506784\",\"showbackground\":true,\"ticks\":\"\",\"zerolinecolor\":\"#C8D4E3\"},\"yaxis\":{\"backgroundcolor\":\"rgb(17,17,17)\",\"gridcolor\":\"#506784\",\"gridwidth\":2,\"linecolor\":\"#506784\",\"showbackground\":true,\"ticks\":\"\",\"zerolinecolor\":\"#C8D4E3\"},\"zaxis\":{\"backgroundcolor\":\"rgb(17,17,17)\",\"gridcolor\":\"#506784\",\"gridwidth\":2,\"linecolor\":\"#506784\",\"showbackground\":true,\"ticks\":\"\",\"zerolinecolor\":\"#C8D4E3\"}},\"shapedefaults\":{\"line\":{\"color\":\"#f2f5fa\"}},\"sliderdefaults\":{\"bgcolor\":\"#C8D4E3\",\"bordercolor\":\"rgb(17,17,17)\",\"borderwidth\":1,\"tickwidth\":0},\"ternary\":{\"aaxis\":{\"gridcolor\":\"#506784\",\"linecolor\":\"#506784\",\"ticks\":\"\"},\"baxis\":{\"gridcolor\":\"#506784\",\"linecolor\":\"#506784\",\"ticks\":\"\"},\"bgcolor\":\"rgb(17,17,17)\",\"caxis\":{\"gridcolor\":\"#506784\",\"linecolor\":\"#506784\",\"ticks\":\"\"}},\"title\":{\"x\":0.05},\"updatemenudefaults\":{\"bgcolor\":\"#506784\",\"borderwidth\":0},\"xaxis\":{\"automargin\":true,\"gridcolor\":\"#283442\",\"linecolor\":\"#506784\",\"ticks\":\"\",\"title\":{\"standoff\":15},\"zerolinecolor\":\"#283442\",\"zerolinewidth\":2},\"yaxis\":{\"automargin\":true,\"gridcolor\":\"#283442\",\"linecolor\":\"#506784\",\"ticks\":\"\",\"title\":{\"standoff\":15},\"zerolinecolor\":\"#283442\",\"zerolinewidth\":2}}},\"xaxis\":{\"anchor\":\"y\",\"domain\":[0.0,1.0],\"title\":{\"text\":\"value\"}},\"yaxis\":{\"anchor\":\"x\",\"domain\":[0.0,1.0],\"title\":{\"text\":\"count\"}},\"legend\":{\"title\":{\"text\":\"variable\"},\"tracegroupgap\":0},\"margin\":{\"t\":60},\"barmode\":\"relative\"},                        {\"responsive\": true}                    ).then(function(){\n",
              "                            \n",
              "var gd = document.getElementById('61711d25-78bd-43fd-8ac1-b847df543118');\n",
              "var x = new MutationObserver(function (mutations, observer) {{\n",
              "        var display = window.getComputedStyle(gd).display;\n",
              "        if (!display || display === 'none') {{\n",
              "            console.log([gd, 'removed!']);\n",
              "            Plotly.purge(gd);\n",
              "            observer.disconnect();\n",
              "        }}\n",
              "}});\n",
              "\n",
              "// Listen for the removal of the full notebook cells\n",
              "var notebookContainer = gd.closest('#notebook-container');\n",
              "if (notebookContainer) {{\n",
              "    x.observe(notebookContainer, {childList: true});\n",
              "}}\n",
              "\n",
              "// Listen for the clearing of the current output cell\n",
              "var outputEl = gd.closest('.output');\n",
              "if (outputEl) {{\n",
              "    x.observe(outputEl, {childList: true});\n",
              "}}\n",
              "\n",
              "                        })                };                            </script>        </div>\n",
              "</body>\n",
              "</html>"
            ]
          },
          "metadata": {}
        }
      ],
      "source": [
        "# What is the average length of the title\n",
        "data['title'] = data['title'].astype(str);\n",
        "data['len']=data['title'].apply(lambda x : len(x.split(' ')))\n",
        "px.histogram(data['len'],template='plotly_dark')"
      ]
    },
    {
      "cell_type": "markdown",
      "metadata": {
        "papermill": {
          "duration": 0.029544,
          "end_time": "2021-02-09T04:43:56.492035",
          "exception": false,
          "start_time": "2021-02-09T04:43:56.462491",
          "status": "completed"
        },
        "tags": [],
        "id": "ckDi0ASwL14w"
      },
      "source": [
        "Most of the posts are of length that lies between 0-20 . Why is it like that , well title's are kept short to just give you of a gist of what lies in the body so it doesn't need to be too long :)"
      ]
    },
    {
      "cell_type": "code",
      "execution_count": null,
      "metadata": {
        "_kg_hide-input": true,
        "_kg_hide-output": true,
        "collapsed": true,
        "execution": {
          "iopub.execute_input": "2021-02-09T04:43:56.555826Z",
          "iopub.status.busy": "2021-02-09T04:43:56.555152Z",
          "iopub.status.idle": "2021-02-09T04:43:56.557671Z",
          "shell.execute_reply": "2021-02-09T04:43:56.557058Z"
        },
        "papermill": {
          "duration": 0.036025,
          "end_time": "2021-02-09T04:43:56.557805",
          "exception": false,
          "start_time": "2021-02-09T04:43:56.521780",
          "status": "completed"
        },
        "tags": [],
        "colab": {
          "base_uri": "https://localhost:8080/",
          "height": 363
        },
        "id": "jUV5fD5sL14w",
        "outputId": "a3f0a489-f946-4f11-f885-864a2d84ab89"
      },
      "outputs": [
        {
          "output_type": "error",
          "ename": "AttributeError",
          "evalue": "ignored",
          "traceback": [
            "\u001b[0;31m---------------------------------------------------------------------------\u001b[0m",
            "\u001b[0;31mAttributeError\u001b[0m                            Traceback (most recent call last)",
            "\u001b[0;32m<ipython-input-18-0ee2481e60f2>\u001b[0m in \u001b[0;36m<module>\u001b[0;34m\u001b[0m\n\u001b[1;32m      5\u001b[0m      \u001b[0mprint\u001b[0m\u001b[0;34m(\u001b[0m\u001b[0mcount\u001b[0m\u001b[0;34m*\u001b[0m\u001b[0;36m100\u001b[0m\u001b[0;34m/\u001b[0m\u001b[0mlen\u001b[0m\u001b[0;34m(\u001b[0m\u001b[0mdata\u001b[0m\u001b[0;34m)\u001b[0m\u001b[0;34m)\u001b[0m\u001b[0;34m\u001b[0m\u001b[0;34m\u001b[0m\u001b[0m\n\u001b[1;32m      6\u001b[0m      \u001b[0mclear_output\u001b[0m\u001b[0;34m(\u001b[0m\u001b[0mwait\u001b[0m\u001b[0;34m=\u001b[0m\u001b[0;32mTrue\u001b[0m\u001b[0;34m)\u001b[0m\u001b[0;34m\u001b[0m\u001b[0;34m\u001b[0m\u001b[0m\n\u001b[0;32m----> 7\u001b[0;31m      \u001b[0mt\u001b[0m\u001b[0;34m.\u001b[0m\u001b[0mappend\u001b[0m\u001b[0;34m(\u001b[0m\u001b[0mte\u001b[0m\u001b[0;34m.\u001b[0m\u001b[0mget_emotion\u001b[0m\u001b[0;34m(\u001b[0m\u001b[0mi\u001b[0m\u001b[0;34m)\u001b[0m\u001b[0;34m)\u001b[0m\u001b[0;34m\u001b[0m\u001b[0;34m\u001b[0m\u001b[0m\n\u001b[0m\u001b[1;32m      8\u001b[0m \u001b[0mt\u001b[0m\u001b[0;34m=\u001b[0m\u001b[0mnp\u001b[0m\u001b[0;34m.\u001b[0m\u001b[0marray\u001b[0m\u001b[0;34m(\u001b[0m\u001b[0mt\u001b[0m\u001b[0;34m)\u001b[0m\u001b[0;34m\u001b[0m\u001b[0;34m\u001b[0m\u001b[0m\n",
            "\u001b[0;32m/usr/local/lib/python3.7/dist-packages/text2emotion/__init__.py\u001b[0m in \u001b[0;36mget_emotion\u001b[0;34m(input)\u001b[0m\n\u001b[1;32m   2714\u001b[0m         \u001b[0;32mreturn\u001b[0m \u001b[0mclean_text\u001b[0m\u001b[0;34m\u001b[0m\u001b[0;34m\u001b[0m\u001b[0m\n\u001b[1;32m   2715\u001b[0m \u001b[0;34m\u001b[0m\u001b[0m\n\u001b[0;32m-> 2716\u001b[0;31m     \u001b[0mtext\u001b[0m \u001b[0;34m=\u001b[0m \u001b[0mcleaning\u001b[0m\u001b[0;34m(\u001b[0m\u001b[0minput\u001b[0m\u001b[0;34m)\u001b[0m\u001b[0;34m.\u001b[0m\u001b[0msplit\u001b[0m\u001b[0;34m(\u001b[0m\u001b[0;34m)\u001b[0m\u001b[0;34m\u001b[0m\u001b[0;34m\u001b[0m\u001b[0m\n\u001b[0m\u001b[1;32m   2717\u001b[0m     \u001b[0memotion_values\u001b[0m \u001b[0;34m=\u001b[0m \u001b[0;34m[\u001b[0m\u001b[0;34m]\u001b[0m\u001b[0;34m\u001b[0m\u001b[0;34m\u001b[0m\u001b[0m\n\u001b[1;32m   2718\u001b[0m     \u001b[0memotions\u001b[0m \u001b[0;34m=\u001b[0m \u001b[0;34m{\u001b[0m\u001b[0;34m\"Happy\"\u001b[0m\u001b[0;34m:\u001b[0m \u001b[0;36m0\u001b[0m\u001b[0;34m,\u001b[0m \u001b[0;34m\"Angry\"\u001b[0m\u001b[0;34m:\u001b[0m \u001b[0;36m0\u001b[0m\u001b[0;34m,\u001b[0m \u001b[0;34m\"Surprise\"\u001b[0m\u001b[0;34m:\u001b[0m \u001b[0;36m0\u001b[0m\u001b[0;34m,\u001b[0m \u001b[0;34m\"Sad\"\u001b[0m\u001b[0;34m:\u001b[0m \u001b[0;36m0\u001b[0m\u001b[0;34m,\u001b[0m \u001b[0;34m\"Fear\"\u001b[0m\u001b[0;34m:\u001b[0m \u001b[0;36m0\u001b[0m\u001b[0;34m}\u001b[0m\u001b[0;34m\u001b[0m\u001b[0;34m\u001b[0m\u001b[0m\n",
            "\u001b[0;32m/usr/local/lib/python3.7/dist-packages/text2emotion/__init__.py\u001b[0m in \u001b[0;36mcleaning\u001b[0;34m(text)\u001b[0m\n\u001b[1;32m   2698\u001b[0m     \u001b[0;32mdef\u001b[0m \u001b[0mcleaning\u001b[0m\u001b[0;34m(\u001b[0m\u001b[0mtext\u001b[0m\u001b[0;34m)\u001b[0m\u001b[0;34m:\u001b[0m\u001b[0;34m\u001b[0m\u001b[0;34m\u001b[0m\u001b[0m\n\u001b[1;32m   2699\u001b[0m         \u001b[0mtext\u001b[0m \u001b[0;34m=\u001b[0m \u001b[0mtext\u001b[0m\u001b[0;34m.\u001b[0m\u001b[0mlower\u001b[0m\u001b[0;34m(\u001b[0m\u001b[0;34m)\u001b[0m\u001b[0;34m\u001b[0m\u001b[0;34m\u001b[0m\u001b[0m\n\u001b[0;32m-> 2700\u001b[0;31m         \u001b[0mtext\u001b[0m \u001b[0;34m=\u001b[0m \u001b[0memojis_extractor\u001b[0m\u001b[0;34m(\u001b[0m\u001b[0mtext\u001b[0m\u001b[0;34m)\u001b[0m\u001b[0;34m\u001b[0m\u001b[0;34m\u001b[0m\u001b[0m\n\u001b[0m\u001b[1;32m   2701\u001b[0m         \u001b[0mtext\u001b[0m \u001b[0;34m=\u001b[0m \u001b[0mre\u001b[0m\u001b[0;34m.\u001b[0m\u001b[0msub\u001b[0m\u001b[0;34m(\u001b[0m\u001b[0;34mr'http\\S+|www.\\S+'\u001b[0m\u001b[0;34m,\u001b[0m \u001b[0;34m''\u001b[0m\u001b[0;34m,\u001b[0m \u001b[0mtext\u001b[0m\u001b[0;34m)\u001b[0m\u001b[0;34m\u001b[0m\u001b[0;34m\u001b[0m\u001b[0m\n\u001b[1;32m   2702\u001b[0m         \u001b[0mtext\u001b[0m \u001b[0;34m=\u001b[0m \u001b[0mremoving_contradictions\u001b[0m\u001b[0;34m(\u001b[0m\u001b[0mtext\u001b[0m\u001b[0;34m)\u001b[0m\u001b[0;34m\u001b[0m\u001b[0;34m\u001b[0m\u001b[0m\n",
            "\u001b[0;32m/usr/local/lib/python3.7/dist-packages/text2emotion/__init__.py\u001b[0m in \u001b[0;36memojis_extractor\u001b[0;34m(text)\u001b[0m\n\u001b[1;32m   2567\u001b[0m                             \u001b[0;34m'Fear'\u001b[0m\u001b[0;34m,\u001b[0m\u001b[0;34m\u001b[0m\u001b[0;34m\u001b[0m\u001b[0m\n\u001b[1;32m   2568\u001b[0m                             'Fear']}\n\u001b[0;32m-> 2569\u001b[0;31m         \u001b[0ma\u001b[0m \u001b[0;34m=\u001b[0m \u001b[0;34m\" \"\u001b[0m\u001b[0;34m.\u001b[0m\u001b[0mjoin\u001b[0m\u001b[0;34m(\u001b[0m\u001b[0mc\u001b[0m \u001b[0;32mfor\u001b[0m \u001b[0mc\u001b[0m \u001b[0;32min\u001b[0m \u001b[0mtext\u001b[0m \u001b[0;32mif\u001b[0m \u001b[0mc\u001b[0m \u001b[0;32min\u001b[0m \u001b[0memoji\u001b[0m\u001b[0;34m.\u001b[0m\u001b[0mUNICODE_EMOJI\u001b[0m\u001b[0;34m)\u001b[0m\u001b[0;34m.\u001b[0m\u001b[0msplit\u001b[0m\u001b[0;34m(\u001b[0m\u001b[0;34m)\u001b[0m\u001b[0;34m\u001b[0m\u001b[0;34m\u001b[0m\u001b[0m\n\u001b[0m\u001b[1;32m   2570\u001b[0m         \u001b[0;32mfor\u001b[0m \u001b[0mi\u001b[0m \u001b[0;32min\u001b[0m \u001b[0ma\u001b[0m\u001b[0;34m:\u001b[0m\u001b[0;34m\u001b[0m\u001b[0;34m\u001b[0m\u001b[0m\n\u001b[1;32m   2571\u001b[0m             \u001b[0;32mtry\u001b[0m\u001b[0;34m:\u001b[0m\u001b[0;34m\u001b[0m\u001b[0;34m\u001b[0m\u001b[0m\n",
            "\u001b[0;32m/usr/local/lib/python3.7/dist-packages/text2emotion/__init__.py\u001b[0m in \u001b[0;36m<genexpr>\u001b[0;34m(.0)\u001b[0m\n\u001b[1;32m   2567\u001b[0m                             \u001b[0;34m'Fear'\u001b[0m\u001b[0;34m,\u001b[0m\u001b[0;34m\u001b[0m\u001b[0;34m\u001b[0m\u001b[0m\n\u001b[1;32m   2568\u001b[0m                             'Fear']}\n\u001b[0;32m-> 2569\u001b[0;31m         \u001b[0ma\u001b[0m \u001b[0;34m=\u001b[0m \u001b[0;34m\" \"\u001b[0m\u001b[0;34m.\u001b[0m\u001b[0mjoin\u001b[0m\u001b[0;34m(\u001b[0m\u001b[0mc\u001b[0m \u001b[0;32mfor\u001b[0m \u001b[0mc\u001b[0m \u001b[0;32min\u001b[0m \u001b[0mtext\u001b[0m \u001b[0;32mif\u001b[0m \u001b[0mc\u001b[0m \u001b[0;32min\u001b[0m \u001b[0memoji\u001b[0m\u001b[0;34m.\u001b[0m\u001b[0mUNICODE_EMOJI\u001b[0m\u001b[0;34m)\u001b[0m\u001b[0;34m.\u001b[0m\u001b[0msplit\u001b[0m\u001b[0;34m(\u001b[0m\u001b[0;34m)\u001b[0m\u001b[0;34m\u001b[0m\u001b[0;34m\u001b[0m\u001b[0m\n\u001b[0m\u001b[1;32m   2570\u001b[0m         \u001b[0;32mfor\u001b[0m \u001b[0mi\u001b[0m \u001b[0;32min\u001b[0m \u001b[0ma\u001b[0m\u001b[0;34m:\u001b[0m\u001b[0;34m\u001b[0m\u001b[0;34m\u001b[0m\u001b[0m\n\u001b[1;32m   2571\u001b[0m             \u001b[0;32mtry\u001b[0m\u001b[0;34m:\u001b[0m\u001b[0;34m\u001b[0m\u001b[0;34m\u001b[0m\u001b[0m\n",
            "\u001b[0;31mAttributeError\u001b[0m: module 'emoji' has no attribute 'UNICODE_EMOJI'"
          ]
        }
      ],
      "source": [
        "\n",
        "t=[]\n",
        "count=0\n",
        "for i in data['title'].values:\n",
        "     count+=1\n",
        "     print(count*100/len(data))\n",
        "     clear_output(wait=True)\n",
        "     t.append(te.get_emotion(i))\n",
        "t=np.array(t)"
      ]
    },
    {
      "cell_type": "code",
      "execution_count": null,
      "metadata": {
        "_kg_hide-input": true,
        "_kg_hide-output": true,
        "execution": {
          "iopub.execute_input": "2021-02-09T04:43:56.627872Z",
          "iopub.status.busy": "2021-02-09T04:43:56.627081Z",
          "iopub.status.idle": "2021-02-09T04:43:57.086004Z",
          "shell.execute_reply": "2021-02-09T04:43:57.085327Z"
        },
        "papermill": {
          "duration": 0.498876,
          "end_time": "2021-02-09T04:43:57.086156",
          "exception": false,
          "start_time": "2021-02-09T04:43:56.587280",
          "status": "completed"
        },
        "tags": [],
        "colab": {
          "base_uri": "https://localhost:8080/",
          "height": 356
        },
        "id": "F7lN68u1L14x",
        "outputId": "8e1c5f6b-da27-4827-fcb6-c817abbe7bbd"
      },
      "outputs": [
        {
          "output_type": "error",
          "ename": "FileNotFoundError",
          "evalue": "ignored",
          "traceback": [
            "\u001b[0;31m---------------------------------------------------------------------------\u001b[0m",
            "\u001b[0;31mFileNotFoundError\u001b[0m                         Traceback (most recent call last)",
            "\u001b[0;32m<ipython-input-16-1bff2b0320e1>\u001b[0m in \u001b[0;36m<module>\u001b[0;34m\u001b[0m\n\u001b[0;32m----> 1\u001b[0;31m \u001b[0mt\u001b[0m\u001b[0;34m=\u001b[0m\u001b[0mnp\u001b[0m\u001b[0;34m.\u001b[0m\u001b[0mload\u001b[0m\u001b[0;34m(\u001b[0m\u001b[0;34m'../input/t-sentiments/another one.npy'\u001b[0m\u001b[0;34m,\u001b[0m \u001b[0mallow_pickle\u001b[0m\u001b[0;34m=\u001b[0m\u001b[0;32mTrue\u001b[0m\u001b[0;34m)\u001b[0m\u001b[0;34m\u001b[0m\u001b[0;34m\u001b[0m\u001b[0m\n\u001b[0m\u001b[1;32m      2\u001b[0m \u001b[0mdata\u001b[0m\u001b[0;34m[\u001b[0m\u001b[0;34m'overall text'\u001b[0m\u001b[0;34m]\u001b[0m\u001b[0;34m=\u001b[0m\u001b[0mdata\u001b[0m\u001b[0;34m.\u001b[0m\u001b[0mtitle\u001b[0m\u001b[0;34m+\u001b[0m\u001b[0;34m\" \"\u001b[0m\u001b[0;34m+\u001b[0m\u001b[0mdata\u001b[0m\u001b[0;34m.\u001b[0m\u001b[0mbody\u001b[0m\u001b[0;34m.\u001b[0m\u001b[0mastype\u001b[0m\u001b[0;34m(\u001b[0m\u001b[0;34m\"str\"\u001b[0m\u001b[0;34m)\u001b[0m\u001b[0;34m\u001b[0m\u001b[0;34m\u001b[0m\u001b[0m\n\u001b[1;32m      3\u001b[0m \u001b[0mdata\u001b[0m\u001b[0;34m[\u001b[0m\u001b[0;34m'Happy'\u001b[0m\u001b[0;34m]\u001b[0m\u001b[0;34m=\u001b[0m\u001b[0;34m[\u001b[0m\u001b[0mdict\u001b[0m\u001b[0;34m(\u001b[0m\u001b[0mi\u001b[0m\u001b[0;34m)\u001b[0m\u001b[0;34m[\u001b[0m\u001b[0;34m'Happy'\u001b[0m\u001b[0;34m]\u001b[0m \u001b[0;32mfor\u001b[0m \u001b[0mi\u001b[0m \u001b[0;32min\u001b[0m \u001b[0mt\u001b[0m\u001b[0;34m]\u001b[0m\u001b[0;34m\u001b[0m\u001b[0;34m\u001b[0m\u001b[0m\n\u001b[1;32m      4\u001b[0m \u001b[0mdata\u001b[0m\u001b[0;34m[\u001b[0m\u001b[0;34m'Angry'\u001b[0m\u001b[0;34m]\u001b[0m\u001b[0;34m=\u001b[0m\u001b[0;34m[\u001b[0m\u001b[0mdict\u001b[0m\u001b[0;34m(\u001b[0m\u001b[0mi\u001b[0m\u001b[0;34m)\u001b[0m\u001b[0;34m[\u001b[0m\u001b[0;34m'Angry'\u001b[0m\u001b[0;34m]\u001b[0m \u001b[0;32mfor\u001b[0m \u001b[0mi\u001b[0m \u001b[0;32min\u001b[0m \u001b[0mt\u001b[0m\u001b[0;34m]\u001b[0m\u001b[0;34m\u001b[0m\u001b[0;34m\u001b[0m\u001b[0m\n\u001b[1;32m      5\u001b[0m \u001b[0mdata\u001b[0m\u001b[0;34m[\u001b[0m\u001b[0;34m'Surprise'\u001b[0m\u001b[0;34m]\u001b[0m\u001b[0;34m=\u001b[0m\u001b[0;34m[\u001b[0m\u001b[0mdict\u001b[0m\u001b[0;34m(\u001b[0m\u001b[0mi\u001b[0m\u001b[0;34m)\u001b[0m\u001b[0;34m[\u001b[0m\u001b[0;34m'Surprise'\u001b[0m\u001b[0;34m]\u001b[0m \u001b[0;32mfor\u001b[0m \u001b[0mi\u001b[0m \u001b[0;32min\u001b[0m \u001b[0mt\u001b[0m\u001b[0;34m]\u001b[0m\u001b[0;34m\u001b[0m\u001b[0;34m\u001b[0m\u001b[0m\n",
            "\u001b[0;32m/usr/local/lib/python3.7/dist-packages/numpy/lib/npyio.py\u001b[0m in \u001b[0;36mload\u001b[0;34m(file, mmap_mode, allow_pickle, fix_imports, encoding)\u001b[0m\n\u001b[1;32m    415\u001b[0m             \u001b[0mown_fid\u001b[0m \u001b[0;34m=\u001b[0m \u001b[0;32mFalse\u001b[0m\u001b[0;34m\u001b[0m\u001b[0;34m\u001b[0m\u001b[0m\n\u001b[1;32m    416\u001b[0m         \u001b[0;32melse\u001b[0m\u001b[0;34m:\u001b[0m\u001b[0;34m\u001b[0m\u001b[0;34m\u001b[0m\u001b[0m\n\u001b[0;32m--> 417\u001b[0;31m             \u001b[0mfid\u001b[0m \u001b[0;34m=\u001b[0m \u001b[0mstack\u001b[0m\u001b[0;34m.\u001b[0m\u001b[0menter_context\u001b[0m\u001b[0;34m(\u001b[0m\u001b[0mopen\u001b[0m\u001b[0;34m(\u001b[0m\u001b[0mos_fspath\u001b[0m\u001b[0;34m(\u001b[0m\u001b[0mfile\u001b[0m\u001b[0;34m)\u001b[0m\u001b[0;34m,\u001b[0m \u001b[0;34m\"rb\"\u001b[0m\u001b[0;34m)\u001b[0m\u001b[0;34m)\u001b[0m\u001b[0;34m\u001b[0m\u001b[0;34m\u001b[0m\u001b[0m\n\u001b[0m\u001b[1;32m    418\u001b[0m             \u001b[0mown_fid\u001b[0m \u001b[0;34m=\u001b[0m \u001b[0;32mTrue\u001b[0m\u001b[0;34m\u001b[0m\u001b[0;34m\u001b[0m\u001b[0m\n\u001b[1;32m    419\u001b[0m \u001b[0;34m\u001b[0m\u001b[0m\n",
            "\u001b[0;31mFileNotFoundError\u001b[0m: [Errno 2] No such file or directory: '../input/t-sentiments/another one.npy'"
          ]
        }
      ],
      "source": [
        "\n",
        "data['overall text']=data.title+\" \"+data.body.astype(\"str\")\n",
        "data['Happy']=[dict(i)['Happy'] for i in t]\n",
        "data['Angry']=[dict(i)['Angry'] for i in t]\n",
        "data['Surprise']=[dict(i)['Surprise'] for i in t]\n",
        "data['Sad']=[dict(i)['Sad'] for i in t]\n",
        "data['Fear']=[dict(i)['Fear'] for i in t]\n",
        "dominant=[]\n",
        "for i in t:\n",
        "    p=dict(i)\n",
        "    Keymax = max(p, key=p.get)\n",
        "    dominant.append(Keymax)\n",
        "data['dominant emotion']=dominant\n",
        "day_name= ['Monday', 'Tuesday', 'Wednesday', 'Thursday', 'Friday', 'Saturday','Sunday']\n",
        "data['timestamp']=pd.to_datetime(data['timestamp'])\n",
        "data['date']=data['timestamp'].dt.day\n",
        "data['weekday']=data['timestamp'].dt.weekday\n",
        "data['weekday']=data['weekday'].apply(lambda x: day_name[x])\n",
        "data['hour']=data['timestamp'].dt.hour"
      ]
    },
    {
      "cell_type": "markdown",
      "metadata": {
        "papermill": {
          "duration": 0.029333,
          "end_time": "2021-02-09T04:43:57.145179",
          "exception": false,
          "start_time": "2021-02-09T04:43:57.115846",
          "status": "completed"
        },
        "tags": [],
        "id": "FCOqcD3pL14x"
      },
      "source": [
        "# Post Distribution In Reddit About Volatile Week In Wall Street "
      ]
    },
    {
      "cell_type": "markdown",
      "metadata": {
        "papermill": {
          "duration": 0.030168,
          "end_time": "2021-02-09T04:43:57.205247",
          "exception": false,
          "start_time": "2021-02-09T04:43:57.175079",
          "status": "completed"
        },
        "tags": [],
        "id": "eGV1am7cL14x"
      },
      "source": [
        "![](https://media1.tenor.com/images/dc7ef329c04f90b251a605e15a714399/tenor.gif?itemid=4224001)"
      ]
    },
    {
      "cell_type": "code",
      "execution_count": null,
      "metadata": {
        "execution": {
          "iopub.execute_input": "2021-02-09T04:43:57.273411Z",
          "iopub.status.busy": "2021-02-09T04:43:57.272668Z",
          "iopub.status.idle": "2021-02-09T04:43:57.647174Z",
          "shell.execute_reply": "2021-02-09T04:43:57.647725Z"
        },
        "papermill": {
          "duration": 0.412117,
          "end_time": "2021-02-09T04:43:57.647907",
          "exception": false,
          "start_time": "2021-02-09T04:43:57.235790",
          "status": "completed"
        },
        "tags": [],
        "id": "soRLliXOL14x"
      },
      "outputs": [],
      "source": [
        "px.histogram(data,x='weekday',color='weekday',template='plotly_dark')"
      ]
    },
    {
      "cell_type": "markdown",
      "metadata": {
        "papermill": {
          "duration": 0.040193,
          "end_time": "2021-02-09T04:43:57.727482",
          "exception": false,
          "start_time": "2021-02-09T04:43:57.687289",
          "status": "completed"
        },
        "tags": [],
        "id": "FZWag3O6L14x"
      },
      "source": [
        "## What happened on Friday ( 29-01-2021 ) ??\n",
        "![](https://assets2.rappler.com/FC6E0FD23DBE4D369079E8659C5CDD1F/img/9BDDE9F098B04525A74C4C262C4FD9AB/1601083100-afp-20200703-stock-market-546.jpg)\n",
        "\n",
        "On the final day of a volatile week of short-squeezing frenzy, the Dow Jones Industrial Average was set to drop about 150 points at Friday’s open, with Dow stock Johnson & Johnson falling after the U.S. drug giant released data about its one-dose coronavirus vaccine. The shot was 72% effective in the U.S., but less so in other regions. Wall Street’s volatility came amid the Reddit-fueled trading around GameStop and other highly shorted stocks.\n",
        "\n",
        "The Dow on Thursday recovered nearly half of Wednesday’s 633-point decline, the worst one-session drop since late October. Ahead of Friday’s trading, the Dow was nearly 2% away from its closing record high earlier this month. Three Dow stocks — Caterpillar, Honeywell and Chevron — reported quarterly earnings before-the-bell, along with drugmaker Eli Lilly.\n",
        "\n",
        "Source : https://www.cnbc.com/2021/01/29/5-things-to-know-before-the-stock-market-opens-january-29-2021.html"
      ]
    },
    {
      "cell_type": "markdown",
      "metadata": {
        "papermill": {
          "duration": 0.040797,
          "end_time": "2021-02-09T04:43:57.809185",
          "exception": false,
          "start_time": "2021-02-09T04:43:57.768388",
          "status": "completed"
        },
        "tags": [],
        "id": "I43Cg4uQL14y"
      },
      "source": [
        "# People's Reaction Over Time From Friday To Wednesday"
      ]
    },
    {
      "cell_type": "markdown",
      "metadata": {
        "papermill": {
          "duration": 0.040217,
          "end_time": "2021-02-09T04:43:57.889939",
          "exception": false,
          "start_time": "2021-02-09T04:43:57.849722",
          "status": "completed"
        },
        "tags": [],
        "id": "-ZLZPh87L14y"
      },
      "source": [
        "![](https://i.pinimg.com/originals/bb/4e/1a/bb4e1a95d39b5d28f1541b0575524ec5.gif)"
      ]
    },
    {
      "cell_type": "code",
      "execution_count": null,
      "metadata": {
        "_kg_hide-input": true,
        "execution": {
          "iopub.execute_input": "2021-02-09T04:43:58.005290Z",
          "iopub.status.busy": "2021-02-09T04:43:57.984908Z",
          "iopub.status.idle": "2021-02-09T04:43:58.197963Z",
          "shell.execute_reply": "2021-02-09T04:43:58.198473Z"
        },
        "papermill": {
          "duration": 0.267908,
          "end_time": "2021-02-09T04:43:58.198659",
          "exception": false,
          "start_time": "2021-02-09T04:43:57.930751",
          "status": "completed"
        },
        "tags": [],
        "id": "jE-qhbSgL14y"
      },
      "outputs": [],
      "source": [
        "df=pd.DataFrame()\n",
        "df['Emotion']=data['dominant emotion']\n",
        "df['Day']=data['weekday']\n",
        "df['Count']=[1]*len(df)\n",
        "grouped_data=df.groupby(['Day','Emotion']).sum()\n",
        "ind=np.array(list(grouped_data.index))\n",
        "df2=pd.DataFrame()\n",
        "df2['Day']=ind[:,0]\n",
        "df2['Emotion']=ind[:,1]\n",
        "df2['Count']=grouped_data.values\n",
        "my_raceplot = barplot(df2,\n",
        "                      item_column='Emotion',\n",
        "                      value_column='Count',\n",
        "                      time_column='Day')\n",
        "\n",
        "my_raceplot.plot(title = 'Emotion in the sub reddit section',\n",
        "                 item_label = 'Emotions',\n",
        "                 value_label = 'Count (Total Count On That Day)',\n",
        "                 frame_duration = 800)"
      ]
    },
    {
      "cell_type": "markdown",
      "metadata": {
        "papermill": {
          "duration": 0.041848,
          "end_time": "2021-02-09T04:43:58.284044",
          "exception": false,
          "start_time": "2021-02-09T04:43:58.242196",
          "status": "completed"
        },
        "tags": [],
        "id": "JHMVarR-L14y"
      },
      "source": [
        "# What was the reaction of people on Friday 29-01-2021 as the time increased ??"
      ]
    },
    {
      "cell_type": "code",
      "execution_count": null,
      "metadata": {
        "_kg_hide-input": true,
        "execution": {
          "iopub.execute_input": "2021-02-09T04:43:58.390549Z",
          "iopub.status.busy": "2021-02-09T04:43:58.389800Z",
          "iopub.status.idle": "2021-02-09T04:43:58.631692Z",
          "shell.execute_reply": "2021-02-09T04:43:58.631002Z"
        },
        "papermill": {
          "duration": 0.305333,
          "end_time": "2021-02-09T04:43:58.631860",
          "exception": false,
          "start_time": "2021-02-09T04:43:58.326527",
          "status": "completed"
        },
        "tags": [],
        "id": "lYF9broPL14y"
      },
      "outputs": [],
      "source": [
        "df=pd.DataFrame()\n",
        "dn=data[data['weekday']=='Friday']\n",
        "df['Emotion']=dn['dominant emotion']\n",
        "df['Hour']=dn['hour']\n",
        "df['Count']=[1]*len(df)\n",
        "grouped_data=df.groupby(['Hour','Emotion']).sum()\n",
        "ind=np.array(list(grouped_data.index))\n",
        "df2=pd.DataFrame()\n",
        "df2['Hour']=ind[:,0]\n",
        "df2['Emotion']=ind[:,1]\n",
        "df2['Count']=grouped_data.values\n",
        "df2['Hour']=df2['Hour'].apply(lambda x : int(x))\n",
        "df2.sort_values('Hour',inplace=True)\n",
        "my_raceplot = barplot(df2,\n",
        "                      item_column='Emotion',\n",
        "                      value_column='Count',\n",
        "                      time_column='Hour')\n",
        "\n",
        "my_raceplot.plot(title = 'Emotion in the sub reddit section on Friday as the day continued',\n",
        "                 item_label = 'Emotions',\n",
        "                 value_label = 'Count (Total Count On That Day)',\n",
        "                 frame_duration = 800)"
      ]
    },
    {
      "cell_type": "markdown",
      "metadata": {
        "papermill": {
          "duration": 0.043617,
          "end_time": "2021-02-09T04:43:58.719264",
          "exception": false,
          "start_time": "2021-02-09T04:43:58.675647",
          "status": "completed"
        },
        "tags": [],
        "id": "WBZegRkNL14y"
      },
      "source": [
        "As we can clearly see that a sudden peak was seen during the 1st hour of the day but it decreased as the time passed by"
      ]
    },
    {
      "cell_type": "markdown",
      "metadata": {
        "papermill": {
          "duration": 0.044175,
          "end_time": "2021-02-09T04:43:58.807622",
          "exception": false,
          "start_time": "2021-02-09T04:43:58.763447",
          "status": "completed"
        },
        "tags": [],
        "id": "M-wBPt82L14z"
      },
      "source": [
        "# 10 Most Common Domains Shared In The URL Column"
      ]
    },
    {
      "cell_type": "markdown",
      "metadata": {
        "papermill": {
          "duration": 0.043862,
          "end_time": "2021-02-09T04:43:58.896135",
          "exception": false,
          "start_time": "2021-02-09T04:43:58.852273",
          "status": "completed"
        },
        "tags": [],
        "id": "ekNWo9UtL14z"
      },
      "source": [
        "![](https://media2.giphy.com/media/l3giLj8coa2HVnzgeF/200w.webp?cid=ecf05e47xnbsoifwwqtd4prnmffux4dn9sqchxcl2q96i0au&rid=200w.webp)"
      ]
    },
    {
      "cell_type": "code",
      "execution_count": null,
      "metadata": {
        "_kg_hide-input": true,
        "execution": {
          "iopub.execute_input": "2021-02-09T04:43:59.018636Z",
          "iopub.status.busy": "2021-02-09T04:43:59.013228Z",
          "iopub.status.idle": "2021-02-09T04:43:59.187658Z",
          "shell.execute_reply": "2021-02-09T04:43:59.186910Z"
        },
        "papermill": {
          "duration": 0.2471,
          "end_time": "2021-02-09T04:43:59.187832",
          "exception": false,
          "start_time": "2021-02-09T04:43:58.940732",
          "status": "completed"
        },
        "tags": [],
        "id": "zWM6zMDCL14z"
      },
      "outputs": [],
      "source": [
        "text=[]\n",
        "for i in data['url']:\n",
        "    t=i\n",
        "    if '/' in t:\n",
        "        t=t.split('/')[2]\n",
        "    if 'www.' in t:\n",
        "        t=t.split('www.')[1]\n",
        "    if '.com' in t:\n",
        "        t=t.split('.com')[0]\n",
        "    text.append(t)\n",
        "text=pd.DataFrame(columns=['text'],data=text)\n",
        "s=' '\n",
        "for i in text['text'].values:\n",
        "    s+=' '+i\n",
        "text=text['text'].value_counts()\n",
        "px.bar(x=text.index[:10],y=text.values[:10],color=text.index[:10],template='plotly_dark',labels={'x':'Domains','y':'Count'})"
      ]
    },
    {
      "cell_type": "markdown",
      "metadata": {
        "papermill": {
          "duration": 0.043817,
          "end_time": "2021-02-09T04:43:59.277227",
          "exception": false,
          "start_time": "2021-02-09T04:43:59.233410",
          "status": "completed"
        },
        "tags": [],
        "id": "Zwkt7j94L14z"
      },
      "source": [
        "# Relationship between Emotion and Number of comments"
      ]
    },
    {
      "cell_type": "code",
      "execution_count": null,
      "metadata": {
        "execution": {
          "iopub.execute_input": "2021-02-09T04:43:59.381628Z",
          "iopub.status.busy": "2021-02-09T04:43:59.380825Z",
          "iopub.status.idle": "2021-02-09T04:43:59.468629Z",
          "shell.execute_reply": "2021-02-09T04:43:59.468054Z"
        },
        "papermill": {
          "duration": 0.146977,
          "end_time": "2021-02-09T04:43:59.468778",
          "exception": false,
          "start_time": "2021-02-09T04:43:59.321801",
          "status": "completed"
        },
        "tags": [],
        "id": "IDtTjEc-L14z"
      },
      "outputs": [],
      "source": [
        "rel=data.groupby('dominant emotion').sum()\n",
        "px.bar(x=rel.index,y=rel['comms_num'].values,color=rel.index,template='plotly_dark',labels={'x':'Emotions','y':'Number of comments'})"
      ]
    },
    {
      "cell_type": "markdown",
      "metadata": {
        "papermill": {
          "duration": 0.044579,
          "end_time": "2021-02-09T04:43:59.558722",
          "exception": false,
          "start_time": "2021-02-09T04:43:59.514143",
          "status": "completed"
        },
        "tags": [],
        "id": "doC0MOF0L14z"
      },
      "source": [
        "## We can observe from this that most of the people comment on the posts which shares happiness of are looking as a good sign , followed by fear and surprise :)"
      ]
    },
    {
      "cell_type": "markdown",
      "metadata": {
        "papermill": {
          "duration": 0.045665,
          "end_time": "2021-02-09T04:43:59.649920",
          "exception": false,
          "start_time": "2021-02-09T04:43:59.604255",
          "status": "completed"
        },
        "tags": [],
        "id": "G3Ii4mDbL14z"
      },
      "source": [
        "# Relation between emotion and score "
      ]
    },
    {
      "cell_type": "code",
      "execution_count": null,
      "metadata": {
        "execution": {
          "iopub.execute_input": "2021-02-09T04:43:59.751736Z",
          "iopub.status.busy": "2021-02-09T04:43:59.747197Z",
          "iopub.status.idle": "2021-02-09T04:43:59.839540Z",
          "shell.execute_reply": "2021-02-09T04:43:59.838894Z"
        },
        "papermill": {
          "duration": 0.14416,
          "end_time": "2021-02-09T04:43:59.839687",
          "exception": false,
          "start_time": "2021-02-09T04:43:59.695527",
          "status": "completed"
        },
        "tags": [],
        "id": "RAvoW7ZcL140"
      },
      "outputs": [],
      "source": [
        "rel=data.groupby('dominant emotion').mean()\n",
        "px.bar(x=rel.index,y=rel['score'].values,color=rel.index,template='plotly_dark',labels={'x':'Emotions','y':'Mean of score'})"
      ]
    },
    {
      "cell_type": "markdown",
      "metadata": {
        "papermill": {
          "duration": 0.045577,
          "end_time": "2021-02-09T04:43:59.933231",
          "exception": false,
          "start_time": "2021-02-09T04:43:59.887654",
          "status": "completed"
        },
        "tags": [],
        "id": "LTxS-yYBL140"
      },
      "source": [
        "## Well the score is nearly same for every emotion but an angry comment is the only one which seems to cross 1000 as it's mean of score which shows that angry comments seems to get more score as compared to others"
      ]
    },
    {
      "cell_type": "markdown",
      "metadata": {
        "papermill": {
          "duration": 0.045999,
          "end_time": "2021-02-09T04:44:00.025534",
          "exception": false,
          "start_time": "2021-02-09T04:43:59.979535",
          "status": "completed"
        },
        "tags": [],
        "id": "kJZZOVuyL140"
      },
      "source": [
        "# Word Cloud For Different Emotions"
      ]
    },
    {
      "cell_type": "code",
      "execution_count": null,
      "metadata": {
        "_kg_hide-input": true,
        "execution": {
          "iopub.execute_input": "2021-02-09T04:44:00.141839Z",
          "iopub.status.busy": "2021-02-09T04:44:00.126526Z",
          "iopub.status.idle": "2021-02-09T04:44:13.791837Z",
          "shell.execute_reply": "2021-02-09T04:44:13.792375Z"
        },
        "papermill": {
          "duration": 13.720534,
          "end_time": "2021-02-09T04:44:13.792552",
          "exception": false,
          "start_time": "2021-02-09T04:44:00.072018",
          "status": "completed"
        },
        "tags": [],
        "id": "w0LLK_CnL140"
      },
      "outputs": [],
      "source": [
        "# Wordplot for being angry,sad,emotional\n",
        "fig, ax = plt.subplots(2, 2, figsize=(16, 8))\n",
        "k=0\n",
        "j=0\n",
        "for i in ['Sad','Fear','Surprise','Angry']:\n",
        "    dd=data[data['dominant emotion']==i]\n",
        "    text=\" \".join(dd['overall text'])\n",
        "    text=text.replace(\"stock\",' ')\n",
        "    text=text.replace(\"GME\",\" \")\n",
        "    text=text.replace(\"nan\",' ')\n",
        "    wordcloud = WordCloud(width=1500, height=500).generate(text)\n",
        "\n",
        "    ax[k,j].imshow(wordcloud, interpolation='bilinear')\n",
        "    ax[k,j].set_title(i)\n",
        "    ax[k, j].set_axis_off()\n",
        "    j+=1\n",
        "    if j>1:\n",
        "        k+=1\n",
        "        j=0\n",
        "   \n",
        "\n",
        "\n"
      ]
    },
    {
      "cell_type": "code",
      "execution_count": null,
      "metadata": {
        "_kg_hide-input": true,
        "execution": {
          "iopub.execute_input": "2021-02-09T04:44:13.920866Z",
          "iopub.status.busy": "2021-02-09T04:44:13.920120Z",
          "iopub.status.idle": "2021-02-09T04:44:19.474691Z",
          "shell.execute_reply": "2021-02-09T04:44:19.475194Z"
        },
        "papermill": {
          "duration": 5.625334,
          "end_time": "2021-02-09T04:44:19.475386",
          "exception": false,
          "start_time": "2021-02-09T04:44:13.850052",
          "status": "completed"
        },
        "tags": [],
        "id": "cFkJEhMWL140"
      },
      "outputs": [],
      "source": [
        "\n",
        "dd=data[data['dominant emotion']=='Happy']\n",
        "text=\" \".join(dd['overall text'])\n",
        "text=text.replace(\"stock\",' ')\n",
        "text=text.replace(\"GME\",\" \")\n",
        "text=text.replace(\"nan\",' ')\n",
        "wordcloud = WordCloud(width=1500, height=500).generate(text)\n",
        "plt.figure(figsize=(18,8))\n",
        "plt.imshow(wordcloud, interpolation='bilinear');\n",
        "plt.title('Happy') ;\n",
        "plt.axis(\"off\") ;\n"
      ]
    },
    {
      "cell_type": "markdown",
      "metadata": {
        "papermill": {
          "duration": 0.066576,
          "end_time": "2021-02-09T04:44:19.609900",
          "exception": false,
          "start_time": "2021-02-09T04:44:19.543324",
          "status": "completed"
        },
        "tags": [],
        "id": "yEzckU_TL140"
      },
      "source": [
        "# You can clearly see the words that are highlighted for specific sentiments"
      ]
    },
    {
      "cell_type": "markdown",
      "metadata": {
        "papermill": {
          "duration": 0.069737,
          "end_time": "2021-02-09T04:44:19.746393",
          "exception": false,
          "start_time": "2021-02-09T04:44:19.676656",
          "status": "completed"
        },
        "tags": [],
        "id": "rmz1ZkKwL140"
      },
      "source": [
        "# Hope you liked everything :)"
      ]
    },
    {
      "cell_type": "markdown",
      "metadata": {
        "papermill": {
          "duration": 0.068171,
          "end_time": "2021-02-09T04:44:19.883873",
          "exception": false,
          "start_time": "2021-02-09T04:44:19.815702",
          "status": "completed"
        },
        "tags": [],
        "id": "3fhx29S-L141"
      },
      "source": [
        "![](https://1.bp.blogspot.com/-P5lBi5oH1NY/XyIhe8sEIYI/AAAAAABHgB0/DRcxH9Ybeb0KXK7YSOxbImycBkkEaDSAwCLcBGAsYHQ/s340/AS0007060_00.gif)"
      ]
    },
    {
      "cell_type": "code",
      "execution_count": null,
      "metadata": {
        "papermill": {
          "duration": 0.067473,
          "end_time": "2021-02-09T04:44:20.018886",
          "exception": false,
          "start_time": "2021-02-09T04:44:19.951413",
          "status": "completed"
        },
        "tags": [],
        "id": "UB7DFhl9L141"
      },
      "outputs": [],
      "source": []
    }
  ],
  "metadata": {
    "kernelspec": {
      "display_name": "Python 3",
      "language": "python",
      "name": "python3"
    },
    "language_info": {
      "codemirror_mode": {
        "name": "ipython",
        "version": 3
      },
      "file_extension": ".py",
      "mimetype": "text/x-python",
      "name": "python",
      "nbconvert_exporter": "python",
      "pygments_lexer": "ipython3",
      "version": "3.7.9"
    },
    "papermill": {
      "default_parameters": {},
      "duration": 51.39629,
      "end_time": "2021-02-09T04:44:20.897523",
      "environment_variables": {},
      "exception": null,
      "input_path": "__notebook__.ipynb",
      "output_path": "__notebook__.ipynb",
      "parameters": {},
      "start_time": "2021-02-09T04:43:29.501233",
      "version": "2.2.2"
    },
    "colab": {
      "provenance": []
    }
  },
  "nbformat": 4,
  "nbformat_minor": 0
}